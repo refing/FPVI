{
 "cells": [
  {
   "cell_type": "markdown",
   "metadata": {},
   "source": [
    "# Final Project Visualisasi Informasi"
   ]
  },
  {
   "cell_type": "markdown",
   "metadata": {},
   "source": [
    "DATASET VINTAGE TOYS SALES"
   ]
  },
  {
   "cell_type": "code",
   "execution_count": 1,
   "metadata": {},
   "outputs": [],
   "source": [
    "import pandas as pd\n",
    "import matplotlib as mpl\n",
    "import matplotlib.pyplot as plt\n",
    "import seaborn as sns\n",
    "import numpy as np"
   ]
  },
  {
   "cell_type": "code",
   "execution_count": 2,
   "metadata": {},
   "outputs": [],
   "source": [
    "csv = 'sales_data_sample.csv'\n",
    "df = pd.read_csv(csv, index_col=0, encoding='ANSI')"
   ]
  },
  {
   "cell_type": "code",
   "execution_count": 3,
   "metadata": {},
   "outputs": [
    {
     "data": {
      "text/html": [
       "<div>\n",
       "<style scoped>\n",
       "    .dataframe tbody tr th:only-of-type {\n",
       "        vertical-align: middle;\n",
       "    }\n",
       "\n",
       "    .dataframe tbody tr th {\n",
       "        vertical-align: top;\n",
       "    }\n",
       "\n",
       "    .dataframe thead th {\n",
       "        text-align: right;\n",
       "    }\n",
       "</style>\n",
       "<table border=\"1\" class=\"dataframe\">\n",
       "  <thead>\n",
       "    <tr style=\"text-align: right;\">\n",
       "      <th></th>\n",
       "      <th>QUANTITYORDERED</th>\n",
       "      <th>PRICEEACH</th>\n",
       "      <th>ORDERLINENUMBER</th>\n",
       "      <th>SALES</th>\n",
       "      <th>ORDERDATE</th>\n",
       "      <th>STATUS</th>\n",
       "      <th>QTR_ID</th>\n",
       "      <th>MONTH_ID</th>\n",
       "      <th>YEAR_ID</th>\n",
       "      <th>PRODUCTLINE</th>\n",
       "      <th>MSRP</th>\n",
       "      <th>PRODUCTCODE</th>\n",
       "      <th>CUSTOMERNAME</th>\n",
       "      <th>PHONE</th>\n",
       "      <th>ADDRESSLINE1</th>\n",
       "      <th>ADDRESSLINE2</th>\n",
       "      <th>CITY</th>\n",
       "      <th>STATE</th>\n",
       "      <th>POSTALCODE</th>\n",
       "      <th>COUNTRY</th>\n",
       "      <th>TERRITORY</th>\n",
       "      <th>CONTACTLASTNAME</th>\n",
       "      <th>CONTACTFIRSTNAME</th>\n",
       "      <th>DEALSIZE</th>\n",
       "    </tr>\n",
       "    <tr>\n",
       "      <th>ORDERNUMBER</th>\n",
       "      <th></th>\n",
       "      <th></th>\n",
       "      <th></th>\n",
       "      <th></th>\n",
       "      <th></th>\n",
       "      <th></th>\n",
       "      <th></th>\n",
       "      <th></th>\n",
       "      <th></th>\n",
       "      <th></th>\n",
       "      <th></th>\n",
       "      <th></th>\n",
       "      <th></th>\n",
       "      <th></th>\n",
       "      <th></th>\n",
       "      <th></th>\n",
       "      <th></th>\n",
       "      <th></th>\n",
       "      <th></th>\n",
       "      <th></th>\n",
       "      <th></th>\n",
       "      <th></th>\n",
       "      <th></th>\n",
       "      <th></th>\n",
       "    </tr>\n",
       "  </thead>\n",
       "  <tbody>\n",
       "    <tr>\n",
       "      <th>10107</th>\n",
       "      <td>30</td>\n",
       "      <td>95.70</td>\n",
       "      <td>2</td>\n",
       "      <td>2871.00</td>\n",
       "      <td>2/24/2003 0:00</td>\n",
       "      <td>Shipped</td>\n",
       "      <td>1</td>\n",
       "      <td>2</td>\n",
       "      <td>2003</td>\n",
       "      <td>Motorcycles</td>\n",
       "      <td>95</td>\n",
       "      <td>S10_1678</td>\n",
       "      <td>Land of Toys Inc.</td>\n",
       "      <td>2125557818</td>\n",
       "      <td>897 Long Airport Avenue</td>\n",
       "      <td>NaN</td>\n",
       "      <td>NYC</td>\n",
       "      <td>NY</td>\n",
       "      <td>10022</td>\n",
       "      <td>USA</td>\n",
       "      <td>NaN</td>\n",
       "      <td>Yu</td>\n",
       "      <td>Kwai</td>\n",
       "      <td>Small</td>\n",
       "    </tr>\n",
       "    <tr>\n",
       "      <th>10121</th>\n",
       "      <td>34</td>\n",
       "      <td>81.35</td>\n",
       "      <td>5</td>\n",
       "      <td>2765.90</td>\n",
       "      <td>5/7/2003 0:00</td>\n",
       "      <td>Shipped</td>\n",
       "      <td>2</td>\n",
       "      <td>5</td>\n",
       "      <td>2003</td>\n",
       "      <td>Motorcycles</td>\n",
       "      <td>95</td>\n",
       "      <td>S10_1678</td>\n",
       "      <td>Reims Collectables</td>\n",
       "      <td>26.47.1555</td>\n",
       "      <td>59 rue de l'Abbaye</td>\n",
       "      <td>NaN</td>\n",
       "      <td>Reims</td>\n",
       "      <td>NaN</td>\n",
       "      <td>51100</td>\n",
       "      <td>France</td>\n",
       "      <td>EMEA</td>\n",
       "      <td>Henriot</td>\n",
       "      <td>Paul</td>\n",
       "      <td>Small</td>\n",
       "    </tr>\n",
       "    <tr>\n",
       "      <th>10134</th>\n",
       "      <td>41</td>\n",
       "      <td>94.74</td>\n",
       "      <td>2</td>\n",
       "      <td>3884.34</td>\n",
       "      <td>7/1/2003 0:00</td>\n",
       "      <td>Shipped</td>\n",
       "      <td>3</td>\n",
       "      <td>7</td>\n",
       "      <td>2003</td>\n",
       "      <td>Motorcycles</td>\n",
       "      <td>95</td>\n",
       "      <td>S10_1678</td>\n",
       "      <td>Lyon Souveniers</td>\n",
       "      <td>+33 1 46 62 7555</td>\n",
       "      <td>27 rue du Colonel Pierre Avia</td>\n",
       "      <td>NaN</td>\n",
       "      <td>Paris</td>\n",
       "      <td>NaN</td>\n",
       "      <td>75508</td>\n",
       "      <td>France</td>\n",
       "      <td>EMEA</td>\n",
       "      <td>Da Cunha</td>\n",
       "      <td>Daniel</td>\n",
       "      <td>Medium</td>\n",
       "    </tr>\n",
       "    <tr>\n",
       "      <th>10145</th>\n",
       "      <td>45</td>\n",
       "      <td>83.26</td>\n",
       "      <td>6</td>\n",
       "      <td>3746.70</td>\n",
       "      <td>8/25/2003 0:00</td>\n",
       "      <td>Shipped</td>\n",
       "      <td>3</td>\n",
       "      <td>8</td>\n",
       "      <td>2003</td>\n",
       "      <td>Motorcycles</td>\n",
       "      <td>95</td>\n",
       "      <td>S10_1678</td>\n",
       "      <td>Toys4GrownUps.com</td>\n",
       "      <td>6265557265</td>\n",
       "      <td>78934 Hillside Dr.</td>\n",
       "      <td>NaN</td>\n",
       "      <td>Pasadena</td>\n",
       "      <td>CA</td>\n",
       "      <td>90003</td>\n",
       "      <td>USA</td>\n",
       "      <td>NaN</td>\n",
       "      <td>Young</td>\n",
       "      <td>Julie</td>\n",
       "      <td>Medium</td>\n",
       "    </tr>\n",
       "    <tr>\n",
       "      <th>10159</th>\n",
       "      <td>49</td>\n",
       "      <td>100.00</td>\n",
       "      <td>14</td>\n",
       "      <td>5205.27</td>\n",
       "      <td>10/10/2003 0:00</td>\n",
       "      <td>Shipped</td>\n",
       "      <td>4</td>\n",
       "      <td>10</td>\n",
       "      <td>2003</td>\n",
       "      <td>Motorcycles</td>\n",
       "      <td>95</td>\n",
       "      <td>S10_1678</td>\n",
       "      <td>Corporate Gift Ideas Co.</td>\n",
       "      <td>6505551386</td>\n",
       "      <td>7734 Strong St.</td>\n",
       "      <td>NaN</td>\n",
       "      <td>San Francisco</td>\n",
       "      <td>CA</td>\n",
       "      <td>NaN</td>\n",
       "      <td>USA</td>\n",
       "      <td>NaN</td>\n",
       "      <td>Brown</td>\n",
       "      <td>Julie</td>\n",
       "      <td>Medium</td>\n",
       "    </tr>\n",
       "    <tr>\n",
       "      <th>10168</th>\n",
       "      <td>36</td>\n",
       "      <td>96.66</td>\n",
       "      <td>1</td>\n",
       "      <td>3479.76</td>\n",
       "      <td>10/28/2003 0:00</td>\n",
       "      <td>Shipped</td>\n",
       "      <td>4</td>\n",
       "      <td>10</td>\n",
       "      <td>2003</td>\n",
       "      <td>Motorcycles</td>\n",
       "      <td>95</td>\n",
       "      <td>S10_1678</td>\n",
       "      <td>Technics Stores Inc.</td>\n",
       "      <td>6505556809</td>\n",
       "      <td>9408 Furth Circle</td>\n",
       "      <td>NaN</td>\n",
       "      <td>Burlingame</td>\n",
       "      <td>CA</td>\n",
       "      <td>94217</td>\n",
       "      <td>USA</td>\n",
       "      <td>NaN</td>\n",
       "      <td>Hirano</td>\n",
       "      <td>Juri</td>\n",
       "      <td>Medium</td>\n",
       "    </tr>\n",
       "    <tr>\n",
       "      <th>10180</th>\n",
       "      <td>29</td>\n",
       "      <td>86.13</td>\n",
       "      <td>9</td>\n",
       "      <td>2497.77</td>\n",
       "      <td>11/11/2003 0:00</td>\n",
       "      <td>Shipped</td>\n",
       "      <td>4</td>\n",
       "      <td>11</td>\n",
       "      <td>2003</td>\n",
       "      <td>Motorcycles</td>\n",
       "      <td>95</td>\n",
       "      <td>S10_1678</td>\n",
       "      <td>Daedalus Designs Imports</td>\n",
       "      <td>20.16.1555</td>\n",
       "      <td>184, chausse de Tournai</td>\n",
       "      <td>NaN</td>\n",
       "      <td>Lille</td>\n",
       "      <td>NaN</td>\n",
       "      <td>59000</td>\n",
       "      <td>France</td>\n",
       "      <td>EMEA</td>\n",
       "      <td>Rance</td>\n",
       "      <td>Martine</td>\n",
       "      <td>Small</td>\n",
       "    </tr>\n",
       "    <tr>\n",
       "      <th>10188</th>\n",
       "      <td>48</td>\n",
       "      <td>100.00</td>\n",
       "      <td>1</td>\n",
       "      <td>5512.32</td>\n",
       "      <td>11/18/2003 0:00</td>\n",
       "      <td>Shipped</td>\n",
       "      <td>4</td>\n",
       "      <td>11</td>\n",
       "      <td>2003</td>\n",
       "      <td>Motorcycles</td>\n",
       "      <td>95</td>\n",
       "      <td>S10_1678</td>\n",
       "      <td>Herkku Gifts</td>\n",
       "      <td>+47 2267 3215</td>\n",
       "      <td>Drammen 121, PR 744 Sentrum</td>\n",
       "      <td>NaN</td>\n",
       "      <td>Bergen</td>\n",
       "      <td>NaN</td>\n",
       "      <td>N 5804</td>\n",
       "      <td>Norway</td>\n",
       "      <td>EMEA</td>\n",
       "      <td>Oeztan</td>\n",
       "      <td>Veysel</td>\n",
       "      <td>Medium</td>\n",
       "    </tr>\n",
       "    <tr>\n",
       "      <th>10201</th>\n",
       "      <td>22</td>\n",
       "      <td>98.57</td>\n",
       "      <td>2</td>\n",
       "      <td>2168.54</td>\n",
       "      <td>12/1/2003 0:00</td>\n",
       "      <td>Shipped</td>\n",
       "      <td>4</td>\n",
       "      <td>12</td>\n",
       "      <td>2003</td>\n",
       "      <td>Motorcycles</td>\n",
       "      <td>95</td>\n",
       "      <td>S10_1678</td>\n",
       "      <td>Mini Wheels Co.</td>\n",
       "      <td>6505555787</td>\n",
       "      <td>5557 North Pendale Street</td>\n",
       "      <td>NaN</td>\n",
       "      <td>San Francisco</td>\n",
       "      <td>CA</td>\n",
       "      <td>NaN</td>\n",
       "      <td>USA</td>\n",
       "      <td>NaN</td>\n",
       "      <td>Murphy</td>\n",
       "      <td>Julie</td>\n",
       "      <td>Small</td>\n",
       "    </tr>\n",
       "    <tr>\n",
       "      <th>10211</th>\n",
       "      <td>41</td>\n",
       "      <td>100.00</td>\n",
       "      <td>14</td>\n",
       "      <td>4708.44</td>\n",
       "      <td>1/15/2004 0:00</td>\n",
       "      <td>Shipped</td>\n",
       "      <td>1</td>\n",
       "      <td>1</td>\n",
       "      <td>2004</td>\n",
       "      <td>Motorcycles</td>\n",
       "      <td>95</td>\n",
       "      <td>S10_1678</td>\n",
       "      <td>Auto Canal Petit</td>\n",
       "      <td>(1) 47.55.6555</td>\n",
       "      <td>25, rue Lauriston</td>\n",
       "      <td>NaN</td>\n",
       "      <td>Paris</td>\n",
       "      <td>NaN</td>\n",
       "      <td>75016</td>\n",
       "      <td>France</td>\n",
       "      <td>EMEA</td>\n",
       "      <td>Perrier</td>\n",
       "      <td>Dominique</td>\n",
       "      <td>Medium</td>\n",
       "    </tr>\n",
       "  </tbody>\n",
       "</table>\n",
       "</div>"
      ],
      "text/plain": [
       "             QUANTITYORDERED  PRICEEACH  ORDERLINENUMBER    SALES  \\\n",
       "ORDERNUMBER                                                         \n",
       "10107                     30      95.70                2  2871.00   \n",
       "10121                     34      81.35                5  2765.90   \n",
       "10134                     41      94.74                2  3884.34   \n",
       "10145                     45      83.26                6  3746.70   \n",
       "10159                     49     100.00               14  5205.27   \n",
       "10168                     36      96.66                1  3479.76   \n",
       "10180                     29      86.13                9  2497.77   \n",
       "10188                     48     100.00                1  5512.32   \n",
       "10201                     22      98.57                2  2168.54   \n",
       "10211                     41     100.00               14  4708.44   \n",
       "\n",
       "                   ORDERDATE   STATUS  QTR_ID  MONTH_ID  YEAR_ID  PRODUCTLINE  \\\n",
       "ORDERNUMBER                                                                     \n",
       "10107         2/24/2003 0:00  Shipped       1         2     2003  Motorcycles   \n",
       "10121          5/7/2003 0:00  Shipped       2         5     2003  Motorcycles   \n",
       "10134          7/1/2003 0:00  Shipped       3         7     2003  Motorcycles   \n",
       "10145         8/25/2003 0:00  Shipped       3         8     2003  Motorcycles   \n",
       "10159        10/10/2003 0:00  Shipped       4        10     2003  Motorcycles   \n",
       "10168        10/28/2003 0:00  Shipped       4        10     2003  Motorcycles   \n",
       "10180        11/11/2003 0:00  Shipped       4        11     2003  Motorcycles   \n",
       "10188        11/18/2003 0:00  Shipped       4        11     2003  Motorcycles   \n",
       "10201         12/1/2003 0:00  Shipped       4        12     2003  Motorcycles   \n",
       "10211         1/15/2004 0:00  Shipped       1         1     2004  Motorcycles   \n",
       "\n",
       "             MSRP PRODUCTCODE              CUSTOMERNAME             PHONE  \\\n",
       "ORDERNUMBER                                                                 \n",
       "10107          95    S10_1678         Land of Toys Inc.        2125557818   \n",
       "10121          95    S10_1678        Reims Collectables        26.47.1555   \n",
       "10134          95    S10_1678           Lyon Souveniers  +33 1 46 62 7555   \n",
       "10145          95    S10_1678         Toys4GrownUps.com        6265557265   \n",
       "10159          95    S10_1678  Corporate Gift Ideas Co.        6505551386   \n",
       "10168          95    S10_1678      Technics Stores Inc.        6505556809   \n",
       "10180          95    S10_1678  Daedalus Designs Imports        20.16.1555   \n",
       "10188          95    S10_1678              Herkku Gifts     +47 2267 3215   \n",
       "10201          95    S10_1678           Mini Wheels Co.        6505555787   \n",
       "10211          95    S10_1678          Auto Canal Petit    (1) 47.55.6555   \n",
       "\n",
       "                              ADDRESSLINE1 ADDRESSLINE2           CITY STATE  \\\n",
       "ORDERNUMBER                                                                    \n",
       "10107              897 Long Airport Avenue          NaN            NYC    NY   \n",
       "10121                   59 rue de l'Abbaye          NaN          Reims   NaN   \n",
       "10134        27 rue du Colonel Pierre Avia          NaN          Paris   NaN   \n",
       "10145                   78934 Hillside Dr.          NaN       Pasadena    CA   \n",
       "10159                      7734 Strong St.          NaN  San Francisco    CA   \n",
       "10168                    9408 Furth Circle          NaN     Burlingame    CA   \n",
       "10180              184, chausse de Tournai          NaN          Lille   NaN   \n",
       "10188          Drammen 121, PR 744 Sentrum          NaN         Bergen   NaN   \n",
       "10201            5557 North Pendale Street          NaN  San Francisco    CA   \n",
       "10211                    25, rue Lauriston          NaN          Paris   NaN   \n",
       "\n",
       "            POSTALCODE COUNTRY TERRITORY CONTACTLASTNAME CONTACTFIRSTNAME  \\\n",
       "ORDERNUMBER                                                                 \n",
       "10107            10022     USA       NaN              Yu             Kwai   \n",
       "10121            51100  France      EMEA         Henriot             Paul   \n",
       "10134            75508  France      EMEA        Da Cunha           Daniel   \n",
       "10145            90003     USA       NaN           Young            Julie   \n",
       "10159              NaN     USA       NaN           Brown            Julie   \n",
       "10168            94217     USA       NaN          Hirano             Juri   \n",
       "10180            59000  France      EMEA           Rance          Martine   \n",
       "10188           N 5804  Norway      EMEA          Oeztan           Veysel   \n",
       "10201              NaN     USA       NaN          Murphy            Julie   \n",
       "10211            75016  France      EMEA         Perrier        Dominique   \n",
       "\n",
       "            DEALSIZE  \n",
       "ORDERNUMBER           \n",
       "10107          Small  \n",
       "10121          Small  \n",
       "10134         Medium  \n",
       "10145         Medium  \n",
       "10159         Medium  \n",
       "10168         Medium  \n",
       "10180          Small  \n",
       "10188         Medium  \n",
       "10201          Small  \n",
       "10211         Medium  "
      ]
     },
     "execution_count": 3,
     "metadata": {},
     "output_type": "execute_result"
    }
   ],
   "source": [
    "pd.set_option('display.max_columns', None)\n",
    "df.head(10)"
   ]
  },
  {
   "cell_type": "code",
   "execution_count": 4,
   "metadata": {},
   "outputs": [
    {
     "data": {
      "text/html": [
       "<div>\n",
       "<style scoped>\n",
       "    .dataframe tbody tr th:only-of-type {\n",
       "        vertical-align: middle;\n",
       "    }\n",
       "\n",
       "    .dataframe tbody tr th {\n",
       "        vertical-align: top;\n",
       "    }\n",
       "\n",
       "    .dataframe thead th {\n",
       "        text-align: right;\n",
       "    }\n",
       "</style>\n",
       "<table border=\"1\" class=\"dataframe\">\n",
       "  <thead>\n",
       "    <tr style=\"text-align: right;\">\n",
       "      <th></th>\n",
       "      <th>QUANTITYORDERED</th>\n",
       "      <th>PRICEEACH</th>\n",
       "      <th>ORDERLINENUMBER</th>\n",
       "      <th>SALES</th>\n",
       "      <th>QTR_ID</th>\n",
       "      <th>MONTH_ID</th>\n",
       "      <th>YEAR_ID</th>\n",
       "      <th>MSRP</th>\n",
       "    </tr>\n",
       "  </thead>\n",
       "  <tbody>\n",
       "    <tr>\n",
       "      <th>count</th>\n",
       "      <td>2823.000000</td>\n",
       "      <td>2823.000000</td>\n",
       "      <td>2823.000000</td>\n",
       "      <td>2823.000000</td>\n",
       "      <td>2823.000000</td>\n",
       "      <td>2823.000000</td>\n",
       "      <td>2823.00000</td>\n",
       "      <td>2823.000000</td>\n",
       "    </tr>\n",
       "    <tr>\n",
       "      <th>mean</th>\n",
       "      <td>35.092809</td>\n",
       "      <td>83.658544</td>\n",
       "      <td>6.466171</td>\n",
       "      <td>3553.889072</td>\n",
       "      <td>2.717676</td>\n",
       "      <td>7.092455</td>\n",
       "      <td>2003.81509</td>\n",
       "      <td>100.715551</td>\n",
       "    </tr>\n",
       "    <tr>\n",
       "      <th>std</th>\n",
       "      <td>9.741443</td>\n",
       "      <td>20.174277</td>\n",
       "      <td>4.225841</td>\n",
       "      <td>1841.865106</td>\n",
       "      <td>1.203878</td>\n",
       "      <td>3.656633</td>\n",
       "      <td>0.69967</td>\n",
       "      <td>40.187912</td>\n",
       "    </tr>\n",
       "    <tr>\n",
       "      <th>min</th>\n",
       "      <td>6.000000</td>\n",
       "      <td>26.880000</td>\n",
       "      <td>1.000000</td>\n",
       "      <td>482.130000</td>\n",
       "      <td>1.000000</td>\n",
       "      <td>1.000000</td>\n",
       "      <td>2003.00000</td>\n",
       "      <td>33.000000</td>\n",
       "    </tr>\n",
       "    <tr>\n",
       "      <th>25%</th>\n",
       "      <td>27.000000</td>\n",
       "      <td>68.860000</td>\n",
       "      <td>3.000000</td>\n",
       "      <td>2203.430000</td>\n",
       "      <td>2.000000</td>\n",
       "      <td>4.000000</td>\n",
       "      <td>2003.00000</td>\n",
       "      <td>68.000000</td>\n",
       "    </tr>\n",
       "    <tr>\n",
       "      <th>50%</th>\n",
       "      <td>35.000000</td>\n",
       "      <td>95.700000</td>\n",
       "      <td>6.000000</td>\n",
       "      <td>3184.800000</td>\n",
       "      <td>3.000000</td>\n",
       "      <td>8.000000</td>\n",
       "      <td>2004.00000</td>\n",
       "      <td>99.000000</td>\n",
       "    </tr>\n",
       "    <tr>\n",
       "      <th>75%</th>\n",
       "      <td>43.000000</td>\n",
       "      <td>100.000000</td>\n",
       "      <td>9.000000</td>\n",
       "      <td>4508.000000</td>\n",
       "      <td>4.000000</td>\n",
       "      <td>11.000000</td>\n",
       "      <td>2004.00000</td>\n",
       "      <td>124.000000</td>\n",
       "    </tr>\n",
       "    <tr>\n",
       "      <th>max</th>\n",
       "      <td>97.000000</td>\n",
       "      <td>100.000000</td>\n",
       "      <td>18.000000</td>\n",
       "      <td>14082.800000</td>\n",
       "      <td>4.000000</td>\n",
       "      <td>12.000000</td>\n",
       "      <td>2005.00000</td>\n",
       "      <td>214.000000</td>\n",
       "    </tr>\n",
       "  </tbody>\n",
       "</table>\n",
       "</div>"
      ],
      "text/plain": [
       "       QUANTITYORDERED    PRICEEACH  ORDERLINENUMBER         SALES  \\\n",
       "count      2823.000000  2823.000000      2823.000000   2823.000000   \n",
       "mean         35.092809    83.658544         6.466171   3553.889072   \n",
       "std           9.741443    20.174277         4.225841   1841.865106   \n",
       "min           6.000000    26.880000         1.000000    482.130000   \n",
       "25%          27.000000    68.860000         3.000000   2203.430000   \n",
       "50%          35.000000    95.700000         6.000000   3184.800000   \n",
       "75%          43.000000   100.000000         9.000000   4508.000000   \n",
       "max          97.000000   100.000000        18.000000  14082.800000   \n",
       "\n",
       "            QTR_ID     MONTH_ID     YEAR_ID         MSRP  \n",
       "count  2823.000000  2823.000000  2823.00000  2823.000000  \n",
       "mean      2.717676     7.092455  2003.81509   100.715551  \n",
       "std       1.203878     3.656633     0.69967    40.187912  \n",
       "min       1.000000     1.000000  2003.00000    33.000000  \n",
       "25%       2.000000     4.000000  2003.00000    68.000000  \n",
       "50%       3.000000     8.000000  2004.00000    99.000000  \n",
       "75%       4.000000    11.000000  2004.00000   124.000000  \n",
       "max       4.000000    12.000000  2005.00000   214.000000  "
      ]
     },
     "execution_count": 4,
     "metadata": {},
     "output_type": "execute_result"
    }
   ],
   "source": [
    "df.describe()"
   ]
  },
  {
   "cell_type": "code",
   "execution_count": 5,
   "metadata": {},
   "outputs": [
    {
     "name": "stdout",
     "output_type": "stream",
     "text": [
      "<class 'pandas.core.frame.DataFrame'>\n",
      "Int64Index: 2823 entries, 10107 to 10414\n",
      "Data columns (total 24 columns):\n",
      "QUANTITYORDERED     2823 non-null int64\n",
      "PRICEEACH           2823 non-null float64\n",
      "ORDERLINENUMBER     2823 non-null int64\n",
      "SALES               2823 non-null float64\n",
      "ORDERDATE           2823 non-null object\n",
      "STATUS              2823 non-null object\n",
      "QTR_ID              2823 non-null int64\n",
      "MONTH_ID            2823 non-null int64\n",
      "YEAR_ID             2823 non-null int64\n",
      "PRODUCTLINE         2823 non-null object\n",
      "MSRP                2823 non-null int64\n",
      "PRODUCTCODE         2823 non-null object\n",
      "CUSTOMERNAME        2823 non-null object\n",
      "PHONE               2823 non-null object\n",
      "ADDRESSLINE1        2823 non-null object\n",
      "ADDRESSLINE2        302 non-null object\n",
      "CITY                2823 non-null object\n",
      "STATE               1337 non-null object\n",
      "POSTALCODE          2747 non-null object\n",
      "COUNTRY             2823 non-null object\n",
      "TERRITORY           1749 non-null object\n",
      "CONTACTLASTNAME     2823 non-null object\n",
      "CONTACTFIRSTNAME    2823 non-null object\n",
      "DEALSIZE            2823 non-null object\n",
      "dtypes: float64(2), int64(6), object(16)\n",
      "memory usage: 551.4+ KB\n"
     ]
    }
   ],
   "source": [
    "df.info()"
   ]
  },
  {
   "cell_type": "markdown",
   "metadata": {},
   "source": [
    "## 1.\tTotal penjualan berdasarkan produk"
   ]
  },
  {
   "cell_type": "code",
   "execution_count": 6,
   "metadata": {},
   "outputs": [
    {
     "data": {
      "text/plain": [
       "array(['Motorcycles', 'Classic Cars', 'Trucks and Buses', 'Vintage Cars',\n",
       "       'Planes', 'Ships', 'Trains'], dtype=object)"
      ]
     },
     "execution_count": 6,
     "metadata": {},
     "output_type": "execute_result"
    }
   ],
   "source": [
    "df.PRODUCTLINE.unique()"
   ]
  },
  {
   "cell_type": "code",
   "execution_count": 7,
   "metadata": {},
   "outputs": [
    {
     "data": {
      "text/html": [
       "<div>\n",
       "<style scoped>\n",
       "    .dataframe tbody tr th:only-of-type {\n",
       "        vertical-align: middle;\n",
       "    }\n",
       "\n",
       "    .dataframe tbody tr th {\n",
       "        vertical-align: top;\n",
       "    }\n",
       "\n",
       "    .dataframe thead th {\n",
       "        text-align: right;\n",
       "    }\n",
       "</style>\n",
       "<table border=\"1\" class=\"dataframe\">\n",
       "  <thead>\n",
       "    <tr style=\"text-align: right;\">\n",
       "      <th></th>\n",
       "      <th>PRODUCTLINE</th>\n",
       "      <th>SALES</th>\n",
       "    </tr>\n",
       "  </thead>\n",
       "  <tbody>\n",
       "    <tr>\n",
       "      <th>0</th>\n",
       "      <td>Classic Cars</td>\n",
       "      <td>3919615.66</td>\n",
       "    </tr>\n",
       "    <tr>\n",
       "      <th>1</th>\n",
       "      <td>Motorcycles</td>\n",
       "      <td>1166388.34</td>\n",
       "    </tr>\n",
       "    <tr>\n",
       "      <th>2</th>\n",
       "      <td>Planes</td>\n",
       "      <td>975003.57</td>\n",
       "    </tr>\n",
       "    <tr>\n",
       "      <th>3</th>\n",
       "      <td>Ships</td>\n",
       "      <td>714437.13</td>\n",
       "    </tr>\n",
       "    <tr>\n",
       "      <th>4</th>\n",
       "      <td>Trains</td>\n",
       "      <td>226243.47</td>\n",
       "    </tr>\n",
       "    <tr>\n",
       "      <th>5</th>\n",
       "      <td>Trucks and Buses</td>\n",
       "      <td>1127789.84</td>\n",
       "    </tr>\n",
       "    <tr>\n",
       "      <th>6</th>\n",
       "      <td>Vintage Cars</td>\n",
       "      <td>1903150.84</td>\n",
       "    </tr>\n",
       "  </tbody>\n",
       "</table>\n",
       "</div>"
      ],
      "text/plain": [
       "        PRODUCTLINE       SALES\n",
       "0      Classic Cars  3919615.66\n",
       "1       Motorcycles  1166388.34\n",
       "2            Planes   975003.57\n",
       "3             Ships   714437.13\n",
       "4            Trains   226243.47\n",
       "5  Trucks and Buses  1127789.84\n",
       "6      Vintage Cars  1903150.84"
      ]
     },
     "execution_count": 7,
     "metadata": {},
     "output_type": "execute_result"
    }
   ],
   "source": [
    "prod=df.groupby(['PRODUCTLINE']).agg({'SALES': lambda x: x.sum() })\n",
    "df1=pd.DataFrame(data = prod)\n",
    "df1=df1.reset_index()\n",
    "df1"
   ]
  },
  {
   "cell_type": "code",
   "execution_count": 26,
   "metadata": {},
   "outputs": [
    {
     "data": {
      "image/png": "[encoded data removed]",
      "text/plain": [
       "<Figure size 864x648 with 1 Axes>"
      ]
     },
     "metadata": {},
     "output_type": "display_data"
    }
   ],
   "source": [
    "names=df1['PRODUCTLINE']\n",
    "size=df1['SALES']\n",
    "my_circle=plt.Circle( (0,0), 0.7, color='white')\n",
    "plt.pie(size, labels=names, wedgeprops = { 'linewidth' : 7, 'edgecolor' : 'white' }, textprops={'fontsize': 14})\n",
    "p=plt.gcf()\n",
    "p.gca().add_artist(my_circle)\n",
    "plt.show()\n",
    "\n",
    "plt.rcParams[\"figure.figsize\"] = [12,9]"
   ]
  },
  {
   "cell_type": "markdown",
   "metadata": {},
   "source": [
    "## 2.\tCustomer dengan total pembelian terbanyak"
   ]
  },
  {
   "cell_type": "code",
   "execution_count": 9,
   "metadata": {},
   "outputs": [
    {
     "data": {
      "text/plain": [
       "array(['Land of Toys Inc.', 'Reims Collectables', 'Lyon Souveniers',\n",
       "       'Toys4GrownUps.com', 'Corporate Gift Ideas Co.',\n",
       "       'Technics Stores Inc.', 'Daedalus Designs Imports', 'Herkku Gifts',\n",
       "       'Mini Wheels Co.', 'Auto Canal Petit',\n",
       "       'Australian Collectors, Co.', 'Vitachrome Inc.',\n",
       "       'Tekni Collectables Inc.', 'Gift Depot Inc.', 'La Rochelle Gifts',\n",
       "       \"Marta's Replicas Co.\", 'Toys of Finland, Co.',\n",
       "       'Baane Mini Imports', 'Diecast Classics Inc.',\n",
       "       'Salzburg Collectables', 'Souveniers And Things Co.',\n",
       "       'FunGiftIdeas.com', 'UK Collectables, Ltd.',\n",
       "       'Euro Shopping Channel', 'Volvo Model Replicas, Co',\n",
       "       'Corrida Auto Replicas, Ltd', 'Dragon Souveniers, Ltd.',\n",
       "       'Classic Legends Inc.', 'Australian Gift Network, Co',\n",
       "       'Classic Gift Ideas, Inc', 'Saveley & Henriot, Co.',\n",
       "       'Canadian Gift Exchange Network', 'West Coast Collectables Co.',\n",
       "       'Cambridge Collectables Co.', 'Super Scale Inc.',\n",
       "       'Tokyo Collectables, Ltd', 'Amica Models & Co.',\n",
       "       'Scandinavian Gift Ideas', 'Auto Assoc. & Cie.',\n",
       "       'Mini Gifts Distributors Ltd.', 'Online Diecast Creations Co.',\n",
       "       'Collectables For Less Inc.', \"Anna's Decorations, Ltd\",\n",
       "       'Quebec Home Shopping Network', 'Osaka Souveniers Co.',\n",
       "       'Motor Mint Distributors Inc.', 'Atelier graphique',\n",
       "       'Mini Classics', 'Danish Wholesale Imports',\n",
       "       'Stylish Desk Decors, Co.', 'Mini Creations Ltd.', 'Alpha Cognac',\n",
       "       'Double Decker Gift Stores, Ltd', 'Enaco Distributors',\n",
       "       \"Men 'R' US Retailers, Ltd.\", 'Collectable Mini Designs Co.',\n",
       "       'Petit Auto', 'Royal Canadian Collectables, Ltd.',\n",
       "       'Gifts4AllAges.com', 'giftsbymail.co.uk',\n",
       "       'Oulu Toy Supplies, Inc.', 'The Sharp Gifts Warehouse',\n",
       "       \"La Corne D'abondance, Co.\", 'Mini Auto Werke',\n",
       "       'Diecast Collectables', 'Handji Gifts& Co', 'Cruz & Sons Co.',\n",
       "       'Marseille Mini Autos', 'Toms Spezialitten, Ltd',\n",
       "       'Vida Sport, Ltd', \"L'ordine Souveniers\",\n",
       "       'Online Mini Collectables', 'Blauer See Auto, Co.',\n",
       "       'Suominen Souveniers', 'Muscle Machine Inc',\n",
       "       'Clover Collections, Co.', 'CAF Imports', 'AV Stores, Co.',\n",
       "       'Heintze Collectables', 'Microscale Inc.', 'Boards & Toys Co.',\n",
       "       'Iberia Gift Imports, Corp.', 'Signal Collectibles Ltd.',\n",
       "       'Mini Caravy', 'Signal Gift Stores', 'Norway Gifts By Mail, Co.',\n",
       "       'Rovelli Gifts', 'Australian Collectables, Ltd',\n",
       "       'Gift Ideas Corp.', 'Bavarian Collectables Imports, Co.',\n",
       "       'Royale Belge', 'Auto-Moto Classics Inc.'], dtype=object)"
      ]
     },
     "execution_count": 9,
     "metadata": {},
     "output_type": "execute_result"
    }
   ],
   "source": [
    "df.CUSTOMERNAME.unique()"
   ]
  },
  {
   "cell_type": "code",
   "execution_count": 10,
   "metadata": {},
   "outputs": [
    {
     "data": {
      "text/html": [
       "<div>\n",
       "<style scoped>\n",
       "    .dataframe tbody tr th:only-of-type {\n",
       "        vertical-align: middle;\n",
       "    }\n",
       "\n",
       "    .dataframe tbody tr th {\n",
       "        vertical-align: top;\n",
       "    }\n",
       "\n",
       "    .dataframe thead th {\n",
       "        text-align: right;\n",
       "    }\n",
       "</style>\n",
       "<table border=\"1\" class=\"dataframe\">\n",
       "  <thead>\n",
       "    <tr style=\"text-align: right;\">\n",
       "      <th></th>\n",
       "      <th>CUSTOMERNAME</th>\n",
       "      <th>Total Pembelian</th>\n",
       "    </tr>\n",
       "  </thead>\n",
       "  <tbody>\n",
       "    <tr>\n",
       "      <th>0</th>\n",
       "      <td>Euro Shopping Channel</td>\n",
       "      <td>912294.11</td>\n",
       "    </tr>\n",
       "    <tr>\n",
       "      <th>1</th>\n",
       "      <td>Mini Gifts Distributors Ltd.</td>\n",
       "      <td>654858.06</td>\n",
       "    </tr>\n",
       "    <tr>\n",
       "      <th>2</th>\n",
       "      <td>Australian Collectors, Co.</td>\n",
       "      <td>200995.41</td>\n",
       "    </tr>\n",
       "    <tr>\n",
       "      <th>3</th>\n",
       "      <td>Muscle Machine Inc</td>\n",
       "      <td>197736.94</td>\n",
       "    </tr>\n",
       "    <tr>\n",
       "      <th>4</th>\n",
       "      <td>La Rochelle Gifts</td>\n",
       "      <td>180124.90</td>\n",
       "    </tr>\n",
       "    <tr>\n",
       "      <th>5</th>\n",
       "      <td>Dragon Souveniers, Ltd.</td>\n",
       "      <td>172989.68</td>\n",
       "    </tr>\n",
       "    <tr>\n",
       "      <th>6</th>\n",
       "      <td>Land of Toys Inc.</td>\n",
       "      <td>164069.44</td>\n",
       "    </tr>\n",
       "    <tr>\n",
       "      <th>7</th>\n",
       "      <td>The Sharp Gifts Warehouse</td>\n",
       "      <td>160010.27</td>\n",
       "    </tr>\n",
       "    <tr>\n",
       "      <th>8</th>\n",
       "      <td>AV Stores, Co.</td>\n",
       "      <td>157807.81</td>\n",
       "    </tr>\n",
       "    <tr>\n",
       "      <th>9</th>\n",
       "      <td>Anna's Decorations, Ltd</td>\n",
       "      <td>153996.13</td>\n",
       "    </tr>\n",
       "    <tr>\n",
       "      <th>10</th>\n",
       "      <td>Souveniers And Things Co.</td>\n",
       "      <td>151570.98</td>\n",
       "    </tr>\n",
       "    <tr>\n",
       "      <th>11</th>\n",
       "      <td>Corporate Gift Ideas Co.</td>\n",
       "      <td>149882.50</td>\n",
       "    </tr>\n",
       "    <tr>\n",
       "      <th>12</th>\n",
       "      <td>Salzburg Collectables</td>\n",
       "      <td>149798.63</td>\n",
       "    </tr>\n",
       "    <tr>\n",
       "      <th>13</th>\n",
       "      <td>Danish Wholesale Imports</td>\n",
       "      <td>145041.60</td>\n",
       "    </tr>\n",
       "    <tr>\n",
       "      <th>14</th>\n",
       "      <td>Saveley &amp; Henriot, Co.</td>\n",
       "      <td>142874.25</td>\n",
       "    </tr>\n",
       "    <tr>\n",
       "      <th>15</th>\n",
       "      <td>L'ordine Souveniers</td>\n",
       "      <td>142601.33</td>\n",
       "    </tr>\n",
       "    <tr>\n",
       "      <th>16</th>\n",
       "      <td>Rovelli Gifts</td>\n",
       "      <td>137955.72</td>\n",
       "    </tr>\n",
       "    <tr>\n",
       "      <th>17</th>\n",
       "      <td>Reims Collectables</td>\n",
       "      <td>135042.94</td>\n",
       "    </tr>\n",
       "    <tr>\n",
       "      <th>18</th>\n",
       "      <td>Scandinavian Gift Ideas</td>\n",
       "      <td>134259.33</td>\n",
       "    </tr>\n",
       "    <tr>\n",
       "      <th>19</th>\n",
       "      <td>Online Diecast Creations Co.</td>\n",
       "      <td>131685.30</td>\n",
       "    </tr>\n",
       "    <tr>\n",
       "      <th>20</th>\n",
       "      <td>Diecast Classics Inc.</td>\n",
       "      <td>122138.14</td>\n",
       "    </tr>\n",
       "    <tr>\n",
       "      <th>21</th>\n",
       "      <td>Technics Stores Inc.</td>\n",
       "      <td>120783.07</td>\n",
       "    </tr>\n",
       "    <tr>\n",
       "      <th>22</th>\n",
       "      <td>Corrida Auto Replicas, Ltd</td>\n",
       "      <td>120615.28</td>\n",
       "    </tr>\n",
       "    <tr>\n",
       "      <th>23</th>\n",
       "      <td>Tokyo Collectables, Ltd</td>\n",
       "      <td>120562.74</td>\n",
       "    </tr>\n",
       "    <tr>\n",
       "      <th>24</th>\n",
       "      <td>UK Collectables, Ltd.</td>\n",
       "      <td>118008.27</td>\n",
       "    </tr>\n",
       "    <tr>\n",
       "      <th>25</th>\n",
       "      <td>Vida Sport, Ltd</td>\n",
       "      <td>117713.56</td>\n",
       "    </tr>\n",
       "    <tr>\n",
       "      <th>26</th>\n",
       "      <td>Baane Mini Imports</td>\n",
       "      <td>116599.19</td>\n",
       "    </tr>\n",
       "    <tr>\n",
       "      <th>27</th>\n",
       "      <td>Handji Gifts&amp; Co</td>\n",
       "      <td>115498.73</td>\n",
       "    </tr>\n",
       "    <tr>\n",
       "      <th>28</th>\n",
       "      <td>Suominen Souveniers</td>\n",
       "      <td>113961.15</td>\n",
       "    </tr>\n",
       "    <tr>\n",
       "      <th>29</th>\n",
       "      <td>Herkku Gifts</td>\n",
       "      <td>111640.28</td>\n",
       "    </tr>\n",
       "    <tr>\n",
       "      <th>...</th>\n",
       "      <td>...</td>\n",
       "      <td>...</td>\n",
       "    </tr>\n",
       "    <tr>\n",
       "      <th>62</th>\n",
       "      <td>Petit Auto</td>\n",
       "      <td>74972.52</td>\n",
       "    </tr>\n",
       "    <tr>\n",
       "      <th>63</th>\n",
       "      <td>Marseille Mini Autos</td>\n",
       "      <td>74936.14</td>\n",
       "    </tr>\n",
       "    <tr>\n",
       "      <th>64</th>\n",
       "      <td>Royal Canadian Collectables, Ltd.</td>\n",
       "      <td>74634.85</td>\n",
       "    </tr>\n",
       "    <tr>\n",
       "      <th>65</th>\n",
       "      <td>Mini Wheels Co.</td>\n",
       "      <td>74476.18</td>\n",
       "    </tr>\n",
       "    <tr>\n",
       "      <th>66</th>\n",
       "      <td>Quebec Home Shopping Network</td>\n",
       "      <td>74204.79</td>\n",
       "    </tr>\n",
       "    <tr>\n",
       "      <th>67</th>\n",
       "      <td>Diecast Collectables</td>\n",
       "      <td>70859.78</td>\n",
       "    </tr>\n",
       "    <tr>\n",
       "      <th>68</th>\n",
       "      <td>Alpha Cognac</td>\n",
       "      <td>70488.44</td>\n",
       "    </tr>\n",
       "    <tr>\n",
       "      <th>69</th>\n",
       "      <td>Daedalus Designs Imports</td>\n",
       "      <td>69052.41</td>\n",
       "    </tr>\n",
       "    <tr>\n",
       "      <th>70</th>\n",
       "      <td>Osaka Souveniers Co.</td>\n",
       "      <td>67605.07</td>\n",
       "    </tr>\n",
       "    <tr>\n",
       "      <th>71</th>\n",
       "      <td>Classic Gift Ideas, Inc</td>\n",
       "      <td>67506.97</td>\n",
       "    </tr>\n",
       "    <tr>\n",
       "      <th>72</th>\n",
       "      <td>Auto Assoc. &amp; Cie.</td>\n",
       "      <td>64834.32</td>\n",
       "    </tr>\n",
       "    <tr>\n",
       "      <th>73</th>\n",
       "      <td>Australian Collectables, Ltd</td>\n",
       "      <td>64591.46</td>\n",
       "    </tr>\n",
       "    <tr>\n",
       "      <th>74</th>\n",
       "      <td>Australian Gift Network, Co</td>\n",
       "      <td>59469.12</td>\n",
       "    </tr>\n",
       "    <tr>\n",
       "      <th>75</th>\n",
       "      <td>Clover Collections, Co.</td>\n",
       "      <td>57756.43</td>\n",
       "    </tr>\n",
       "    <tr>\n",
       "      <th>76</th>\n",
       "      <td>Gift Ideas Corp.</td>\n",
       "      <td>57294.42</td>\n",
       "    </tr>\n",
       "    <tr>\n",
       "      <th>77</th>\n",
       "      <td>Online Mini Collectables</td>\n",
       "      <td>57197.96</td>\n",
       "    </tr>\n",
       "    <tr>\n",
       "      <th>78</th>\n",
       "      <td>Iberia Gift Imports, Corp.</td>\n",
       "      <td>54723.62</td>\n",
       "    </tr>\n",
       "    <tr>\n",
       "      <th>79</th>\n",
       "      <td>Mini Auto Werke</td>\n",
       "      <td>52263.90</td>\n",
       "    </tr>\n",
       "    <tr>\n",
       "      <th>80</th>\n",
       "      <td>Signal Collectibles Ltd.</td>\n",
       "      <td>50218.51</td>\n",
       "    </tr>\n",
       "    <tr>\n",
       "      <th>81</th>\n",
       "      <td>CAF Imports</td>\n",
       "      <td>49642.05</td>\n",
       "    </tr>\n",
       "    <tr>\n",
       "      <th>82</th>\n",
       "      <td>Men 'R' US Retailers, Ltd.</td>\n",
       "      <td>48048.46</td>\n",
       "    </tr>\n",
       "    <tr>\n",
       "      <th>83</th>\n",
       "      <td>West Coast Collectables Co.</td>\n",
       "      <td>46084.64</td>\n",
       "    </tr>\n",
       "    <tr>\n",
       "      <th>84</th>\n",
       "      <td>Cambridge Collectables Co.</td>\n",
       "      <td>36163.62</td>\n",
       "    </tr>\n",
       "    <tr>\n",
       "      <th>85</th>\n",
       "      <td>Double Decker Gift Stores, Ltd</td>\n",
       "      <td>36019.04</td>\n",
       "    </tr>\n",
       "    <tr>\n",
       "      <th>86</th>\n",
       "      <td>Bavarian Collectables Imports, Co.</td>\n",
       "      <td>34993.92</td>\n",
       "    </tr>\n",
       "    <tr>\n",
       "      <th>87</th>\n",
       "      <td>Royale Belge</td>\n",
       "      <td>33440.10</td>\n",
       "    </tr>\n",
       "    <tr>\n",
       "      <th>88</th>\n",
       "      <td>Microscale Inc.</td>\n",
       "      <td>33144.93</td>\n",
       "    </tr>\n",
       "    <tr>\n",
       "      <th>89</th>\n",
       "      <td>Auto-Moto Classics Inc.</td>\n",
       "      <td>26479.26</td>\n",
       "    </tr>\n",
       "    <tr>\n",
       "      <th>90</th>\n",
       "      <td>Atelier graphique</td>\n",
       "      <td>24179.96</td>\n",
       "    </tr>\n",
       "    <tr>\n",
       "      <th>91</th>\n",
       "      <td>Boards &amp; Toys Co.</td>\n",
       "      <td>9129.35</td>\n",
       "    </tr>\n",
       "  </tbody>\n",
       "</table>\n",
       "<p>92 rows × 2 columns</p>\n",
       "</div>"
      ],
      "text/plain": [
       "                          CUSTOMERNAME  Total Pembelian\n",
       "0                Euro Shopping Channel        912294.11\n",
       "1         Mini Gifts Distributors Ltd.        654858.06\n",
       "2           Australian Collectors, Co.        200995.41\n",
       "3                   Muscle Machine Inc        197736.94\n",
       "4                    La Rochelle Gifts        180124.90\n",
       "5              Dragon Souveniers, Ltd.        172989.68\n",
       "6                    Land of Toys Inc.        164069.44\n",
       "7            The Sharp Gifts Warehouse        160010.27\n",
       "8                       AV Stores, Co.        157807.81\n",
       "9              Anna's Decorations, Ltd        153996.13\n",
       "10           Souveniers And Things Co.        151570.98\n",
       "11            Corporate Gift Ideas Co.        149882.50\n",
       "12               Salzburg Collectables        149798.63\n",
       "13            Danish Wholesale Imports        145041.60\n",
       "14              Saveley & Henriot, Co.        142874.25\n",
       "15                 L'ordine Souveniers        142601.33\n",
       "16                       Rovelli Gifts        137955.72\n",
       "17                  Reims Collectables        135042.94\n",
       "18             Scandinavian Gift Ideas        134259.33\n",
       "19        Online Diecast Creations Co.        131685.30\n",
       "20               Diecast Classics Inc.        122138.14\n",
       "21                Technics Stores Inc.        120783.07\n",
       "22          Corrida Auto Replicas, Ltd        120615.28\n",
       "23             Tokyo Collectables, Ltd        120562.74\n",
       "24               UK Collectables, Ltd.        118008.27\n",
       "25                     Vida Sport, Ltd        117713.56\n",
       "26                  Baane Mini Imports        116599.19\n",
       "27                    Handji Gifts& Co        115498.73\n",
       "28                 Suominen Souveniers        113961.15\n",
       "29                        Herkku Gifts        111640.28\n",
       "..                                 ...              ...\n",
       "62                          Petit Auto         74972.52\n",
       "63                Marseille Mini Autos         74936.14\n",
       "64   Royal Canadian Collectables, Ltd.         74634.85\n",
       "65                     Mini Wheels Co.         74476.18\n",
       "66        Quebec Home Shopping Network         74204.79\n",
       "67                Diecast Collectables         70859.78\n",
       "68                        Alpha Cognac         70488.44\n",
       "69            Daedalus Designs Imports         69052.41\n",
       "70                Osaka Souveniers Co.         67605.07\n",
       "71             Classic Gift Ideas, Inc         67506.97\n",
       "72                  Auto Assoc. & Cie.         64834.32\n",
       "73        Australian Collectables, Ltd         64591.46\n",
       "74         Australian Gift Network, Co         59469.12\n",
       "75             Clover Collections, Co.         57756.43\n",
       "76                    Gift Ideas Corp.         57294.42\n",
       "77            Online Mini Collectables         57197.96\n",
       "78          Iberia Gift Imports, Corp.         54723.62\n",
       "79                     Mini Auto Werke         52263.90\n",
       "80            Signal Collectibles Ltd.         50218.51\n",
       "81                         CAF Imports         49642.05\n",
       "82          Men 'R' US Retailers, Ltd.         48048.46\n",
       "83         West Coast Collectables Co.         46084.64\n",
       "84          Cambridge Collectables Co.         36163.62\n",
       "85      Double Decker Gift Stores, Ltd         36019.04\n",
       "86  Bavarian Collectables Imports, Co.         34993.92\n",
       "87                        Royale Belge         33440.10\n",
       "88                     Microscale Inc.         33144.93\n",
       "89             Auto-Moto Classics Inc.         26479.26\n",
       "90                   Atelier graphique         24179.96\n",
       "91                   Boards & Toys Co.          9129.35\n",
       "\n",
       "[92 rows x 2 columns]"
      ]
     },
     "execution_count": 10,
     "metadata": {},
     "output_type": "execute_result"
    }
   ],
   "source": [
    "dfclone = df\n",
    "dfclone = dfclone.rename(columns={\"SALES\": \"Total Pembelian\"})\n",
    "df2=pd.DataFrame(data = dfclone.groupby(['CUSTOMERNAME'])['Total Pembelian'].sum().sort_values(ascending=False))\n",
    "df2=df2.reset_index()\n",
    "df2"
   ]
  },
  {
   "cell_type": "code",
   "execution_count": 11,
   "metadata": {},
   "outputs": [],
   "source": [
    "dfbar = df2.head(10)\n",
    "dfbar=dfbar.round(2)\n",
    "#dfbar.info()"
   ]
  },
  {
   "cell_type": "code",
   "execution_count": 27,
   "metadata": {},
   "outputs": [
    {
     "data": {
      "image/png": "[encoded data removed]",
      "text/plain": [
       "<Figure size 864x648 with 1 Axes>"
      ]
     },
     "metadata": {
      "needs_background": "light"
     },
     "output_type": "display_data"
    }
   ],
   "source": [
    "\n",
    "y_pos = np.arange(len(dfbar['CUSTOMERNAME']))\n",
    "\n",
    "fig, ax = plt.subplots()\n",
    "rects1 = ax.bar(y_pos, dfbar[\"Total Pembelian\"], color=plt.cm.Paired(np.arange(len(dfbar))))\n",
    "plt.xticks(fontsize=13, rotation=90)\n",
    "plt.yticks(fontsize=13)\n",
    "\n",
    "\n",
    "ax.set_ylabel('Total Pembelian', fontsize=13)\n",
    "ax.set_xlabel('Nama Customer', fontsize=13)\n",
    "\n",
    "ax.set_xticks(y_pos)\n",
    "ax.set_xticklabels(dfbar['CUSTOMERNAME'])\n",
    "\n",
    "\n",
    "def autolabel(rects):\n",
    "    \"\"\"Attach a text label above each bar in *rects*, displaying its height.\"\"\"\n",
    "    for rect in rects:\n",
    "        height = rect.get_height()\n",
    "        ax.annotate('{}'.format(height),\n",
    "                    xy=(rect.get_x() + rect.get_width() / 2, height),\n",
    "                    xytext=(0, 3),  # 3 points vertical offset\n",
    "                    textcoords=\"offset points\",\n",
    "                    ha='center', va='bottom')\n",
    "\n",
    "\n",
    "autolabel(rects1)\n",
    "\n",
    "plt.show()\n",
    "\n",
    "plt.rcParams[\"figure.figsize\"] = [12,9]"
   ]
  },
  {
   "cell_type": "markdown",
   "metadata": {},
   "source": [
    "## 3.\tTingkat penjualan bulanan"
   ]
  },
  {
   "cell_type": "markdown",
   "metadata": {},
   "source": [
    "Melalui visualisasi ini, dapat dilihat naik turun-nya penjualan perusahaan dari bulan ke bulan, sehingga dapat diketahui kapan terjadi peningkatan penjualan dan kapan terjadi penurunan penjualan untuk dilakukan analisis penyebab naik-turunnya penjualan tersebut. Peningkatan dan penjualan perusahaan dapat dipengaruhi oleh bulan, misal terjadi peningkatan pada penjualan di bulan Desember, yang mana mungkin dapat disebabkan karena hari natal, sehingga banyak orang yang membeli mobil mainan sebagai hadiah. "
   ]
  },
  {
   "cell_type": "code",
   "execution_count": 16,
   "metadata": {},
   "outputs": [
    {
     "data": {
      "text/plain": [
       "array([2003, 2004, 2005], dtype=int64)"
      ]
     },
     "execution_count": 16,
     "metadata": {},
     "output_type": "execute_result"
    }
   ],
   "source": [
    "dfclone1=df\n",
    "dfclone1=dfclone1.rename(columns={\"YEAR_ID\": \"TAHUN\"})\n",
    "dfclone1.TAHUN.unique()"
   ]
  },
  {
   "cell_type": "code",
   "execution_count": 28,
   "metadata": {},
   "outputs": [
    {
     "data": {
      "image/png": "[encoded data removed]",
      "text/plain": [
       "<Figure size 648x432 with 1 Axes>"
      ]
     },
     "metadata": {
      "needs_background": "light"
     },
     "output_type": "display_data"
    }
   ],
   "source": [
    "plt.figure(figsize=(9,6))\n",
    "\n",
    "monthly_revenue = dfclone1.groupby(['TAHUN','MONTH_ID'])['SALES'].sum().reset_index()\n",
    "monthly_revenue\n",
    "sns.lineplot(x=\"MONTH_ID\", y=\"SALES\",hue=\"TAHUN\", data=monthly_revenue)\n",
    "plt.xlabel('Bulan', fontsize=14)\n",
    "plt.ylabel(\"Total Penjualan ($)\", fontsize=14)\n",
    "plt.show()"
   ]
  },
  {
   "cell_type": "markdown",
   "metadata": {},
   "source": [
    "## 4.\tPersebaran total penjualan berdasarkan wilayah"
   ]
  },
  {
   "cell_type": "code",
   "execution_count": 18,
   "metadata": {},
   "outputs": [],
   "source": [
    "df['COUNTRY'] = df['COUNTRY'].replace(['UK'], 'United Kingdom')\n",
    "df['COUNTRY'] = df['COUNTRY'].replace(['USA'], 'United States of America')"
   ]
  },
  {
   "cell_type": "code",
   "execution_count": 19,
   "metadata": {},
   "outputs": [
    {
     "data": {
      "text/html": [
       "<div>\n",
       "<style scoped>\n",
       "    .dataframe tbody tr th:only-of-type {\n",
       "        vertical-align: middle;\n",
       "    }\n",
       "\n",
       "    .dataframe tbody tr th {\n",
       "        vertical-align: top;\n",
       "    }\n",
       "\n",
       "    .dataframe thead th {\n",
       "        text-align: right;\n",
       "    }\n",
       "</style>\n",
       "<table border=\"1\" class=\"dataframe\">\n",
       "  <thead>\n",
       "    <tr style=\"text-align: right;\">\n",
       "      <th></th>\n",
       "      <th>COUNTRY</th>\n",
       "      <th>SALES</th>\n",
       "    </tr>\n",
       "  </thead>\n",
       "  <tbody>\n",
       "    <tr>\n",
       "      <th>0</th>\n",
       "      <td>Australia</td>\n",
       "      <td>630623.10</td>\n",
       "    </tr>\n",
       "    <tr>\n",
       "      <th>1</th>\n",
       "      <td>Austria</td>\n",
       "      <td>202062.53</td>\n",
       "    </tr>\n",
       "    <tr>\n",
       "      <th>2</th>\n",
       "      <td>Belgium</td>\n",
       "      <td>108412.62</td>\n",
       "    </tr>\n",
       "    <tr>\n",
       "      <th>3</th>\n",
       "      <td>Canada</td>\n",
       "      <td>224078.56</td>\n",
       "    </tr>\n",
       "    <tr>\n",
       "      <th>4</th>\n",
       "      <td>Denmark</td>\n",
       "      <td>245637.15</td>\n",
       "    </tr>\n",
       "    <tr>\n",
       "      <th>5</th>\n",
       "      <td>Finland</td>\n",
       "      <td>329581.91</td>\n",
       "    </tr>\n",
       "    <tr>\n",
       "      <th>6</th>\n",
       "      <td>France</td>\n",
       "      <td>1110916.52</td>\n",
       "    </tr>\n",
       "    <tr>\n",
       "      <th>7</th>\n",
       "      <td>Germany</td>\n",
       "      <td>220472.09</td>\n",
       "    </tr>\n",
       "    <tr>\n",
       "      <th>8</th>\n",
       "      <td>Ireland</td>\n",
       "      <td>57756.43</td>\n",
       "    </tr>\n",
       "    <tr>\n",
       "      <th>9</th>\n",
       "      <td>Italy</td>\n",
       "      <td>374674.31</td>\n",
       "    </tr>\n",
       "    <tr>\n",
       "      <th>10</th>\n",
       "      <td>Japan</td>\n",
       "      <td>188167.81</td>\n",
       "    </tr>\n",
       "    <tr>\n",
       "      <th>11</th>\n",
       "      <td>Norway</td>\n",
       "      <td>307463.70</td>\n",
       "    </tr>\n",
       "    <tr>\n",
       "      <th>12</th>\n",
       "      <td>Philippines</td>\n",
       "      <td>94015.73</td>\n",
       "    </tr>\n",
       "    <tr>\n",
       "      <th>13</th>\n",
       "      <td>Singapore</td>\n",
       "      <td>288488.41</td>\n",
       "    </tr>\n",
       "    <tr>\n",
       "      <th>14</th>\n",
       "      <td>Spain</td>\n",
       "      <td>1215686.92</td>\n",
       "    </tr>\n",
       "    <tr>\n",
       "      <th>15</th>\n",
       "      <td>Sweden</td>\n",
       "      <td>210014.21</td>\n",
       "    </tr>\n",
       "    <tr>\n",
       "      <th>16</th>\n",
       "      <td>Switzerland</td>\n",
       "      <td>117713.56</td>\n",
       "    </tr>\n",
       "    <tr>\n",
       "      <th>17</th>\n",
       "      <td>United Kingdom</td>\n",
       "      <td>478880.46</td>\n",
       "    </tr>\n",
       "    <tr>\n",
       "      <th>18</th>\n",
       "      <td>United States of America</td>\n",
       "      <td>3627982.83</td>\n",
       "    </tr>\n",
       "  </tbody>\n",
       "</table>\n",
       "</div>"
      ],
      "text/plain": [
       "                     COUNTRY       SALES\n",
       "0                  Australia   630623.10\n",
       "1                    Austria   202062.53\n",
       "2                    Belgium   108412.62\n",
       "3                     Canada   224078.56\n",
       "4                    Denmark   245637.15\n",
       "5                    Finland   329581.91\n",
       "6                     France  1110916.52\n",
       "7                    Germany   220472.09\n",
       "8                    Ireland    57756.43\n",
       "9                      Italy   374674.31\n",
       "10                     Japan   188167.81\n",
       "11                    Norway   307463.70\n",
       "12               Philippines    94015.73\n",
       "13                 Singapore   288488.41\n",
       "14                     Spain  1215686.92\n",
       "15                    Sweden   210014.21\n",
       "16               Switzerland   117713.56\n",
       "17            United Kingdom   478880.46\n",
       "18  United States of America  3627982.83"
      ]
     },
     "execution_count": 19,
     "metadata": {},
     "output_type": "execute_result"
    }
   ],
   "source": [
    "count2 = df.groupby(['COUNTRY'])['SALES'].agg('sum') #sales per country\n",
    "df4=pd.DataFrame(data = count2)\n",
    "df4=df4.reset_index()\n",
    "df4"
   ]
  },
  {
   "cell_type": "code",
   "execution_count": 20,
   "metadata": {},
   "outputs": [
    {
     "data": {
      "text/html": [
       "<div>\n",
       "<style scoped>\n",
       "    .dataframe tbody tr th:only-of-type {\n",
       "        vertical-align: middle;\n",
       "    }\n",
       "\n",
       "    .dataframe tbody tr th {\n",
       "        vertical-align: top;\n",
       "    }\n",
       "\n",
       "    .dataframe thead th {\n",
       "        text-align: right;\n",
       "    }\n",
       "</style>\n",
       "<table border=\"1\" class=\"dataframe\">\n",
       "  <thead>\n",
       "    <tr style=\"text-align: right;\">\n",
       "      <th></th>\n",
       "      <th>COUNTRY</th>\n",
       "      <th>SALES</th>\n",
       "      <th>Code</th>\n",
       "    </tr>\n",
       "  </thead>\n",
       "  <tbody>\n",
       "    <tr>\n",
       "      <th>0</th>\n",
       "      <td>Australia</td>\n",
       "      <td>630623.10</td>\n",
       "      <td>AUS</td>\n",
       "    </tr>\n",
       "    <tr>\n",
       "      <th>1</th>\n",
       "      <td>Austria</td>\n",
       "      <td>202062.53</td>\n",
       "      <td>AUT</td>\n",
       "    </tr>\n",
       "    <tr>\n",
       "      <th>2</th>\n",
       "      <td>Belgium</td>\n",
       "      <td>108412.62</td>\n",
       "      <td>BEL</td>\n",
       "    </tr>\n",
       "    <tr>\n",
       "      <th>3</th>\n",
       "      <td>Canada</td>\n",
       "      <td>224078.56</td>\n",
       "      <td>CAN</td>\n",
       "    </tr>\n",
       "    <tr>\n",
       "      <th>4</th>\n",
       "      <td>Denmark</td>\n",
       "      <td>245637.15</td>\n",
       "      <td>DNK</td>\n",
       "    </tr>\n",
       "    <tr>\n",
       "      <th>5</th>\n",
       "      <td>Finland</td>\n",
       "      <td>329581.91</td>\n",
       "      <td>FIN</td>\n",
       "    </tr>\n",
       "    <tr>\n",
       "      <th>6</th>\n",
       "      <td>France</td>\n",
       "      <td>1110916.52</td>\n",
       "      <td>FRA</td>\n",
       "    </tr>\n",
       "    <tr>\n",
       "      <th>7</th>\n",
       "      <td>Germany</td>\n",
       "      <td>220472.09</td>\n",
       "      <td>DEU</td>\n",
       "    </tr>\n",
       "    <tr>\n",
       "      <th>8</th>\n",
       "      <td>Ireland</td>\n",
       "      <td>57756.43</td>\n",
       "      <td>IRL</td>\n",
       "    </tr>\n",
       "    <tr>\n",
       "      <th>9</th>\n",
       "      <td>Italy</td>\n",
       "      <td>374674.31</td>\n",
       "      <td>ITA</td>\n",
       "    </tr>\n",
       "    <tr>\n",
       "      <th>10</th>\n",
       "      <td>Japan</td>\n",
       "      <td>188167.81</td>\n",
       "      <td>JPN</td>\n",
       "    </tr>\n",
       "    <tr>\n",
       "      <th>11</th>\n",
       "      <td>Norway</td>\n",
       "      <td>307463.70</td>\n",
       "      <td>NOR</td>\n",
       "    </tr>\n",
       "    <tr>\n",
       "      <th>12</th>\n",
       "      <td>Philippines</td>\n",
       "      <td>94015.73</td>\n",
       "      <td>PHL</td>\n",
       "    </tr>\n",
       "    <tr>\n",
       "      <th>13</th>\n",
       "      <td>Singapore</td>\n",
       "      <td>288488.41</td>\n",
       "      <td>SGP</td>\n",
       "    </tr>\n",
       "    <tr>\n",
       "      <th>14</th>\n",
       "      <td>Spain</td>\n",
       "      <td>1215686.92</td>\n",
       "      <td>ESP</td>\n",
       "    </tr>\n",
       "    <tr>\n",
       "      <th>15</th>\n",
       "      <td>Sweden</td>\n",
       "      <td>210014.21</td>\n",
       "      <td>SWE</td>\n",
       "    </tr>\n",
       "    <tr>\n",
       "      <th>16</th>\n",
       "      <td>Switzerland</td>\n",
       "      <td>117713.56</td>\n",
       "      <td>CHE</td>\n",
       "    </tr>\n",
       "    <tr>\n",
       "      <th>17</th>\n",
       "      <td>United Kingdom</td>\n",
       "      <td>478880.46</td>\n",
       "      <td>GBR</td>\n",
       "    </tr>\n",
       "    <tr>\n",
       "      <th>18</th>\n",
       "      <td>United States of America</td>\n",
       "      <td>3627982.83</td>\n",
       "      <td>USA</td>\n",
       "    </tr>\n",
       "  </tbody>\n",
       "</table>\n",
       "</div>"
      ],
      "text/plain": [
       "                     COUNTRY       SALES Code\n",
       "0                  Australia   630623.10  AUS\n",
       "1                    Austria   202062.53  AUT\n",
       "2                    Belgium   108412.62  BEL\n",
       "3                     Canada   224078.56  CAN\n",
       "4                    Denmark   245637.15  DNK\n",
       "5                    Finland   329581.91  FIN\n",
       "6                     France  1110916.52  FRA\n",
       "7                    Germany   220472.09  DEU\n",
       "8                    Ireland    57756.43  IRL\n",
       "9                      Italy   374674.31  ITA\n",
       "10                     Japan   188167.81  JPN\n",
       "11                    Norway   307463.70  NOR\n",
       "12               Philippines    94015.73  PHL\n",
       "13                 Singapore   288488.41  SGP\n",
       "14                     Spain  1215686.92  ESP\n",
       "15                    Sweden   210014.21  SWE\n",
       "16               Switzerland   117713.56  CHE\n",
       "17            United Kingdom   478880.46  GBR\n",
       "18  United States of America  3627982.83  USA"
      ]
     },
     "execution_count": 20,
     "metadata": {},
     "output_type": "execute_result"
    }
   ],
   "source": [
    "code = ['AUS', 'AUT', 'BEL', 'CAN', 'DNK', 'FIN', 'FRA', 'DEU', 'IRL', 'ITA', 'JPN', 'NOR', 'PHL', 'SGP', 'ESP', 'SWE', 'CHE', 'GBR', 'USA'] \n",
    "  \n",
    "# Using 'Address' as the column name \n",
    "# and equating it to the list \n",
    "df4['Code'] = code \n",
    "  \n",
    "# Observe the result \n",
    "df4"
   ]
  },
  {
   "cell_type": "code",
   "execution_count": 21,
   "metadata": {},
   "outputs": [],
   "source": [
    "#!pip install plotly==4.3.0"
   ]
  },
  {
   "cell_type": "code",
   "execution_count": 29,
   "metadata": {},
   "outputs": [
    {
     "data": {
      "application/vnd.plotly.v1+json": {
       "config": {
        "plotlyServerURL": "https://plot.ly"
       },
       "data": [
        {
         "autocolorscale": false,
         "colorbar": {
          "tickprefix": "$",
          "title": {
           "text": "Sales $"
          }
         },
         "colorscale": [
          [
           0,
           "rgb(255,255,204)"
          ],
          [
           0.125,
           "rgb(255,237,160)"
          ],
          [
           0.25,
           "rgb(254,217,118)"
          ],
          [
           0.375,
           "rgb(254,178,76)"
          ],
          [
           0.5,
           "rgb(253,141,60)"
          ],
          [
           0.625,
           "rgb(252,78,42)"
          ],
          [
           0.75,
           "rgb(227,26,28)"
          ],
          [
           0.875,
           "rgb(189,0,38)"
          ],
          [
           1,
           "rgb(128,0,38)"
          ]
         ],
         "locations": [
          "AUS",
          "AUT",
          "BEL",
          "CAN",
          "DNK",
          "FIN",
          "FRA",
          "DEU",
          "IRL",
          "ITA",
          "JPN",
          "NOR",
          "PHL",
          "SGP",
          "ESP",
          "SWE",
          "CHE",
          "GBR",
          "USA"
         ],
         "marker": {
          "line": {
           "color": "white",
           "width": 0.5
          }
         },
         "reversescale": false,
         "text": [
          "Australia",
          "Austria",
          "Belgium",
          "Canada",
          "Denmark",
          "Finland",
          "France",
          "Germany",
          "Ireland",
          "Italy",
          "Japan",
          "Norway",
          "Philippines",
          "Singapore",
          "Spain",
          "Sweden",
          "Switzerland",
          "United Kingdom",
          "United States of America"
         ],
         "type": "choropleth",
         "z": [
          630623.1000000001,
          202062.53,
          108412.62,
          224078.55999999994,
          245637.15,
          329581.9100000001,
          1110916.5199999993,
          220472.08999999994,
          57756.43,
          374674.30999999976,
          188167.80999999997,
          307463.7000000001,
          94015.73,
          288488.41000000003,
          1215686.9200000009,
          210014.21,
          117713.55999999998,
          478880.4600000001,
          3627982.83
         ]
        }
       ],
       "layout": {
        "geo": {
         "projection": {
          "type": "equirectangular"
         },
         "showcoastlines": true,
         "showframe": true
        },
        "template": {
         "data": {
          "bar": [
           {
            "error_x": {
             "color": "#2a3f5f"
            },
            "error_y": {
             "color": "#2a3f5f"
            },
            "marker": {
             "line": {
              "color": "#E5ECF6",
              "width": 0.5
             }
            },
            "type": "bar"
           }
          ],
          "barpolar": [
           {
            "marker": {
             "line": {
              "color": "#E5ECF6",
              "width": 0.5
             }
            },
            "type": "barpolar"
           }
          ],
          "carpet": [
           {
            "aaxis": {
             "endlinecolor": "#2a3f5f",
             "gridcolor": "white",
             "linecolor": "white",
             "minorgridcolor": "white",
             "startlinecolor": "#2a3f5f"
            },
            "baxis": {
             "endlinecolor": "#2a3f5f",
             "gridcolor": "white",
             "linecolor": "white",
             "minorgridcolor": "white",
             "startlinecolor": "#2a3f5f"
            },
            "type": "carpet"
           }
          ],
          "choropleth": [
           {
            "colorbar": {
             "outlinewidth": 0,
             "ticks": ""
            },
            "type": "choropleth"
           }
          ],
          "contour": [
           {
            "colorbar": {
             "outlinewidth": 0,
             "ticks": ""
            },
            "colorscale": [
             [
              0,
              "#0d0887"
             ],
             [
              0.1111111111111111,
              "#46039f"
             ],
             [
              0.2222222222222222,
              "#7201a8"
             ],
             [
              0.3333333333333333,
              "#9c179e"
             ],
             [
              0.4444444444444444,
              "#bd3786"
             ],
             [
              0.5555555555555556,
              "#d8576b"
             ],
             [
              0.6666666666666666,
              "#ed7953"
             ],
             [
              0.7777777777777778,
              "#fb9f3a"
             ],
             [
              0.8888888888888888,
              "#fdca26"
             ],
             [
              1,
              "#f0f921"
             ]
            ],
            "type": "contour"
           }
          ],
          "contourcarpet": [
           {
            "colorbar": {
             "outlinewidth": 0,
             "ticks": ""
            },
            "type": "contourcarpet"
           }
          ],
          "heatmap": [
           {
            "colorbar": {
             "outlinewidth": 0,
             "ticks": ""
            },
            "colorscale": [
             [
              0,
              "#0d0887"
             ],
             [
              0.1111111111111111,
              "#46039f"
             ],
             [
              0.2222222222222222,
              "#7201a8"
             ],
             [
              0.3333333333333333,
              "#9c179e"
             ],
             [
              0.4444444444444444,
              "#bd3786"
             ],
             [
              0.5555555555555556,
              "#d8576b"
             ],
             [
              0.6666666666666666,
              "#ed7953"
             ],
             [
              0.7777777777777778,
              "#fb9f3a"
             ],
             [
              0.8888888888888888,
              "#fdca26"
             ],
             [
              1,
              "#f0f921"
             ]
            ],
            "type": "heatmap"
           }
          ],
          "heatmapgl": [
           {
            "colorbar": {
             "outlinewidth": 0,
             "ticks": ""
            },
            "colorscale": [
             [
              0,
              "#0d0887"
             ],
             [
              0.1111111111111111,
              "#46039f"
             ],
             [
              0.2222222222222222,
              "#7201a8"
             ],
             [
              0.3333333333333333,
              "#9c179e"
             ],
             [
              0.4444444444444444,
              "#bd3786"
             ],
             [
              0.5555555555555556,
              "#d8576b"
             ],
             [
              0.6666666666666666,
              "#ed7953"
             ],
             [
              0.7777777777777778,
              "#fb9f3a"
             ],
             [
              0.8888888888888888,
              "#fdca26"
             ],
             [
              1,
              "#f0f921"
             ]
            ],
            "type": "heatmapgl"
           }
          ],
          "histogram": [
           {
            "marker": {
             "colorbar": {
              "outlinewidth": 0,
              "ticks": ""
             }
            },
            "type": "histogram"
           }
          ],
          "histogram2d": [
           {
            "colorbar": {
             "outlinewidth": 0,
             "ticks": ""
            },
            "colorscale": [
             [
              0,
              "#0d0887"
             ],
             [
              0.1111111111111111,
              "#46039f"
             ],
             [
              0.2222222222222222,
              "#7201a8"
             ],
             [
              0.3333333333333333,
              "#9c179e"
             ],
             [
              0.4444444444444444,
              "#bd3786"
             ],
             [
              0.5555555555555556,
              "#d8576b"
             ],
             [
              0.6666666666666666,
              "#ed7953"
             ],
             [
              0.7777777777777778,
              "#fb9f3a"
             ],
             [
              0.8888888888888888,
              "#fdca26"
             ],
             [
              1,
              "#f0f921"
             ]
            ],
            "type": "histogram2d"
           }
          ],
          "histogram2dcontour": [
           {
            "colorbar": {
             "outlinewidth": 0,
             "ticks": ""
            },
            "colorscale": [
             [
              0,
              "#0d0887"
             ],
             [
              0.1111111111111111,
              "#46039f"
             ],
             [
              0.2222222222222222,
              "#7201a8"
             ],
             [
              0.3333333333333333,
              "#9c179e"
             ],
             [
              0.4444444444444444,
              "#bd3786"
             ],
             [
              0.5555555555555556,
              "#d8576b"
             ],
             [
              0.6666666666666666,
              "#ed7953"
             ],
             [
              0.7777777777777778,
              "#fb9f3a"
             ],
             [
              0.8888888888888888,
              "#fdca26"
             ],
             [
              1,
              "#f0f921"
             ]
            ],
            "type": "histogram2dcontour"
           }
          ],
          "mesh3d": [
           {
            "colorbar": {
             "outlinewidth": 0,
             "ticks": ""
            },
            "type": "mesh3d"
           }
          ],
          "parcoords": [
           {
            "line": {
             "colorbar": {
              "outlinewidth": 0,
              "ticks": ""
             }
            },
            "type": "parcoords"
           }
          ],
          "pie": [
           {
            "automargin": true,
            "type": "pie"
           }
          ],
          "scatter": [
           {
            "marker": {
             "colorbar": {
              "outlinewidth": 0,
              "ticks": ""
             }
            },
            "type": "scatter"
           }
          ],
          "scatter3d": [
           {
            "line": {
             "colorbar": {
              "outlinewidth": 0,
              "ticks": ""
             }
            },
            "marker": {
             "colorbar": {
              "outlinewidth": 0,
              "ticks": ""
             }
            },
            "type": "scatter3d"
           }
          ],
          "scattercarpet": [
           {
            "marker": {
             "colorbar": {
              "outlinewidth": 0,
              "ticks": ""
             }
            },
            "type": "scattercarpet"
           }
          ],
          "scattergeo": [
           {
            "marker": {
             "colorbar": {
              "outlinewidth": 0,
              "ticks": ""
             }
            },
            "type": "scattergeo"
           }
          ],
          "scattergl": [
           {
            "marker": {
             "colorbar": {
              "outlinewidth": 0,
              "ticks": ""
             }
            },
            "type": "scattergl"
           }
          ],
          "scattermapbox": [
           {
            "marker": {
             "colorbar": {
              "outlinewidth": 0,
              "ticks": ""
             }
            },
            "type": "scattermapbox"
           }
          ],
          "scatterpolar": [
           {
            "marker": {
             "colorbar": {
              "outlinewidth": 0,
              "ticks": ""
             }
            },
            "type": "scatterpolar"
           }
          ],
          "scatterpolargl": [
           {
            "marker": {
             "colorbar": {
              "outlinewidth": 0,
              "ticks": ""
             }
            },
            "type": "scatterpolargl"
           }
          ],
          "scatterternary": [
           {
            "marker": {
             "colorbar": {
              "outlinewidth": 0,
              "ticks": ""
             }
            },
            "type": "scatterternary"
           }
          ],
          "surface": [
           {
            "colorbar": {
             "outlinewidth": 0,
             "ticks": ""
            },
            "colorscale": [
             [
              0,
              "#0d0887"
             ],
             [
              0.1111111111111111,
              "#46039f"
             ],
             [
              0.2222222222222222,
              "#7201a8"
             ],
             [
              0.3333333333333333,
              "#9c179e"
             ],
             [
              0.4444444444444444,
              "#bd3786"
             ],
             [
              0.5555555555555556,
              "#d8576b"
             ],
             [
              0.6666666666666666,
              "#ed7953"
             ],
             [
              0.7777777777777778,
              "#fb9f3a"
             ],
             [
              0.8888888888888888,
              "#fdca26"
             ],
             [
              1,
              "#f0f921"
             ]
            ],
            "type": "surface"
           }
          ],
          "table": [
           {
            "cells": {
             "fill": {
              "color": "#EBF0F8"
             },
             "line": {
              "color": "white"
             }
            },
            "header": {
             "fill": {
              "color": "#C8D4E3"
             },
             "line": {
              "color": "white"
             }
            },
            "type": "table"
           }
          ]
         },
         "layout": {
          "annotationdefaults": {
           "arrowcolor": "#2a3f5f",
           "arrowhead": 0,
           "arrowwidth": 1
          },
          "coloraxis": {
           "colorbar": {
            "outlinewidth": 0,
            "ticks": ""
           }
          },
          "colorscale": {
           "diverging": [
            [
             0,
             "#8e0152"
            ],
            [
             0.1,
             "#c51b7d"
            ],
            [
             0.2,
             "#de77ae"
            ],
            [
             0.3,
             "#f1b6da"
            ],
            [
             0.4,
             "#fde0ef"
            ],
            [
             0.5,
             "#f7f7f7"
            ],
            [
             0.6,
             "#e6f5d0"
            ],
            [
             0.7,
             "#b8e186"
            ],
            [
             0.8,
             "#7fbc41"
            ],
            [
             0.9,
             "#4d9221"
            ],
            [
             1,
             "#276419"
            ]
           ],
           "sequential": [
            [
             0,
             "#0d0887"
            ],
            [
             0.1111111111111111,
             "#46039f"
            ],
            [
             0.2222222222222222,
             "#7201a8"
            ],
            [
             0.3333333333333333,
             "#9c179e"
            ],
            [
             0.4444444444444444,
             "#bd3786"
            ],
            [
             0.5555555555555556,
             "#d8576b"
            ],
            [
             0.6666666666666666,
             "#ed7953"
            ],
            [
             0.7777777777777778,
             "#fb9f3a"
            ],
            [
             0.8888888888888888,
             "#fdca26"
            ],
            [
             1,
             "#f0f921"
            ]
           ],
           "sequentialminus": [
            [
             0,
             "#0d0887"
            ],
            [
             0.1111111111111111,
             "#46039f"
            ],
            [
             0.2222222222222222,
             "#7201a8"
            ],
            [
             0.3333333333333333,
             "#9c179e"
            ],
            [
             0.4444444444444444,
             "#bd3786"
            ],
            [
             0.5555555555555556,
             "#d8576b"
            ],
            [
             0.6666666666666666,
             "#ed7953"
            ],
            [
             0.7777777777777778,
             "#fb9f3a"
            ],
            [
             0.8888888888888888,
             "#fdca26"
            ],
            [
             1,
             "#f0f921"
            ]
           ]
          },
          "colorway": [
           "#636efa",
           "#EF553B",
           "#00cc96",
           "#ab63fa",
           "#FFA15A",
           "#19d3f3",
           "#FF6692",
           "#B6E880",
           "#FF97FF",
           "#FECB52"
          ],
          "font": {
           "color": "#2a3f5f"
          },
          "geo": {
           "bgcolor": "white",
           "lakecolor": "white",
           "landcolor": "#E5ECF6",
           "showlakes": true,
           "showland": true,
           "subunitcolor": "white"
          },
          "hoverlabel": {
           "align": "left"
          },
          "hovermode": "closest",
          "mapbox": {
           "style": "light"
          },
          "paper_bgcolor": "white",
          "plot_bgcolor": "#E5ECF6",
          "polar": {
           "angularaxis": {
            "gridcolor": "white",
            "linecolor": "white",
            "ticks": ""
           },
           "bgcolor": "#E5ECF6",
           "radialaxis": {
            "gridcolor": "white",
            "linecolor": "white",
            "ticks": ""
           }
          },
          "scene": {
           "xaxis": {
            "backgroundcolor": "#E5ECF6",
            "gridcolor": "white",
            "gridwidth": 2,
            "linecolor": "white",
            "showbackground": true,
            "ticks": "",
            "zerolinecolor": "white"
           },
           "yaxis": {
            "backgroundcolor": "#E5ECF6",
            "gridcolor": "white",
            "gridwidth": 2,
            "linecolor": "white",
            "showbackground": true,
            "ticks": "",
            "zerolinecolor": "white"
           },
           "zaxis": {
            "backgroundcolor": "#E5ECF6",
            "gridcolor": "white",
            "gridwidth": 2,
            "linecolor": "white",
            "showbackground": true,
            "ticks": "",
            "zerolinecolor": "white"
           }
          },
          "shapedefaults": {
           "line": {
            "color": "#2a3f5f"
           }
          },
          "ternary": {
           "aaxis": {
            "gridcolor": "white",
            "linecolor": "white",
            "ticks": ""
           },
           "baxis": {
            "gridcolor": "white",
            "linecolor": "white",
            "ticks": ""
           },
           "bgcolor": "#E5ECF6",
           "caxis": {
            "gridcolor": "white",
            "linecolor": "white",
            "ticks": ""
           }
          },
          "title": {
           "x": 0.05
          },
          "xaxis": {
           "automargin": true,
           "gridcolor": "white",
           "linecolor": "white",
           "ticks": "",
           "title": {
            "standoff": 15
           },
           "zerolinecolor": "white",
           "zerolinewidth": 2
          },
          "yaxis": {
           "automargin": true,
           "gridcolor": "white",
           "linecolor": "white",
           "ticks": "",
           "title": {
            "standoff": 15
           },
           "zerolinecolor": "white",
           "zerolinewidth": 2
          }
         }
        }
       }
      },
      "text/html": [
       "<div>\n",
       "        \n",
       "        \n",
       "            <div id=\"a791d26c-ee7f-41ae-9f50-a378f71380bd\" class=\"plotly-graph-div\" style=\"height:525px; width:100%;\"></div>\n",
       "            <script type=\"text/javascript\">\n",
       "                require([\"plotly\"], function(Plotly) {\n",
       "                    window.PLOTLYENV=window.PLOTLYENV || {};\n",
       "                    \n",
       "                if (document.getElementById(\"a791d26c-ee7f-41ae-9f50-a378f71380bd\")) {\n",
       "                    Plotly.newPlot(\n",
       "                        'a791d26c-ee7f-41ae-9f50-a378f71380bd',\n",
       "                        [{\"autocolorscale\": false, \"colorbar\": {\"tickprefix\": \"$\", \"title\": {\"text\": \"Sales $\"}}, \"colorscale\": [[0.0, \"rgb(255,255,204)\"], [0.125, \"rgb(255,237,160)\"], [0.25, \"rgb(254,217,118)\"], [0.375, \"rgb(254,178,76)\"], [0.5, \"rgb(253,141,60)\"], [0.625, \"rgb(252,78,42)\"], [0.75, \"rgb(227,26,28)\"], [0.875, \"rgb(189,0,38)\"], [1.0, \"rgb(128,0,38)\"]], \"locations\": [\"AUS\", \"AUT\", \"BEL\", \"CAN\", \"DNK\", \"FIN\", \"FRA\", \"DEU\", \"IRL\", \"ITA\", \"JPN\", \"NOR\", \"PHL\", \"SGP\", \"ESP\", \"SWE\", \"CHE\", \"GBR\", \"USA\"], \"marker\": {\"line\": {\"color\": \"white\", \"width\": 0.5}}, \"reversescale\": false, \"text\": [\"Australia\", \"Austria\", \"Belgium\", \"Canada\", \"Denmark\", \"Finland\", \"France\", \"Germany\", \"Ireland\", \"Italy\", \"Japan\", \"Norway\", \"Philippines\", \"Singapore\", \"Spain\", \"Sweden\", \"Switzerland\", \"United Kingdom\", \"United States of America\"], \"type\": \"choropleth\", \"z\": [630623.1000000001, 202062.53, 108412.62, 224078.55999999994, 245637.15, 329581.9100000001, 1110916.5199999993, 220472.08999999994, 57756.43, 374674.30999999976, 188167.80999999997, 307463.7000000001, 94015.73, 288488.41000000003, 1215686.9200000009, 210014.21, 117713.55999999998, 478880.4600000001, 3627982.83]}],\n",
       "                        {\"geo\": {\"projection\": {\"type\": \"equirectangular\"}, \"showcoastlines\": true, \"showframe\": true}, \"template\": {\"data\": {\"bar\": [{\"error_x\": {\"color\": \"#2a3f5f\"}, \"error_y\": {\"color\": \"#2a3f5f\"}, \"marker\": {\"line\": {\"color\": \"#E5ECF6\", \"width\": 0.5}}, \"type\": \"bar\"}], \"barpolar\": [{\"marker\": {\"line\": {\"color\": \"#E5ECF6\", \"width\": 0.5}}, \"type\": \"barpolar\"}], \"carpet\": [{\"aaxis\": {\"endlinecolor\": \"#2a3f5f\", \"gridcolor\": \"white\", \"linecolor\": \"white\", \"minorgridcolor\": \"white\", \"startlinecolor\": \"#2a3f5f\"}, \"baxis\": {\"endlinecolor\": \"#2a3f5f\", \"gridcolor\": \"white\", \"linecolor\": \"white\", \"minorgridcolor\": \"white\", \"startlinecolor\": \"#2a3f5f\"}, \"type\": \"carpet\"}], \"choropleth\": [{\"colorbar\": {\"outlinewidth\": 0, \"ticks\": \"\"}, \"type\": \"choropleth\"}], \"contour\": [{\"colorbar\": {\"outlinewidth\": 0, \"ticks\": \"\"}, \"colorscale\": [[0.0, \"#0d0887\"], [0.1111111111111111, \"#46039f\"], [0.2222222222222222, \"#7201a8\"], [0.3333333333333333, \"#9c179e\"], [0.4444444444444444, \"#bd3786\"], [0.5555555555555556, \"#d8576b\"], [0.6666666666666666, \"#ed7953\"], [0.7777777777777778, \"#fb9f3a\"], [0.8888888888888888, \"#fdca26\"], [1.0, \"#f0f921\"]], \"type\": \"contour\"}], \"contourcarpet\": [{\"colorbar\": {\"outlinewidth\": 0, \"ticks\": \"\"}, \"type\": \"contourcarpet\"}], \"heatmap\": [{\"colorbar\": {\"outlinewidth\": 0, \"ticks\": \"\"}, \"colorscale\": [[0.0, \"#0d0887\"], [0.1111111111111111, \"#46039f\"], [0.2222222222222222, \"#7201a8\"], [0.3333333333333333, \"#9c179e\"], [0.4444444444444444, \"#bd3786\"], [0.5555555555555556, \"#d8576b\"], [0.6666666666666666, \"#ed7953\"], [0.7777777777777778, \"#fb9f3a\"], [0.8888888888888888, \"#fdca26\"], [1.0, \"#f0f921\"]], \"type\": \"heatmap\"}], \"heatmapgl\": [{\"colorbar\": {\"outlinewidth\": 0, \"ticks\": \"\"}, \"colorscale\": [[0.0, \"#0d0887\"], [0.1111111111111111, \"#46039f\"], [0.2222222222222222, \"#7201a8\"], [0.3333333333333333, \"#9c179e\"], [0.4444444444444444, \"#bd3786\"], [0.5555555555555556, \"#d8576b\"], [0.6666666666666666, \"#ed7953\"], [0.7777777777777778, \"#fb9f3a\"], [0.8888888888888888, \"#fdca26\"], [1.0, \"#f0f921\"]], \"type\": \"heatmapgl\"}], \"histogram\": [{\"marker\": {\"colorbar\": {\"outlinewidth\": 0, \"ticks\": \"\"}}, \"type\": \"histogram\"}], \"histogram2d\": [{\"colorbar\": {\"outlinewidth\": 0, \"ticks\": \"\"}, \"colorscale\": [[0.0, \"#0d0887\"], [0.1111111111111111, \"#46039f\"], [0.2222222222222222, \"#7201a8\"], [0.3333333333333333, \"#9c179e\"], [0.4444444444444444, \"#bd3786\"], [0.5555555555555556, \"#d8576b\"], [0.6666666666666666, \"#ed7953\"], [0.7777777777777778, \"#fb9f3a\"], [0.8888888888888888, \"#fdca26\"], [1.0, \"#f0f921\"]], \"type\": \"histogram2d\"}], \"histogram2dcontour\": [{\"colorbar\": {\"outlinewidth\": 0, \"ticks\": \"\"}, \"colorscale\": [[0.0, \"#0d0887\"], [0.1111111111111111, \"#46039f\"], [0.2222222222222222, \"#7201a8\"], [0.3333333333333333, \"#9c179e\"], [0.4444444444444444, \"#bd3786\"], [0.5555555555555556, \"#d8576b\"], [0.6666666666666666, \"#ed7953\"], [0.7777777777777778, \"#fb9f3a\"], [0.8888888888888888, \"#fdca26\"], [1.0, \"#f0f921\"]], \"type\": \"histogram2dcontour\"}], \"mesh3d\": [{\"colorbar\": {\"outlinewidth\": 0, \"ticks\": \"\"}, \"type\": \"mesh3d\"}], \"parcoords\": [{\"line\": {\"colorbar\": {\"outlinewidth\": 0, \"ticks\": \"\"}}, \"type\": \"parcoords\"}], \"pie\": [{\"automargin\": true, \"type\": \"pie\"}], \"scatter\": [{\"marker\": {\"colorbar\": {\"outlinewidth\": 0, \"ticks\": \"\"}}, \"type\": \"scatter\"}], \"scatter3d\": [{\"line\": {\"colorbar\": {\"outlinewidth\": 0, \"ticks\": \"\"}}, \"marker\": {\"colorbar\": {\"outlinewidth\": 0, \"ticks\": \"\"}}, \"type\": \"scatter3d\"}], \"scattercarpet\": [{\"marker\": {\"colorbar\": {\"outlinewidth\": 0, \"ticks\": \"\"}}, \"type\": \"scattercarpet\"}], \"scattergeo\": [{\"marker\": {\"colorbar\": {\"outlinewidth\": 0, \"ticks\": \"\"}}, \"type\": \"scattergeo\"}], \"scattergl\": [{\"marker\": {\"colorbar\": {\"outlinewidth\": 0, \"ticks\": \"\"}}, \"type\": \"scattergl\"}], \"scattermapbox\": [{\"marker\": {\"colorbar\": {\"outlinewidth\": 0, \"ticks\": \"\"}}, \"type\": \"scattermapbox\"}], \"scatterpolar\": [{\"marker\": {\"colorbar\": {\"outlinewidth\": 0, \"ticks\": \"\"}}, \"type\": \"scatterpolar\"}], \"scatterpolargl\": [{\"marker\": {\"colorbar\": {\"outlinewidth\": 0, \"ticks\": \"\"}}, \"type\": \"scatterpolargl\"}], \"scatterternary\": [{\"marker\": {\"colorbar\": {\"outlinewidth\": 0, \"ticks\": \"\"}}, \"type\": \"scatterternary\"}], \"surface\": [{\"colorbar\": {\"outlinewidth\": 0, \"ticks\": \"\"}, \"colorscale\": [[0.0, \"#0d0887\"], [0.1111111111111111, \"#46039f\"], [0.2222222222222222, \"#7201a8\"], [0.3333333333333333, \"#9c179e\"], [0.4444444444444444, \"#bd3786\"], [0.5555555555555556, \"#d8576b\"], [0.6666666666666666, \"#ed7953\"], [0.7777777777777778, \"#fb9f3a\"], [0.8888888888888888, \"#fdca26\"], [1.0, \"#f0f921\"]], \"type\": \"surface\"}], \"table\": [{\"cells\": {\"fill\": {\"color\": \"#EBF0F8\"}, \"line\": {\"color\": \"white\"}}, \"header\": {\"fill\": {\"color\": \"#C8D4E3\"}, \"line\": {\"color\": \"white\"}}, \"type\": \"table\"}]}, \"layout\": {\"annotationdefaults\": {\"arrowcolor\": \"#2a3f5f\", \"arrowhead\": 0, \"arrowwidth\": 1}, \"coloraxis\": {\"colorbar\": {\"outlinewidth\": 0, \"ticks\": \"\"}}, \"colorscale\": {\"diverging\": [[0, \"#8e0152\"], [0.1, \"#c51b7d\"], [0.2, \"#de77ae\"], [0.3, \"#f1b6da\"], [0.4, \"#fde0ef\"], [0.5, \"#f7f7f7\"], [0.6, \"#e6f5d0\"], [0.7, \"#b8e186\"], [0.8, \"#7fbc41\"], [0.9, \"#4d9221\"], [1, \"#276419\"]], \"sequential\": [[0.0, \"#0d0887\"], [0.1111111111111111, \"#46039f\"], [0.2222222222222222, \"#7201a8\"], [0.3333333333333333, \"#9c179e\"], [0.4444444444444444, \"#bd3786\"], [0.5555555555555556, \"#d8576b\"], [0.6666666666666666, \"#ed7953\"], [0.7777777777777778, \"#fb9f3a\"], [0.8888888888888888, \"#fdca26\"], [1.0, \"#f0f921\"]], \"sequentialminus\": [[0.0, \"#0d0887\"], [0.1111111111111111, \"#46039f\"], [0.2222222222222222, \"#7201a8\"], [0.3333333333333333, \"#9c179e\"], [0.4444444444444444, \"#bd3786\"], [0.5555555555555556, \"#d8576b\"], [0.6666666666666666, \"#ed7953\"], [0.7777777777777778, \"#fb9f3a\"], [0.8888888888888888, \"#fdca26\"], [1.0, \"#f0f921\"]]}, \"colorway\": [\"#636efa\", \"#EF553B\", \"#00cc96\", \"#ab63fa\", \"#FFA15A\", \"#19d3f3\", \"#FF6692\", \"#B6E880\", \"#FF97FF\", \"#FECB52\"], \"font\": {\"color\": \"#2a3f5f\"}, \"geo\": {\"bgcolor\": \"white\", \"lakecolor\": \"white\", \"landcolor\": \"#E5ECF6\", \"showlakes\": true, \"showland\": true, \"subunitcolor\": \"white\"}, \"hoverlabel\": {\"align\": \"left\"}, \"hovermode\": \"closest\", \"mapbox\": {\"style\": \"light\"}, \"paper_bgcolor\": \"white\", \"plot_bgcolor\": \"#E5ECF6\", \"polar\": {\"angularaxis\": {\"gridcolor\": \"white\", \"linecolor\": \"white\", \"ticks\": \"\"}, \"bgcolor\": \"#E5ECF6\", \"radialaxis\": {\"gridcolor\": \"white\", \"linecolor\": \"white\", \"ticks\": \"\"}}, \"scene\": {\"xaxis\": {\"backgroundcolor\": \"#E5ECF6\", \"gridcolor\": \"white\", \"gridwidth\": 2, \"linecolor\": \"white\", \"showbackground\": true, \"ticks\": \"\", \"zerolinecolor\": \"white\"}, \"yaxis\": {\"backgroundcolor\": \"#E5ECF6\", \"gridcolor\": \"white\", \"gridwidth\": 2, \"linecolor\": \"white\", \"showbackground\": true, \"ticks\": \"\", \"zerolinecolor\": \"white\"}, \"zaxis\": {\"backgroundcolor\": \"#E5ECF6\", \"gridcolor\": \"white\", \"gridwidth\": 2, \"linecolor\": \"white\", \"showbackground\": true, \"ticks\": \"\", \"zerolinecolor\": \"white\"}}, \"shapedefaults\": {\"line\": {\"color\": \"#2a3f5f\"}}, \"ternary\": {\"aaxis\": {\"gridcolor\": \"white\", \"linecolor\": \"white\", \"ticks\": \"\"}, \"baxis\": {\"gridcolor\": \"white\", \"linecolor\": \"white\", \"ticks\": \"\"}, \"bgcolor\": \"#E5ECF6\", \"caxis\": {\"gridcolor\": \"white\", \"linecolor\": \"white\", \"ticks\": \"\"}}, \"title\": {\"x\": 0.05}, \"xaxis\": {\"automargin\": true, \"gridcolor\": \"white\", \"linecolor\": \"white\", \"ticks\": \"\", \"title\": {\"standoff\": 15}, \"zerolinecolor\": \"white\", \"zerolinewidth\": 2}, \"yaxis\": {\"automargin\": true, \"gridcolor\": \"white\", \"linecolor\": \"white\", \"ticks\": \"\", \"title\": {\"standoff\": 15}, \"zerolinecolor\": \"white\", \"zerolinewidth\": 2}}}},\n",
       "                        {\"responsive\": true}\n",
       "                    ).then(function(){\n",
       "                            \n",
       "var gd = document.getElementById('a791d26c-ee7f-41ae-9f50-a378f71380bd');\n",
       "var x = new MutationObserver(function (mutations, observer) {{\n",
       "        var display = window.getComputedStyle(gd).display;\n",
       "        if (!display || display === 'none') {{\n",
       "            console.log([gd, 'removed!']);\n",
       "            Plotly.purge(gd);\n",
       "            observer.disconnect();\n",
       "        }}\n",
       "}});\n",
       "\n",
       "// Listen for the removal of the full notebook cells\n",
       "var notebookContainer = gd.closest('#notebook-container');\n",
       "if (notebookContainer) {{\n",
       "    x.observe(notebookContainer, {childList: true});\n",
       "}}\n",
       "\n",
       "// Listen for the clearing of the current output cell\n",
       "var outputEl = gd.closest('.output');\n",
       "if (outputEl) {{\n",
       "    x.observe(outputEl, {childList: true});\n",
       "}}\n",
       "\n",
       "                        })\n",
       "                };\n",
       "                });\n",
       "            </script>\n",
       "        </div>"
      ]
     },
     "metadata": {},
     "output_type": "display_data"
    }
   ],
   "source": [
    "import plotly.graph_objects as go\n",
    "fig = go.Figure(data=go.Choropleth(\n",
    "    locations = df4['Code'],\n",
    "    z = df4['SALES'],\n",
    "    text = df4['COUNTRY'],\n",
    "    colorscale = 'YlOrRd',\n",
    "    autocolorscale=False,\n",
    "    reversescale=False,\n",
    "    marker_line_color='white',\n",
    "    marker_line_width=0.5,\n",
    "    colorbar_tickprefix = '$',\n",
    "    colorbar_title = 'Sales $',\n",
    "))\n",
    "\n",
    "fig.update_layout(\n",
    "    geo=dict(\n",
    "        showframe=True,\n",
    "        showcoastlines=True,\n",
    "        projection_type='equirectangular'\n",
    "    )\n",
    ")\n",
    "\n",
    "fig.show()"
   ]
  },
  {
   "cell_type": "markdown",
   "metadata": {},
   "source": [
    "## 5.\tJumlah produk tiap kategori yang terjual berdasarkan wilayah"
   ]
  },
  {
   "cell_type": "code",
   "execution_count": 23,
   "metadata": {},
   "outputs": [
    {
     "data": {
      "text/html": [
       "<div>\n",
       "<style scoped>\n",
       "    .dataframe tbody tr th:only-of-type {\n",
       "        vertical-align: middle;\n",
       "    }\n",
       "\n",
       "    .dataframe tbody tr th {\n",
       "        vertical-align: top;\n",
       "    }\n",
       "\n",
       "    .dataframe thead th {\n",
       "        text-align: right;\n",
       "    }\n",
       "</style>\n",
       "<table border=\"1\" class=\"dataframe\">\n",
       "  <thead>\n",
       "    <tr style=\"text-align: right;\">\n",
       "      <th></th>\n",
       "      <th>COUNTRY</th>\n",
       "      <th>KATEGORI PRODUK</th>\n",
       "      <th>QUANTITYORDERED</th>\n",
       "    </tr>\n",
       "  </thead>\n",
       "  <tbody>\n",
       "    <tr>\n",
       "      <th>0</th>\n",
       "      <td>Australia</td>\n",
       "      <td>Classic Cars</td>\n",
       "      <td>1818</td>\n",
       "    </tr>\n",
       "    <tr>\n",
       "      <th>1</th>\n",
       "      <td>Australia</td>\n",
       "      <td>Motorcycles</td>\n",
       "      <td>876</td>\n",
       "    </tr>\n",
       "    <tr>\n",
       "      <th>2</th>\n",
       "      <td>Australia</td>\n",
       "      <td>Planes</td>\n",
       "      <td>813</td>\n",
       "    </tr>\n",
       "    <tr>\n",
       "      <th>3</th>\n",
       "      <td>Australia</td>\n",
       "      <td>Ships</td>\n",
       "      <td>56</td>\n",
       "    </tr>\n",
       "    <tr>\n",
       "      <th>4</th>\n",
       "      <td>Australia</td>\n",
       "      <td>Trains</td>\n",
       "      <td>33</td>\n",
       "    </tr>\n",
       "    <tr>\n",
       "      <th>5</th>\n",
       "      <td>Australia</td>\n",
       "      <td>Trucks and Buses</td>\n",
       "      <td>705</td>\n",
       "    </tr>\n",
       "    <tr>\n",
       "      <th>6</th>\n",
       "      <td>Australia</td>\n",
       "      <td>Vintage Cars</td>\n",
       "      <td>1945</td>\n",
       "    </tr>\n",
       "    <tr>\n",
       "      <th>7</th>\n",
       "      <td>Austria</td>\n",
       "      <td>Classic Cars</td>\n",
       "      <td>937</td>\n",
       "    </tr>\n",
       "    <tr>\n",
       "      <th>8</th>\n",
       "      <td>Austria</td>\n",
       "      <td>Motorcycles</td>\n",
       "      <td>197</td>\n",
       "    </tr>\n",
       "    <tr>\n",
       "      <th>9</th>\n",
       "      <td>Austria</td>\n",
       "      <td>Planes</td>\n",
       "      <td>200</td>\n",
       "    </tr>\n",
       "    <tr>\n",
       "      <th>10</th>\n",
       "      <td>Austria</td>\n",
       "      <td>Ships</td>\n",
       "      <td>113</td>\n",
       "    </tr>\n",
       "    <tr>\n",
       "      <th>11</th>\n",
       "      <td>Austria</td>\n",
       "      <td>Trucks and Buses</td>\n",
       "      <td>203</td>\n",
       "    </tr>\n",
       "    <tr>\n",
       "      <th>12</th>\n",
       "      <td>Austria</td>\n",
       "      <td>Vintage Cars</td>\n",
       "      <td>324</td>\n",
       "    </tr>\n",
       "    <tr>\n",
       "      <th>13</th>\n",
       "      <td>Belgium</td>\n",
       "      <td>Classic Cars</td>\n",
       "      <td>147</td>\n",
       "    </tr>\n",
       "    <tr>\n",
       "      <th>14</th>\n",
       "      <td>Belgium</td>\n",
       "      <td>Planes</td>\n",
       "      <td>41</td>\n",
       "    </tr>\n",
       "    <tr>\n",
       "      <th>15</th>\n",
       "      <td>Belgium</td>\n",
       "      <td>Ships</td>\n",
       "      <td>343</td>\n",
       "    </tr>\n",
       "    <tr>\n",
       "      <th>16</th>\n",
       "      <td>Belgium</td>\n",
       "      <td>Trains</td>\n",
       "      <td>97</td>\n",
       "    </tr>\n",
       "    <tr>\n",
       "      <th>17</th>\n",
       "      <td>Belgium</td>\n",
       "      <td>Vintage Cars</td>\n",
       "      <td>446</td>\n",
       "    </tr>\n",
       "    <tr>\n",
       "      <th>18</th>\n",
       "      <td>Canada</td>\n",
       "      <td>Classic Cars</td>\n",
       "      <td>456</td>\n",
       "    </tr>\n",
       "    <tr>\n",
       "      <th>19</th>\n",
       "      <td>Canada</td>\n",
       "      <td>Motorcycles</td>\n",
       "      <td>41</td>\n",
       "    </tr>\n",
       "    <tr>\n",
       "      <th>20</th>\n",
       "      <td>Canada</td>\n",
       "      <td>Planes</td>\n",
       "      <td>317</td>\n",
       "    </tr>\n",
       "    <tr>\n",
       "      <th>21</th>\n",
       "      <td>Canada</td>\n",
       "      <td>Ships</td>\n",
       "      <td>486</td>\n",
       "    </tr>\n",
       "    <tr>\n",
       "      <th>22</th>\n",
       "      <td>Canada</td>\n",
       "      <td>Trucks and Buses</td>\n",
       "      <td>517</td>\n",
       "    </tr>\n",
       "    <tr>\n",
       "      <th>23</th>\n",
       "      <td>Canada</td>\n",
       "      <td>Vintage Cars</td>\n",
       "      <td>476</td>\n",
       "    </tr>\n",
       "    <tr>\n",
       "      <th>24</th>\n",
       "      <td>Denmark</td>\n",
       "      <td>Classic Cars</td>\n",
       "      <td>1244</td>\n",
       "    </tr>\n",
       "    <tr>\n",
       "      <th>25</th>\n",
       "      <td>Denmark</td>\n",
       "      <td>Planes</td>\n",
       "      <td>70</td>\n",
       "    </tr>\n",
       "    <tr>\n",
       "      <th>26</th>\n",
       "      <td>Denmark</td>\n",
       "      <td>Ships</td>\n",
       "      <td>436</td>\n",
       "    </tr>\n",
       "    <tr>\n",
       "      <th>27</th>\n",
       "      <td>Denmark</td>\n",
       "      <td>Trains</td>\n",
       "      <td>134</td>\n",
       "    </tr>\n",
       "    <tr>\n",
       "      <th>28</th>\n",
       "      <td>Denmark</td>\n",
       "      <td>Trucks and Buses</td>\n",
       "      <td>73</td>\n",
       "    </tr>\n",
       "    <tr>\n",
       "      <th>29</th>\n",
       "      <td>Denmark</td>\n",
       "      <td>Vintage Cars</td>\n",
       "      <td>240</td>\n",
       "    </tr>\n",
       "    <tr>\n",
       "      <th>...</th>\n",
       "      <td>...</td>\n",
       "      <td>...</td>\n",
       "      <td>...</td>\n",
       "    </tr>\n",
       "    <tr>\n",
       "      <th>86</th>\n",
       "      <td>Singapore</td>\n",
       "      <td>Vintage Cars</td>\n",
       "      <td>437</td>\n",
       "    </tr>\n",
       "    <tr>\n",
       "      <th>87</th>\n",
       "      <td>Spain</td>\n",
       "      <td>Classic Cars</td>\n",
       "      <td>4380</td>\n",
       "    </tr>\n",
       "    <tr>\n",
       "      <th>88</th>\n",
       "      <td>Spain</td>\n",
       "      <td>Motorcycles</td>\n",
       "      <td>780</td>\n",
       "    </tr>\n",
       "    <tr>\n",
       "      <th>89</th>\n",
       "      <td>Spain</td>\n",
       "      <td>Planes</td>\n",
       "      <td>1101</td>\n",
       "    </tr>\n",
       "    <tr>\n",
       "      <th>90</th>\n",
       "      <td>Spain</td>\n",
       "      <td>Ships</td>\n",
       "      <td>1388</td>\n",
       "    </tr>\n",
       "    <tr>\n",
       "      <th>91</th>\n",
       "      <td>Spain</td>\n",
       "      <td>Trains</td>\n",
       "      <td>509</td>\n",
       "    </tr>\n",
       "    <tr>\n",
       "      <th>92</th>\n",
       "      <td>Spain</td>\n",
       "      <td>Trucks and Buses</td>\n",
       "      <td>1709</td>\n",
       "    </tr>\n",
       "    <tr>\n",
       "      <th>93</th>\n",
       "      <td>Spain</td>\n",
       "      <td>Vintage Cars</td>\n",
       "      <td>2562</td>\n",
       "    </tr>\n",
       "    <tr>\n",
       "      <th>94</th>\n",
       "      <td>Sweden</td>\n",
       "      <td>Classic Cars</td>\n",
       "      <td>552</td>\n",
       "    </tr>\n",
       "    <tr>\n",
       "      <th>95</th>\n",
       "      <td>Sweden</td>\n",
       "      <td>Motorcycles</td>\n",
       "      <td>133</td>\n",
       "    </tr>\n",
       "    <tr>\n",
       "      <th>96</th>\n",
       "      <td>Sweden</td>\n",
       "      <td>Planes</td>\n",
       "      <td>104</td>\n",
       "    </tr>\n",
       "    <tr>\n",
       "      <th>97</th>\n",
       "      <td>Sweden</td>\n",
       "      <td>Ships</td>\n",
       "      <td>367</td>\n",
       "    </tr>\n",
       "    <tr>\n",
       "      <th>98</th>\n",
       "      <td>Sweden</td>\n",
       "      <td>Trains</td>\n",
       "      <td>32</td>\n",
       "    </tr>\n",
       "    <tr>\n",
       "      <th>99</th>\n",
       "      <td>Sweden</td>\n",
       "      <td>Trucks and Buses</td>\n",
       "      <td>433</td>\n",
       "    </tr>\n",
       "    <tr>\n",
       "      <th>100</th>\n",
       "      <td>Sweden</td>\n",
       "      <td>Vintage Cars</td>\n",
       "      <td>385</td>\n",
       "    </tr>\n",
       "    <tr>\n",
       "      <th>101</th>\n",
       "      <td>Switzerland</td>\n",
       "      <td>Classic Cars</td>\n",
       "      <td>1078</td>\n",
       "    </tr>\n",
       "    <tr>\n",
       "      <th>102</th>\n",
       "      <td>United Kingdom</td>\n",
       "      <td>Classic Cars</td>\n",
       "      <td>1507</td>\n",
       "    </tr>\n",
       "    <tr>\n",
       "      <th>103</th>\n",
       "      <td>United Kingdom</td>\n",
       "      <td>Motorcycles</td>\n",
       "      <td>371</td>\n",
       "    </tr>\n",
       "    <tr>\n",
       "      <th>104</th>\n",
       "      <td>United Kingdom</td>\n",
       "      <td>Planes</td>\n",
       "      <td>479</td>\n",
       "    </tr>\n",
       "    <tr>\n",
       "      <th>105</th>\n",
       "      <td>United Kingdom</td>\n",
       "      <td>Ships</td>\n",
       "      <td>831</td>\n",
       "    </tr>\n",
       "    <tr>\n",
       "      <th>106</th>\n",
       "      <td>United Kingdom</td>\n",
       "      <td>Trains</td>\n",
       "      <td>168</td>\n",
       "    </tr>\n",
       "    <tr>\n",
       "      <th>107</th>\n",
       "      <td>United Kingdom</td>\n",
       "      <td>Trucks and Buses</td>\n",
       "      <td>291</td>\n",
       "    </tr>\n",
       "    <tr>\n",
       "      <th>108</th>\n",
       "      <td>United Kingdom</td>\n",
       "      <td>Vintage Cars</td>\n",
       "      <td>1366</td>\n",
       "    </tr>\n",
       "    <tr>\n",
       "      <th>109</th>\n",
       "      <td>United States of America</td>\n",
       "      <td>Classic Cars</td>\n",
       "      <td>11625</td>\n",
       "    </tr>\n",
       "    <tr>\n",
       "      <th>110</th>\n",
       "      <td>United States of America</td>\n",
       "      <td>Motorcycles</td>\n",
       "      <td>5080</td>\n",
       "    </tr>\n",
       "    <tr>\n",
       "      <th>111</th>\n",
       "      <td>United States of America</td>\n",
       "      <td>Planes</td>\n",
       "      <td>3476</td>\n",
       "    </tr>\n",
       "    <tr>\n",
       "      <th>112</th>\n",
       "      <td>United States of America</td>\n",
       "      <td>Ships</td>\n",
       "      <td>2395</td>\n",
       "    </tr>\n",
       "    <tr>\n",
       "      <th>113</th>\n",
       "      <td>United States of America</td>\n",
       "      <td>Trains</td>\n",
       "      <td>912</td>\n",
       "    </tr>\n",
       "    <tr>\n",
       "      <th>114</th>\n",
       "      <td>United States of America</td>\n",
       "      <td>Trucks and Buses</td>\n",
       "      <td>3932</td>\n",
       "    </tr>\n",
       "    <tr>\n",
       "      <th>115</th>\n",
       "      <td>United States of America</td>\n",
       "      <td>Vintage Cars</td>\n",
       "      <td>8239</td>\n",
       "    </tr>\n",
       "  </tbody>\n",
       "</table>\n",
       "<p>116 rows × 3 columns</p>\n",
       "</div>"
      ],
      "text/plain": [
       "                      COUNTRY   KATEGORI PRODUK  QUANTITYORDERED\n",
       "0                   Australia      Classic Cars             1818\n",
       "1                   Australia       Motorcycles              876\n",
       "2                   Australia            Planes              813\n",
       "3                   Australia             Ships               56\n",
       "4                   Australia            Trains               33\n",
       "5                   Australia  Trucks and Buses              705\n",
       "6                   Australia      Vintage Cars             1945\n",
       "7                     Austria      Classic Cars              937\n",
       "8                     Austria       Motorcycles              197\n",
       "9                     Austria            Planes              200\n",
       "10                    Austria             Ships              113\n",
       "11                    Austria  Trucks and Buses              203\n",
       "12                    Austria      Vintage Cars              324\n",
       "13                    Belgium      Classic Cars              147\n",
       "14                    Belgium            Planes               41\n",
       "15                    Belgium             Ships              343\n",
       "16                    Belgium            Trains               97\n",
       "17                    Belgium      Vintage Cars              446\n",
       "18                     Canada      Classic Cars              456\n",
       "19                     Canada       Motorcycles               41\n",
       "20                     Canada            Planes              317\n",
       "21                     Canada             Ships              486\n",
       "22                     Canada  Trucks and Buses              517\n",
       "23                     Canada      Vintage Cars              476\n",
       "24                    Denmark      Classic Cars             1244\n",
       "25                    Denmark            Planes               70\n",
       "26                    Denmark             Ships              436\n",
       "27                    Denmark            Trains              134\n",
       "28                    Denmark  Trucks and Buses               73\n",
       "29                    Denmark      Vintage Cars              240\n",
       "..                        ...               ...              ...\n",
       "86                  Singapore      Vintage Cars              437\n",
       "87                      Spain      Classic Cars             4380\n",
       "88                      Spain       Motorcycles              780\n",
       "89                      Spain            Planes             1101\n",
       "90                      Spain             Ships             1388\n",
       "91                      Spain            Trains              509\n",
       "92                      Spain  Trucks and Buses             1709\n",
       "93                      Spain      Vintage Cars             2562\n",
       "94                     Sweden      Classic Cars              552\n",
       "95                     Sweden       Motorcycles              133\n",
       "96                     Sweden            Planes              104\n",
       "97                     Sweden             Ships              367\n",
       "98                     Sweden            Trains               32\n",
       "99                     Sweden  Trucks and Buses              433\n",
       "100                    Sweden      Vintage Cars              385\n",
       "101               Switzerland      Classic Cars             1078\n",
       "102            United Kingdom      Classic Cars             1507\n",
       "103            United Kingdom       Motorcycles              371\n",
       "104            United Kingdom            Planes              479\n",
       "105            United Kingdom             Ships              831\n",
       "106            United Kingdom            Trains              168\n",
       "107            United Kingdom  Trucks and Buses              291\n",
       "108            United Kingdom      Vintage Cars             1366\n",
       "109  United States of America      Classic Cars            11625\n",
       "110  United States of America       Motorcycles             5080\n",
       "111  United States of America            Planes             3476\n",
       "112  United States of America             Ships             2395\n",
       "113  United States of America            Trains              912\n",
       "114  United States of America  Trucks and Buses             3932\n",
       "115  United States of America      Vintage Cars             8239\n",
       "\n",
       "[116 rows x 3 columns]"
      ]
     },
     "execution_count": 23,
     "metadata": {},
     "output_type": "execute_result"
    }
   ],
   "source": [
    "dfclone2=df\n",
    "dfclone2=dfclone2.rename(columns={\"PRODUCTLINE\": \"KATEGORI PRODUK\"})\n",
    "ctry=dfclone2.groupby(['COUNTRY','KATEGORI PRODUK']).agg({'QUANTITYORDERED': lambda x: x.sum() })\n",
    "df5=pd.DataFrame(data = ctry)\n",
    "df5=df5.reset_index()\n",
    "df5"
   ]
  },
  {
   "cell_type": "code",
   "execution_count": 24,
   "metadata": {},
   "outputs": [
    {
     "data": {
      "text/html": [
       "<div>\n",
       "<style scoped>\n",
       "    .dataframe tbody tr th:only-of-type {\n",
       "        vertical-align: middle;\n",
       "    }\n",
       "\n",
       "    .dataframe tbody tr th {\n",
       "        vertical-align: top;\n",
       "    }\n",
       "\n",
       "    .dataframe thead th {\n",
       "        text-align: right;\n",
       "    }\n",
       "</style>\n",
       "<table border=\"1\" class=\"dataframe\">\n",
       "  <thead>\n",
       "    <tr style=\"text-align: right;\">\n",
       "      <th>KATEGORI PRODUK</th>\n",
       "      <th>Classic Cars</th>\n",
       "      <th>Motorcycles</th>\n",
       "      <th>Planes</th>\n",
       "      <th>Ships</th>\n",
       "      <th>Trains</th>\n",
       "      <th>Trucks and Buses</th>\n",
       "      <th>Vintage Cars</th>\n",
       "    </tr>\n",
       "    <tr>\n",
       "      <th>COUNTRY</th>\n",
       "      <th></th>\n",
       "      <th></th>\n",
       "      <th></th>\n",
       "      <th></th>\n",
       "      <th></th>\n",
       "      <th></th>\n",
       "      <th></th>\n",
       "    </tr>\n",
       "  </thead>\n",
       "  <tbody>\n",
       "    <tr>\n",
       "      <th>Australia</th>\n",
       "      <td>1818.0</td>\n",
       "      <td>876.0</td>\n",
       "      <td>813.0</td>\n",
       "      <td>56.0</td>\n",
       "      <td>33.0</td>\n",
       "      <td>705.0</td>\n",
       "      <td>1945.0</td>\n",
       "    </tr>\n",
       "    <tr>\n",
       "      <th>Austria</th>\n",
       "      <td>937.0</td>\n",
       "      <td>197.0</td>\n",
       "      <td>200.0</td>\n",
       "      <td>113.0</td>\n",
       "      <td>NaN</td>\n",
       "      <td>203.0</td>\n",
       "      <td>324.0</td>\n",
       "    </tr>\n",
       "    <tr>\n",
       "      <th>Belgium</th>\n",
       "      <td>147.0</td>\n",
       "      <td>NaN</td>\n",
       "      <td>41.0</td>\n",
       "      <td>343.0</td>\n",
       "      <td>97.0</td>\n",
       "      <td>NaN</td>\n",
       "      <td>446.0</td>\n",
       "    </tr>\n",
       "    <tr>\n",
       "      <th>Canada</th>\n",
       "      <td>456.0</td>\n",
       "      <td>41.0</td>\n",
       "      <td>317.0</td>\n",
       "      <td>486.0</td>\n",
       "      <td>NaN</td>\n",
       "      <td>517.0</td>\n",
       "      <td>476.0</td>\n",
       "    </tr>\n",
       "    <tr>\n",
       "      <th>Denmark</th>\n",
       "      <td>1244.0</td>\n",
       "      <td>NaN</td>\n",
       "      <td>70.0</td>\n",
       "      <td>436.0</td>\n",
       "      <td>134.0</td>\n",
       "      <td>73.0</td>\n",
       "      <td>240.0</td>\n",
       "    </tr>\n",
       "    <tr>\n",
       "      <th>Finland</th>\n",
       "      <td>1284.0</td>\n",
       "      <td>447.0</td>\n",
       "      <td>421.0</td>\n",
       "      <td>315.0</td>\n",
       "      <td>89.0</td>\n",
       "      <td>384.0</td>\n",
       "      <td>252.0</td>\n",
       "    </tr>\n",
       "    <tr>\n",
       "      <th>France</th>\n",
       "      <td>3540.0</td>\n",
       "      <td>2404.0</td>\n",
       "      <td>1136.0</td>\n",
       "      <td>766.0</td>\n",
       "      <td>222.0</td>\n",
       "      <td>1067.0</td>\n",
       "      <td>1955.0</td>\n",
       "    </tr>\n",
       "    <tr>\n",
       "      <th>Germany</th>\n",
       "      <td>1281.0</td>\n",
       "      <td>121.0</td>\n",
       "      <td>245.0</td>\n",
       "      <td>55.0</td>\n",
       "      <td>89.0</td>\n",
       "      <td>81.0</td>\n",
       "      <td>276.0</td>\n",
       "    </tr>\n",
       "    <tr>\n",
       "      <th>Ireland</th>\n",
       "      <td>202.0</td>\n",
       "      <td>58.0</td>\n",
       "      <td>115.0</td>\n",
       "      <td>NaN</td>\n",
       "      <td>50.0</td>\n",
       "      <td>37.0</td>\n",
       "      <td>28.0</td>\n",
       "    </tr>\n",
       "    <tr>\n",
       "      <th>Italy</th>\n",
       "      <td>948.0</td>\n",
       "      <td>77.0</td>\n",
       "      <td>1122.0</td>\n",
       "      <td>194.0</td>\n",
       "      <td>82.0</td>\n",
       "      <td>47.0</td>\n",
       "      <td>1303.0</td>\n",
       "    </tr>\n",
       "    <tr>\n",
       "      <th>Japan</th>\n",
       "      <td>314.0</td>\n",
       "      <td>309.0</td>\n",
       "      <td>547.0</td>\n",
       "      <td>208.0</td>\n",
       "      <td>49.0</td>\n",
       "      <td>102.0</td>\n",
       "      <td>313.0</td>\n",
       "    </tr>\n",
       "    <tr>\n",
       "      <th>Norway</th>\n",
       "      <td>1158.0</td>\n",
       "      <td>484.0</td>\n",
       "      <td>325.0</td>\n",
       "      <td>NaN</td>\n",
       "      <td>72.0</td>\n",
       "      <td>308.0</td>\n",
       "      <td>495.0</td>\n",
       "    </tr>\n",
       "    <tr>\n",
       "      <th>Philippines</th>\n",
       "      <td>478.0</td>\n",
       "      <td>241.0</td>\n",
       "      <td>215.0</td>\n",
       "      <td>NaN</td>\n",
       "      <td>NaN</td>\n",
       "      <td>NaN</td>\n",
       "      <td>27.0</td>\n",
       "    </tr>\n",
       "    <tr>\n",
       "      <th>Singapore</th>\n",
       "      <td>1043.0</td>\n",
       "      <td>44.0</td>\n",
       "      <td>NaN</td>\n",
       "      <td>174.0</td>\n",
       "      <td>174.0</td>\n",
       "      <td>888.0</td>\n",
       "      <td>437.0</td>\n",
       "    </tr>\n",
       "    <tr>\n",
       "      <th>Spain</th>\n",
       "      <td>4380.0</td>\n",
       "      <td>780.0</td>\n",
       "      <td>1101.0</td>\n",
       "      <td>1388.0</td>\n",
       "      <td>509.0</td>\n",
       "      <td>1709.0</td>\n",
       "      <td>2562.0</td>\n",
       "    </tr>\n",
       "    <tr>\n",
       "      <th>Sweden</th>\n",
       "      <td>552.0</td>\n",
       "      <td>133.0</td>\n",
       "      <td>104.0</td>\n",
       "      <td>367.0</td>\n",
       "      <td>32.0</td>\n",
       "      <td>433.0</td>\n",
       "      <td>385.0</td>\n",
       "    </tr>\n",
       "    <tr>\n",
       "      <th>Switzerland</th>\n",
       "      <td>1078.0</td>\n",
       "      <td>NaN</td>\n",
       "      <td>NaN</td>\n",
       "      <td>NaN</td>\n",
       "      <td>NaN</td>\n",
       "      <td>NaN</td>\n",
       "      <td>NaN</td>\n",
       "    </tr>\n",
       "    <tr>\n",
       "      <th>United Kingdom</th>\n",
       "      <td>1507.0</td>\n",
       "      <td>371.0</td>\n",
       "      <td>479.0</td>\n",
       "      <td>831.0</td>\n",
       "      <td>168.0</td>\n",
       "      <td>291.0</td>\n",
       "      <td>1366.0</td>\n",
       "    </tr>\n",
       "    <tr>\n",
       "      <th>United States of America</th>\n",
       "      <td>11625.0</td>\n",
       "      <td>5080.0</td>\n",
       "      <td>3476.0</td>\n",
       "      <td>2395.0</td>\n",
       "      <td>912.0</td>\n",
       "      <td>3932.0</td>\n",
       "      <td>8239.0</td>\n",
       "    </tr>\n",
       "  </tbody>\n",
       "</table>\n",
       "</div>"
      ],
      "text/plain": [
       "KATEGORI PRODUK           Classic Cars  Motorcycles  Planes   Ships  Trains  \\\n",
       "COUNTRY                                                                       \n",
       "Australia                       1818.0        876.0   813.0    56.0    33.0   \n",
       "Austria                          937.0        197.0   200.0   113.0     NaN   \n",
       "Belgium                          147.0          NaN    41.0   343.0    97.0   \n",
       "Canada                           456.0         41.0   317.0   486.0     NaN   \n",
       "Denmark                         1244.0          NaN    70.0   436.0   134.0   \n",
       "Finland                         1284.0        447.0   421.0   315.0    89.0   \n",
       "France                          3540.0       2404.0  1136.0   766.0   222.0   \n",
       "Germany                         1281.0        121.0   245.0    55.0    89.0   \n",
       "Ireland                          202.0         58.0   115.0     NaN    50.0   \n",
       "Italy                            948.0         77.0  1122.0   194.0    82.0   \n",
       "Japan                            314.0        309.0   547.0   208.0    49.0   \n",
       "Norway                          1158.0        484.0   325.0     NaN    72.0   \n",
       "Philippines                      478.0        241.0   215.0     NaN     NaN   \n",
       "Singapore                       1043.0         44.0     NaN   174.0   174.0   \n",
       "Spain                           4380.0        780.0  1101.0  1388.0   509.0   \n",
       "Sweden                           552.0        133.0   104.0   367.0    32.0   \n",
       "Switzerland                     1078.0          NaN     NaN     NaN     NaN   \n",
       "United Kingdom                  1507.0        371.0   479.0   831.0   168.0   \n",
       "United States of America       11625.0       5080.0  3476.0  2395.0   912.0   \n",
       "\n",
       "KATEGORI PRODUK           Trucks and Buses  Vintage Cars  \n",
       "COUNTRY                                                   \n",
       "Australia                            705.0        1945.0  \n",
       "Austria                              203.0         324.0  \n",
       "Belgium                                NaN         446.0  \n",
       "Canada                               517.0         476.0  \n",
       "Denmark                               73.0         240.0  \n",
       "Finland                              384.0         252.0  \n",
       "France                              1067.0        1955.0  \n",
       "Germany                               81.0         276.0  \n",
       "Ireland                               37.0          28.0  \n",
       "Italy                                 47.0        1303.0  \n",
       "Japan                                102.0         313.0  \n",
       "Norway                               308.0         495.0  \n",
       "Philippines                            NaN          27.0  \n",
       "Singapore                            888.0         437.0  \n",
       "Spain                               1709.0        2562.0  \n",
       "Sweden                               433.0         385.0  \n",
       "Switzerland                            NaN           NaN  \n",
       "United Kingdom                       291.0        1366.0  \n",
       "United States of America            3932.0        8239.0  "
      ]
     },
     "execution_count": 24,
     "metadata": {},
     "output_type": "execute_result"
    }
   ],
   "source": [
    "pivot = df5.pivot_table(index='COUNTRY', columns='KATEGORI PRODUK', values='QUANTITYORDERED')\n",
    "pivot"
   ]
  },
  {
   "cell_type": "code",
   "execution_count": 30,
   "metadata": {},
   "outputs": [
    {
     "data": {
      "text/plain": [
       "(array([    0.,  5000., 10000., 15000., 20000., 25000., 30000., 35000.,\n",
       "        40000.]), <a list of 9 Text yticklabel objects>)"
      ]
     },
     "execution_count": 30,
     "metadata": {},
     "output_type": "execute_result"
    },
    {
     "data": {
      "image/png": "[encoded data removed]",
      "text/plain": [
       "<Figure size 1008x720 with 1 Axes>"
      ]
     },
     "metadata": {
      "needs_background": "light"
     },
     "output_type": "display_data"
    }
   ],
   "source": [
    "pivot.plot.bar(stacked=True, figsize=(14,10))\n",
    "plt.ylabel('JUMLAH PRODUK TERJUAL', fontsize=14)\n",
    "plt.xlabel('NEGARA', fontsize=14)\n",
    "plt.xticks(fontsize=14, rotation=90)\n",
    "plt.yticks(fontsize=14)"
   ]
  },
  {
   "cell_type": "code",
   "execution_count": null,
   "metadata": {},
   "outputs": [],
   "source": []
  }
 ],
 "metadata": {
  "kernelspec": {
   "display_name": "Python 3",
   "language": "python",
   "name": "python3"
  },
  "language_info": {
   "codemirror_mode": {
    "name": "ipython",
    "version": 3
   },
   "file_extension": ".py",
   "mimetype": "text/x-python",
   "name": "python",
   "nbconvert_exporter": "python",
   "pygments_lexer": "ipython3",
   "version": "3.7.3"
  }
 },
 "nbformat": 4,
 "nbformat_minor": 2
}
