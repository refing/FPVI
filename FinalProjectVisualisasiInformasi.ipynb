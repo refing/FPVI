{
 "cells": [
  {
   "cell_type": "markdown",
   "metadata": {},
   "source": [
    "# Final Project Visualisasi Informasi"
   ]
  },
  {
   "cell_type": "markdown",
   "metadata": {},
   "source": [
    "DATASET VINTAGE TOYS SALES"
   ]
  },
  {
   "cell_type": "code",
   "execution_count": 12,
   "metadata": {},
   "outputs": [],
   "source": [
    "import pandas as pd\n",
    "import matplotlib as mpl\n",
    "import matplotlib.pyplot as plt\n",
    "import seaborn as sns\n",
    "import numpy as np"
   ]
  },
  {
   "cell_type": "code",
   "execution_count": 13,
   "metadata": {},
   "outputs": [],
   "source": [
    "csv = 'sales_data_sample.csv'\n",
    "df = pd.read_csv(csv, index_col=0, encoding='ANSI')"
   ]
  },
  {
   "cell_type": "code",
   "execution_count": 14,
   "metadata": {},
   "outputs": [
    {
     "data": {
      "text/html": [
       "<div>\n",
       "<style scoped>\n",
       "    .dataframe tbody tr th:only-of-type {\n",
       "        vertical-align: middle;\n",
       "    }\n",
       "\n",
       "    .dataframe tbody tr th {\n",
       "        vertical-align: top;\n",
       "    }\n",
       "\n",
       "    .dataframe thead th {\n",
       "        text-align: right;\n",
       "    }\n",
       "</style>\n",
       "<table border=\"1\" class=\"dataframe\">\n",
       "  <thead>\n",
       "    <tr style=\"text-align: right;\">\n",
       "      <th></th>\n",
       "      <th>QUANTITYORDERED</th>\n",
       "      <th>PRICEEACH</th>\n",
       "      <th>ORDERLINENUMBER</th>\n",
       "      <th>SALES</th>\n",
       "      <th>ORDERDATE</th>\n",
       "      <th>STATUS</th>\n",
       "      <th>QTR_ID</th>\n",
       "      <th>MONTH_ID</th>\n",
       "      <th>YEAR_ID</th>\n",
       "      <th>PRODUCTLINE</th>\n",
       "      <th>MSRP</th>\n",
       "      <th>PRODUCTCODE</th>\n",
       "      <th>CUSTOMERNAME</th>\n",
       "      <th>PHONE</th>\n",
       "      <th>ADDRESSLINE1</th>\n",
       "      <th>ADDRESSLINE2</th>\n",
       "      <th>CITY</th>\n",
       "      <th>STATE</th>\n",
       "      <th>POSTALCODE</th>\n",
       "      <th>COUNTRY</th>\n",
       "      <th>TERRITORY</th>\n",
       "      <th>CONTACTLASTNAME</th>\n",
       "      <th>CONTACTFIRSTNAME</th>\n",
       "      <th>DEALSIZE</th>\n",
       "    </tr>\n",
       "    <tr>\n",
       "      <th>ORDERNUMBER</th>\n",
       "      <th></th>\n",
       "      <th></th>\n",
       "      <th></th>\n",
       "      <th></th>\n",
       "      <th></th>\n",
       "      <th></th>\n",
       "      <th></th>\n",
       "      <th></th>\n",
       "      <th></th>\n",
       "      <th></th>\n",
       "      <th></th>\n",
       "      <th></th>\n",
       "      <th></th>\n",
       "      <th></th>\n",
       "      <th></th>\n",
       "      <th></th>\n",
       "      <th></th>\n",
       "      <th></th>\n",
       "      <th></th>\n",
       "      <th></th>\n",
       "      <th></th>\n",
       "      <th></th>\n",
       "      <th></th>\n",
       "      <th></th>\n",
       "    </tr>\n",
       "  </thead>\n",
       "  <tbody>\n",
       "    <tr>\n",
       "      <th>10107</th>\n",
       "      <td>30</td>\n",
       "      <td>95.70</td>\n",
       "      <td>2</td>\n",
       "      <td>2871.00</td>\n",
       "      <td>2/24/2003 0:00</td>\n",
       "      <td>Shipped</td>\n",
       "      <td>1</td>\n",
       "      <td>2</td>\n",
       "      <td>2003</td>\n",
       "      <td>Motorcycles</td>\n",
       "      <td>95</td>\n",
       "      <td>S10_1678</td>\n",
       "      <td>Land of Toys Inc.</td>\n",
       "      <td>2125557818</td>\n",
       "      <td>897 Long Airport Avenue</td>\n",
       "      <td>NaN</td>\n",
       "      <td>NYC</td>\n",
       "      <td>NY</td>\n",
       "      <td>10022</td>\n",
       "      <td>USA</td>\n",
       "      <td>NaN</td>\n",
       "      <td>Yu</td>\n",
       "      <td>Kwai</td>\n",
       "      <td>Small</td>\n",
       "    </tr>\n",
       "    <tr>\n",
       "      <th>10121</th>\n",
       "      <td>34</td>\n",
       "      <td>81.35</td>\n",
       "      <td>5</td>\n",
       "      <td>2765.90</td>\n",
       "      <td>5/7/2003 0:00</td>\n",
       "      <td>Shipped</td>\n",
       "      <td>2</td>\n",
       "      <td>5</td>\n",
       "      <td>2003</td>\n",
       "      <td>Motorcycles</td>\n",
       "      <td>95</td>\n",
       "      <td>S10_1678</td>\n",
       "      <td>Reims Collectables</td>\n",
       "      <td>26.47.1555</td>\n",
       "      <td>59 rue de l'Abbaye</td>\n",
       "      <td>NaN</td>\n",
       "      <td>Reims</td>\n",
       "      <td>NaN</td>\n",
       "      <td>51100</td>\n",
       "      <td>France</td>\n",
       "      <td>EMEA</td>\n",
       "      <td>Henriot</td>\n",
       "      <td>Paul</td>\n",
       "      <td>Small</td>\n",
       "    </tr>\n",
       "    <tr>\n",
       "      <th>10134</th>\n",
       "      <td>41</td>\n",
       "      <td>94.74</td>\n",
       "      <td>2</td>\n",
       "      <td>3884.34</td>\n",
       "      <td>7/1/2003 0:00</td>\n",
       "      <td>Shipped</td>\n",
       "      <td>3</td>\n",
       "      <td>7</td>\n",
       "      <td>2003</td>\n",
       "      <td>Motorcycles</td>\n",
       "      <td>95</td>\n",
       "      <td>S10_1678</td>\n",
       "      <td>Lyon Souveniers</td>\n",
       "      <td>+33 1 46 62 7555</td>\n",
       "      <td>27 rue du Colonel Pierre Avia</td>\n",
       "      <td>NaN</td>\n",
       "      <td>Paris</td>\n",
       "      <td>NaN</td>\n",
       "      <td>75508</td>\n",
       "      <td>France</td>\n",
       "      <td>EMEA</td>\n",
       "      <td>Da Cunha</td>\n",
       "      <td>Daniel</td>\n",
       "      <td>Medium</td>\n",
       "    </tr>\n",
       "    <tr>\n",
       "      <th>10145</th>\n",
       "      <td>45</td>\n",
       "      <td>83.26</td>\n",
       "      <td>6</td>\n",
       "      <td>3746.70</td>\n",
       "      <td>8/25/2003 0:00</td>\n",
       "      <td>Shipped</td>\n",
       "      <td>3</td>\n",
       "      <td>8</td>\n",
       "      <td>2003</td>\n",
       "      <td>Motorcycles</td>\n",
       "      <td>95</td>\n",
       "      <td>S10_1678</td>\n",
       "      <td>Toys4GrownUps.com</td>\n",
       "      <td>6265557265</td>\n",
       "      <td>78934 Hillside Dr.</td>\n",
       "      <td>NaN</td>\n",
       "      <td>Pasadena</td>\n",
       "      <td>CA</td>\n",
       "      <td>90003</td>\n",
       "      <td>USA</td>\n",
       "      <td>NaN</td>\n",
       "      <td>Young</td>\n",
       "      <td>Julie</td>\n",
       "      <td>Medium</td>\n",
       "    </tr>\n",
       "    <tr>\n",
       "      <th>10159</th>\n",
       "      <td>49</td>\n",
       "      <td>100.00</td>\n",
       "      <td>14</td>\n",
       "      <td>5205.27</td>\n",
       "      <td>10/10/2003 0:00</td>\n",
       "      <td>Shipped</td>\n",
       "      <td>4</td>\n",
       "      <td>10</td>\n",
       "      <td>2003</td>\n",
       "      <td>Motorcycles</td>\n",
       "      <td>95</td>\n",
       "      <td>S10_1678</td>\n",
       "      <td>Corporate Gift Ideas Co.</td>\n",
       "      <td>6505551386</td>\n",
       "      <td>7734 Strong St.</td>\n",
       "      <td>NaN</td>\n",
       "      <td>San Francisco</td>\n",
       "      <td>CA</td>\n",
       "      <td>NaN</td>\n",
       "      <td>USA</td>\n",
       "      <td>NaN</td>\n",
       "      <td>Brown</td>\n",
       "      <td>Julie</td>\n",
       "      <td>Medium</td>\n",
       "    </tr>\n",
       "    <tr>\n",
       "      <th>10168</th>\n",
       "      <td>36</td>\n",
       "      <td>96.66</td>\n",
       "      <td>1</td>\n",
       "      <td>3479.76</td>\n",
       "      <td>10/28/2003 0:00</td>\n",
       "      <td>Shipped</td>\n",
       "      <td>4</td>\n",
       "      <td>10</td>\n",
       "      <td>2003</td>\n",
       "      <td>Motorcycles</td>\n",
       "      <td>95</td>\n",
       "      <td>S10_1678</td>\n",
       "      <td>Technics Stores Inc.</td>\n",
       "      <td>6505556809</td>\n",
       "      <td>9408 Furth Circle</td>\n",
       "      <td>NaN</td>\n",
       "      <td>Burlingame</td>\n",
       "      <td>CA</td>\n",
       "      <td>94217</td>\n",
       "      <td>USA</td>\n",
       "      <td>NaN</td>\n",
       "      <td>Hirano</td>\n",
       "      <td>Juri</td>\n",
       "      <td>Medium</td>\n",
       "    </tr>\n",
       "    <tr>\n",
       "      <th>10180</th>\n",
       "      <td>29</td>\n",
       "      <td>86.13</td>\n",
       "      <td>9</td>\n",
       "      <td>2497.77</td>\n",
       "      <td>11/11/2003 0:00</td>\n",
       "      <td>Shipped</td>\n",
       "      <td>4</td>\n",
       "      <td>11</td>\n",
       "      <td>2003</td>\n",
       "      <td>Motorcycles</td>\n",
       "      <td>95</td>\n",
       "      <td>S10_1678</td>\n",
       "      <td>Daedalus Designs Imports</td>\n",
       "      <td>20.16.1555</td>\n",
       "      <td>184, chausse de Tournai</td>\n",
       "      <td>NaN</td>\n",
       "      <td>Lille</td>\n",
       "      <td>NaN</td>\n",
       "      <td>59000</td>\n",
       "      <td>France</td>\n",
       "      <td>EMEA</td>\n",
       "      <td>Rance</td>\n",
       "      <td>Martine</td>\n",
       "      <td>Small</td>\n",
       "    </tr>\n",
       "    <tr>\n",
       "      <th>10188</th>\n",
       "      <td>48</td>\n",
       "      <td>100.00</td>\n",
       "      <td>1</td>\n",
       "      <td>5512.32</td>\n",
       "      <td>11/18/2003 0:00</td>\n",
       "      <td>Shipped</td>\n",
       "      <td>4</td>\n",
       "      <td>11</td>\n",
       "      <td>2003</td>\n",
       "      <td>Motorcycles</td>\n",
       "      <td>95</td>\n",
       "      <td>S10_1678</td>\n",
       "      <td>Herkku Gifts</td>\n",
       "      <td>+47 2267 3215</td>\n",
       "      <td>Drammen 121, PR 744 Sentrum</td>\n",
       "      <td>NaN</td>\n",
       "      <td>Bergen</td>\n",
       "      <td>NaN</td>\n",
       "      <td>N 5804</td>\n",
       "      <td>Norway</td>\n",
       "      <td>EMEA</td>\n",
       "      <td>Oeztan</td>\n",
       "      <td>Veysel</td>\n",
       "      <td>Medium</td>\n",
       "    </tr>\n",
       "    <tr>\n",
       "      <th>10201</th>\n",
       "      <td>22</td>\n",
       "      <td>98.57</td>\n",
       "      <td>2</td>\n",
       "      <td>2168.54</td>\n",
       "      <td>12/1/2003 0:00</td>\n",
       "      <td>Shipped</td>\n",
       "      <td>4</td>\n",
       "      <td>12</td>\n",
       "      <td>2003</td>\n",
       "      <td>Motorcycles</td>\n",
       "      <td>95</td>\n",
       "      <td>S10_1678</td>\n",
       "      <td>Mini Wheels Co.</td>\n",
       "      <td>6505555787</td>\n",
       "      <td>5557 North Pendale Street</td>\n",
       "      <td>NaN</td>\n",
       "      <td>San Francisco</td>\n",
       "      <td>CA</td>\n",
       "      <td>NaN</td>\n",
       "      <td>USA</td>\n",
       "      <td>NaN</td>\n",
       "      <td>Murphy</td>\n",
       "      <td>Julie</td>\n",
       "      <td>Small</td>\n",
       "    </tr>\n",
       "    <tr>\n",
       "      <th>10211</th>\n",
       "      <td>41</td>\n",
       "      <td>100.00</td>\n",
       "      <td>14</td>\n",
       "      <td>4708.44</td>\n",
       "      <td>1/15/2004 0:00</td>\n",
       "      <td>Shipped</td>\n",
       "      <td>1</td>\n",
       "      <td>1</td>\n",
       "      <td>2004</td>\n",
       "      <td>Motorcycles</td>\n",
       "      <td>95</td>\n",
       "      <td>S10_1678</td>\n",
       "      <td>Auto Canal Petit</td>\n",
       "      <td>(1) 47.55.6555</td>\n",
       "      <td>25, rue Lauriston</td>\n",
       "      <td>NaN</td>\n",
       "      <td>Paris</td>\n",
       "      <td>NaN</td>\n",
       "      <td>75016</td>\n",
       "      <td>France</td>\n",
       "      <td>EMEA</td>\n",
       "      <td>Perrier</td>\n",
       "      <td>Dominique</td>\n",
       "      <td>Medium</td>\n",
       "    </tr>\n",
       "  </tbody>\n",
       "</table>\n",
       "</div>"
      ],
      "text/plain": [
       "             QUANTITYORDERED  PRICEEACH  ORDERLINENUMBER    SALES  \\\n",
       "ORDERNUMBER                                                         \n",
       "10107                     30      95.70                2  2871.00   \n",
       "10121                     34      81.35                5  2765.90   \n",
       "10134                     41      94.74                2  3884.34   \n",
       "10145                     45      83.26                6  3746.70   \n",
       "10159                     49     100.00               14  5205.27   \n",
       "10168                     36      96.66                1  3479.76   \n",
       "10180                     29      86.13                9  2497.77   \n",
       "10188                     48     100.00                1  5512.32   \n",
       "10201                     22      98.57                2  2168.54   \n",
       "10211                     41     100.00               14  4708.44   \n",
       "\n",
       "                   ORDERDATE   STATUS  QTR_ID  MONTH_ID  YEAR_ID  PRODUCTLINE  \\\n",
       "ORDERNUMBER                                                                     \n",
       "10107         2/24/2003 0:00  Shipped       1         2     2003  Motorcycles   \n",
       "10121          5/7/2003 0:00  Shipped       2         5     2003  Motorcycles   \n",
       "10134          7/1/2003 0:00  Shipped       3         7     2003  Motorcycles   \n",
       "10145         8/25/2003 0:00  Shipped       3         8     2003  Motorcycles   \n",
       "10159        10/10/2003 0:00  Shipped       4        10     2003  Motorcycles   \n",
       "10168        10/28/2003 0:00  Shipped       4        10     2003  Motorcycles   \n",
       "10180        11/11/2003 0:00  Shipped       4        11     2003  Motorcycles   \n",
       "10188        11/18/2003 0:00  Shipped       4        11     2003  Motorcycles   \n",
       "10201         12/1/2003 0:00  Shipped       4        12     2003  Motorcycles   \n",
       "10211         1/15/2004 0:00  Shipped       1         1     2004  Motorcycles   \n",
       "\n",
       "             MSRP PRODUCTCODE              CUSTOMERNAME             PHONE  \\\n",
       "ORDERNUMBER                                                                 \n",
       "10107          95    S10_1678         Land of Toys Inc.        2125557818   \n",
       "10121          95    S10_1678        Reims Collectables        26.47.1555   \n",
       "10134          95    S10_1678           Lyon Souveniers  +33 1 46 62 7555   \n",
       "10145          95    S10_1678         Toys4GrownUps.com        6265557265   \n",
       "10159          95    S10_1678  Corporate Gift Ideas Co.        6505551386   \n",
       "10168          95    S10_1678      Technics Stores Inc.        6505556809   \n",
       "10180          95    S10_1678  Daedalus Designs Imports        20.16.1555   \n",
       "10188          95    S10_1678              Herkku Gifts     +47 2267 3215   \n",
       "10201          95    S10_1678           Mini Wheels Co.        6505555787   \n",
       "10211          95    S10_1678          Auto Canal Petit    (1) 47.55.6555   \n",
       "\n",
       "                              ADDRESSLINE1 ADDRESSLINE2           CITY STATE  \\\n",
       "ORDERNUMBER                                                                    \n",
       "10107              897 Long Airport Avenue          NaN            NYC    NY   \n",
       "10121                   59 rue de l'Abbaye          NaN          Reims   NaN   \n",
       "10134        27 rue du Colonel Pierre Avia          NaN          Paris   NaN   \n",
       "10145                   78934 Hillside Dr.          NaN       Pasadena    CA   \n",
       "10159                      7734 Strong St.          NaN  San Francisco    CA   \n",
       "10168                    9408 Furth Circle          NaN     Burlingame    CA   \n",
       "10180              184, chausse de Tournai          NaN          Lille   NaN   \n",
       "10188          Drammen 121, PR 744 Sentrum          NaN         Bergen   NaN   \n",
       "10201            5557 North Pendale Street          NaN  San Francisco    CA   \n",
       "10211                    25, rue Lauriston          NaN          Paris   NaN   \n",
       "\n",
       "            POSTALCODE COUNTRY TERRITORY CONTACTLASTNAME CONTACTFIRSTNAME  \\\n",
       "ORDERNUMBER                                                                 \n",
       "10107            10022     USA       NaN              Yu             Kwai   \n",
       "10121            51100  France      EMEA         Henriot             Paul   \n",
       "10134            75508  France      EMEA        Da Cunha           Daniel   \n",
       "10145            90003     USA       NaN           Young            Julie   \n",
       "10159              NaN     USA       NaN           Brown            Julie   \n",
       "10168            94217     USA       NaN          Hirano             Juri   \n",
       "10180            59000  France      EMEA           Rance          Martine   \n",
       "10188           N 5804  Norway      EMEA          Oeztan           Veysel   \n",
       "10201              NaN     USA       NaN          Murphy            Julie   \n",
       "10211            75016  France      EMEA         Perrier        Dominique   \n",
       "\n",
       "            DEALSIZE  \n",
       "ORDERNUMBER           \n",
       "10107          Small  \n",
       "10121          Small  \n",
       "10134         Medium  \n",
       "10145         Medium  \n",
       "10159         Medium  \n",
       "10168         Medium  \n",
       "10180          Small  \n",
       "10188         Medium  \n",
       "10201          Small  \n",
       "10211         Medium  "
      ]
     },
     "execution_count": 14,
     "metadata": {},
     "output_type": "execute_result"
    }
   ],
   "source": [
    "pd.set_option('display.max_columns', None)\n",
    "df.head(10)"
   ]
  },
  {
   "cell_type": "code",
   "execution_count": 15,
   "metadata": {},
   "outputs": [
    {
     "data": {
      "text/html": [
       "<div>\n",
       "<style scoped>\n",
       "    .dataframe tbody tr th:only-of-type {\n",
       "        vertical-align: middle;\n",
       "    }\n",
       "\n",
       "    .dataframe tbody tr th {\n",
       "        vertical-align: top;\n",
       "    }\n",
       "\n",
       "    .dataframe thead th {\n",
       "        text-align: right;\n",
       "    }\n",
       "</style>\n",
       "<table border=\"1\" class=\"dataframe\">\n",
       "  <thead>\n",
       "    <tr style=\"text-align: right;\">\n",
       "      <th></th>\n",
       "      <th>QUANTITYORDERED</th>\n",
       "      <th>PRICEEACH</th>\n",
       "      <th>ORDERLINENUMBER</th>\n",
       "      <th>SALES</th>\n",
       "      <th>QTR_ID</th>\n",
       "      <th>MONTH_ID</th>\n",
       "      <th>YEAR_ID</th>\n",
       "      <th>MSRP</th>\n",
       "    </tr>\n",
       "  </thead>\n",
       "  <tbody>\n",
       "    <tr>\n",
       "      <th>count</th>\n",
       "      <td>2823.000000</td>\n",
       "      <td>2823.000000</td>\n",
       "      <td>2823.000000</td>\n",
       "      <td>2823.000000</td>\n",
       "      <td>2823.000000</td>\n",
       "      <td>2823.000000</td>\n",
       "      <td>2823.00000</td>\n",
       "      <td>2823.000000</td>\n",
       "    </tr>\n",
       "    <tr>\n",
       "      <th>mean</th>\n",
       "      <td>35.092809</td>\n",
       "      <td>83.658544</td>\n",
       "      <td>6.466171</td>\n",
       "      <td>3553.889072</td>\n",
       "      <td>2.717676</td>\n",
       "      <td>7.092455</td>\n",
       "      <td>2003.81509</td>\n",
       "      <td>100.715551</td>\n",
       "    </tr>\n",
       "    <tr>\n",
       "      <th>std</th>\n",
       "      <td>9.741443</td>\n",
       "      <td>20.174277</td>\n",
       "      <td>4.225841</td>\n",
       "      <td>1841.865106</td>\n",
       "      <td>1.203878</td>\n",
       "      <td>3.656633</td>\n",
       "      <td>0.69967</td>\n",
       "      <td>40.187912</td>\n",
       "    </tr>\n",
       "    <tr>\n",
       "      <th>min</th>\n",
       "      <td>6.000000</td>\n",
       "      <td>26.880000</td>\n",
       "      <td>1.000000</td>\n",
       "      <td>482.130000</td>\n",
       "      <td>1.000000</td>\n",
       "      <td>1.000000</td>\n",
       "      <td>2003.00000</td>\n",
       "      <td>33.000000</td>\n",
       "    </tr>\n",
       "    <tr>\n",
       "      <th>25%</th>\n",
       "      <td>27.000000</td>\n",
       "      <td>68.860000</td>\n",
       "      <td>3.000000</td>\n",
       "      <td>2203.430000</td>\n",
       "      <td>2.000000</td>\n",
       "      <td>4.000000</td>\n",
       "      <td>2003.00000</td>\n",
       "      <td>68.000000</td>\n",
       "    </tr>\n",
       "    <tr>\n",
       "      <th>50%</th>\n",
       "      <td>35.000000</td>\n",
       "      <td>95.700000</td>\n",
       "      <td>6.000000</td>\n",
       "      <td>3184.800000</td>\n",
       "      <td>3.000000</td>\n",
       "      <td>8.000000</td>\n",
       "      <td>2004.00000</td>\n",
       "      <td>99.000000</td>\n",
       "    </tr>\n",
       "    <tr>\n",
       "      <th>75%</th>\n",
       "      <td>43.000000</td>\n",
       "      <td>100.000000</td>\n",
       "      <td>9.000000</td>\n",
       "      <td>4508.000000</td>\n",
       "      <td>4.000000</td>\n",
       "      <td>11.000000</td>\n",
       "      <td>2004.00000</td>\n",
       "      <td>124.000000</td>\n",
       "    </tr>\n",
       "    <tr>\n",
       "      <th>max</th>\n",
       "      <td>97.000000</td>\n",
       "      <td>100.000000</td>\n",
       "      <td>18.000000</td>\n",
       "      <td>14082.800000</td>\n",
       "      <td>4.000000</td>\n",
       "      <td>12.000000</td>\n",
       "      <td>2005.00000</td>\n",
       "      <td>214.000000</td>\n",
       "    </tr>\n",
       "  </tbody>\n",
       "</table>\n",
       "</div>"
      ],
      "text/plain": [
       "       QUANTITYORDERED    PRICEEACH  ORDERLINENUMBER         SALES  \\\n",
       "count      2823.000000  2823.000000      2823.000000   2823.000000   \n",
       "mean         35.092809    83.658544         6.466171   3553.889072   \n",
       "std           9.741443    20.174277         4.225841   1841.865106   \n",
       "min           6.000000    26.880000         1.000000    482.130000   \n",
       "25%          27.000000    68.860000         3.000000   2203.430000   \n",
       "50%          35.000000    95.700000         6.000000   3184.800000   \n",
       "75%          43.000000   100.000000         9.000000   4508.000000   \n",
       "max          97.000000   100.000000        18.000000  14082.800000   \n",
       "\n",
       "            QTR_ID     MONTH_ID     YEAR_ID         MSRP  \n",
       "count  2823.000000  2823.000000  2823.00000  2823.000000  \n",
       "mean      2.717676     7.092455  2003.81509   100.715551  \n",
       "std       1.203878     3.656633     0.69967    40.187912  \n",
       "min       1.000000     1.000000  2003.00000    33.000000  \n",
       "25%       2.000000     4.000000  2003.00000    68.000000  \n",
       "50%       3.000000     8.000000  2004.00000    99.000000  \n",
       "75%       4.000000    11.000000  2004.00000   124.000000  \n",
       "max       4.000000    12.000000  2005.00000   214.000000  "
      ]
     },
     "execution_count": 15,
     "metadata": {},
     "output_type": "execute_result"
    }
   ],
   "source": [
    "df.describe()"
   ]
  },
  {
   "cell_type": "code",
   "execution_count": 16,
   "metadata": {},
   "outputs": [
    {
     "name": "stdout",
     "output_type": "stream",
     "text": [
      "<class 'pandas.core.frame.DataFrame'>\n",
      "Int64Index: 2823 entries, 10107 to 10414\n",
      "Data columns (total 24 columns):\n",
      "QUANTITYORDERED     2823 non-null int64\n",
      "PRICEEACH           2823 non-null float64\n",
      "ORDERLINENUMBER     2823 non-null int64\n",
      "SALES               2823 non-null float64\n",
      "ORDERDATE           2823 non-null object\n",
      "STATUS              2823 non-null object\n",
      "QTR_ID              2823 non-null int64\n",
      "MONTH_ID            2823 non-null int64\n",
      "YEAR_ID             2823 non-null int64\n",
      "PRODUCTLINE         2823 non-null object\n",
      "MSRP                2823 non-null int64\n",
      "PRODUCTCODE         2823 non-null object\n",
      "CUSTOMERNAME        2823 non-null object\n",
      "PHONE               2823 non-null object\n",
      "ADDRESSLINE1        2823 non-null object\n",
      "ADDRESSLINE2        302 non-null object\n",
      "CITY                2823 non-null object\n",
      "STATE               1337 non-null object\n",
      "POSTALCODE          2747 non-null object\n",
      "COUNTRY             2823 non-null object\n",
      "TERRITORY           1749 non-null object\n",
      "CONTACTLASTNAME     2823 non-null object\n",
      "CONTACTFIRSTNAME    2823 non-null object\n",
      "DEALSIZE            2823 non-null object\n",
      "dtypes: float64(2), int64(6), object(16)\n",
      "memory usage: 551.4+ KB\n"
     ]
    }
   ],
   "source": [
    "df.info()"
   ]
  },
  {
   "cell_type": "markdown",
   "metadata": {},
   "source": [
    "## 1.\tTotal penjualan berdasarkan produk"
   ]
  },
  {
   "cell_type": "code",
   "execution_count": 17,
   "metadata": {},
   "outputs": [
    {
     "data": {
      "text/plain": [
       "array(['Motorcycles', 'Classic Cars', 'Trucks and Buses', 'Vintage Cars',\n",
       "       'Planes', 'Ships', 'Trains'], dtype=object)"
      ]
     },
     "execution_count": 17,
     "metadata": {},
     "output_type": "execute_result"
    }
   ],
   "source": [
    "df.PRODUCTLINE.unique()"
   ]
  },
  {
   "cell_type": "code",
   "execution_count": 18,
   "metadata": {},
   "outputs": [
    {
     "data": {
      "text/html": [
       "<div>\n",
       "<style scoped>\n",
       "    .dataframe tbody tr th:only-of-type {\n",
       "        vertical-align: middle;\n",
       "    }\n",
       "\n",
       "    .dataframe tbody tr th {\n",
       "        vertical-align: top;\n",
       "    }\n",
       "\n",
       "    .dataframe thead th {\n",
       "        text-align: right;\n",
       "    }\n",
       "</style>\n",
       "<table border=\"1\" class=\"dataframe\">\n",
       "  <thead>\n",
       "    <tr style=\"text-align: right;\">\n",
       "      <th></th>\n",
       "      <th>PRODUCTLINE</th>\n",
       "      <th>SALES</th>\n",
       "    </tr>\n",
       "  </thead>\n",
       "  <tbody>\n",
       "    <tr>\n",
       "      <th>0</th>\n",
       "      <td>Classic Cars</td>\n",
       "      <td>3919615.66</td>\n",
       "    </tr>\n",
       "    <tr>\n",
       "      <th>1</th>\n",
       "      <td>Motorcycles</td>\n",
       "      <td>1166388.34</td>\n",
       "    </tr>\n",
       "    <tr>\n",
       "      <th>2</th>\n",
       "      <td>Planes</td>\n",
       "      <td>975003.57</td>\n",
       "    </tr>\n",
       "    <tr>\n",
       "      <th>3</th>\n",
       "      <td>Ships</td>\n",
       "      <td>714437.13</td>\n",
       "    </tr>\n",
       "    <tr>\n",
       "      <th>4</th>\n",
       "      <td>Trains</td>\n",
       "      <td>226243.47</td>\n",
       "    </tr>\n",
       "    <tr>\n",
       "      <th>5</th>\n",
       "      <td>Trucks and Buses</td>\n",
       "      <td>1127789.84</td>\n",
       "    </tr>\n",
       "    <tr>\n",
       "      <th>6</th>\n",
       "      <td>Vintage Cars</td>\n",
       "      <td>1903150.84</td>\n",
       "    </tr>\n",
       "  </tbody>\n",
       "</table>\n",
       "</div>"
      ],
      "text/plain": [
       "        PRODUCTLINE       SALES\n",
       "0      Classic Cars  3919615.66\n",
       "1       Motorcycles  1166388.34\n",
       "2            Planes   975003.57\n",
       "3             Ships   714437.13\n",
       "4            Trains   226243.47\n",
       "5  Trucks and Buses  1127789.84\n",
       "6      Vintage Cars  1903150.84"
      ]
     },
     "execution_count": 18,
     "metadata": {},
     "output_type": "execute_result"
    }
   ],
   "source": [
    "prod=df.groupby(['PRODUCTLINE']).agg({'SALES': lambda x: x.sum() })\n",
    "df1=pd.DataFrame(data = prod)\n",
    "df1=df1.reset_index()\n",
    "df1"
   ]
  },
  {
   "cell_type": "code",
   "execution_count": 19,
   "metadata": {},
   "outputs": [
    {
     "data": {
      "image/png": "[encoded data removed]",
      "text/plain": [
       "<Figure size 432x288 with 1 Axes>"
      ]
     },
     "metadata": {},
     "output_type": "display_data"
    }
   ],
   "source": [
    "names=df1['PRODUCTLINE']\n",
    "size=df1['SALES']\n",
    "my_circle=plt.Circle( (0,0), 0.7, color='white')\n",
    "plt.pie(size, labels=names, wedgeprops = { 'linewidth' : 7, 'edgecolor' : 'white' })\n",
    "p=plt.gcf()\n",
    "p.gca().add_artist(my_circle)\n",
    "plt.title(\"Total Penjualan Berdasarkan Produk\")\n",
    "plt.show()"
   ]
  },
  {
   "cell_type": "markdown",
   "metadata": {},
   "source": [
    "## 2.\tCustomer dengan total pembelian terbanyak"
   ]
  },
  {
   "cell_type": "code",
   "execution_count": 20,
   "metadata": {},
   "outputs": [
    {
     "data": {
      "text/plain": [
       "array(['Land of Toys Inc.', 'Reims Collectables', 'Lyon Souveniers',\n",
       "       'Toys4GrownUps.com', 'Corporate Gift Ideas Co.',\n",
       "       'Technics Stores Inc.', 'Daedalus Designs Imports', 'Herkku Gifts',\n",
       "       'Mini Wheels Co.', 'Auto Canal Petit',\n",
       "       'Australian Collectors, Co.', 'Vitachrome Inc.',\n",
       "       'Tekni Collectables Inc.', 'Gift Depot Inc.', 'La Rochelle Gifts',\n",
       "       \"Marta's Replicas Co.\", 'Toys of Finland, Co.',\n",
       "       'Baane Mini Imports', 'Diecast Classics Inc.',\n",
       "       'Salzburg Collectables', 'Souveniers And Things Co.',\n",
       "       'FunGiftIdeas.com', 'UK Collectables, Ltd.',\n",
       "       'Euro Shopping Channel', 'Volvo Model Replicas, Co',\n",
       "       'Corrida Auto Replicas, Ltd', 'Dragon Souveniers, Ltd.',\n",
       "       'Classic Legends Inc.', 'Australian Gift Network, Co',\n",
       "       'Classic Gift Ideas, Inc', 'Saveley & Henriot, Co.',\n",
       "       'Canadian Gift Exchange Network', 'West Coast Collectables Co.',\n",
       "       'Cambridge Collectables Co.', 'Super Scale Inc.',\n",
       "       'Tokyo Collectables, Ltd', 'Amica Models & Co.',\n",
       "       'Scandinavian Gift Ideas', 'Auto Assoc. & Cie.',\n",
       "       'Mini Gifts Distributors Ltd.', 'Online Diecast Creations Co.',\n",
       "       'Collectables For Less Inc.', \"Anna's Decorations, Ltd\",\n",
       "       'Quebec Home Shopping Network', 'Osaka Souveniers Co.',\n",
       "       'Motor Mint Distributors Inc.', 'Atelier graphique',\n",
       "       'Mini Classics', 'Danish Wholesale Imports',\n",
       "       'Stylish Desk Decors, Co.', 'Mini Creations Ltd.', 'Alpha Cognac',\n",
       "       'Double Decker Gift Stores, Ltd', 'Enaco Distributors',\n",
       "       \"Men 'R' US Retailers, Ltd.\", 'Collectable Mini Designs Co.',\n",
       "       'Petit Auto', 'Royal Canadian Collectables, Ltd.',\n",
       "       'Gifts4AllAges.com', 'giftsbymail.co.uk',\n",
       "       'Oulu Toy Supplies, Inc.', 'The Sharp Gifts Warehouse',\n",
       "       \"La Corne D'abondance, Co.\", 'Mini Auto Werke',\n",
       "       'Diecast Collectables', 'Handji Gifts& Co', 'Cruz & Sons Co.',\n",
       "       'Marseille Mini Autos', 'Toms Spezialitten, Ltd',\n",
       "       'Vida Sport, Ltd', \"L'ordine Souveniers\",\n",
       "       'Online Mini Collectables', 'Blauer See Auto, Co.',\n",
       "       'Suominen Souveniers', 'Muscle Machine Inc',\n",
       "       'Clover Collections, Co.', 'CAF Imports', 'AV Stores, Co.',\n",
       "       'Heintze Collectables', 'Microscale Inc.', 'Boards & Toys Co.',\n",
       "       'Iberia Gift Imports, Corp.', 'Signal Collectibles Ltd.',\n",
       "       'Mini Caravy', 'Signal Gift Stores', 'Norway Gifts By Mail, Co.',\n",
       "       'Rovelli Gifts', 'Australian Collectables, Ltd',\n",
       "       'Gift Ideas Corp.', 'Bavarian Collectables Imports, Co.',\n",
       "       'Royale Belge', 'Auto-Moto Classics Inc.'], dtype=object)"
      ]
     },
     "execution_count": 20,
     "metadata": {},
     "output_type": "execute_result"
    }
   ],
   "source": [
    "df.CUSTOMERNAME.unique()"
   ]
  },
  {
   "cell_type": "code",
   "execution_count": 21,
   "metadata": {},
   "outputs": [
    {
     "data": {
      "text/html": [
       "<div>\n",
       "<style scoped>\n",
       "    .dataframe tbody tr th:only-of-type {\n",
       "        vertical-align: middle;\n",
       "    }\n",
       "\n",
       "    .dataframe tbody tr th {\n",
       "        vertical-align: top;\n",
       "    }\n",
       "\n",
       "    .dataframe thead th {\n",
       "        text-align: right;\n",
       "    }\n",
       "</style>\n",
       "<table border=\"1\" class=\"dataframe\">\n",
       "  <thead>\n",
       "    <tr style=\"text-align: right;\">\n",
       "      <th></th>\n",
       "      <th>CUSTOMERNAME</th>\n",
       "      <th>Total Pembelian</th>\n",
       "    </tr>\n",
       "  </thead>\n",
       "  <tbody>\n",
       "    <tr>\n",
       "      <th>0</th>\n",
       "      <td>Euro Shopping Channel</td>\n",
       "      <td>912294.11</td>\n",
       "    </tr>\n",
       "    <tr>\n",
       "      <th>1</th>\n",
       "      <td>Mini Gifts Distributors Ltd.</td>\n",
       "      <td>654858.06</td>\n",
       "    </tr>\n",
       "    <tr>\n",
       "      <th>2</th>\n",
       "      <td>Australian Collectors, Co.</td>\n",
       "      <td>200995.41</td>\n",
       "    </tr>\n",
       "    <tr>\n",
       "      <th>3</th>\n",
       "      <td>Muscle Machine Inc</td>\n",
       "      <td>197736.94</td>\n",
       "    </tr>\n",
       "    <tr>\n",
       "      <th>4</th>\n",
       "      <td>La Rochelle Gifts</td>\n",
       "      <td>180124.90</td>\n",
       "    </tr>\n",
       "    <tr>\n",
       "      <th>5</th>\n",
       "      <td>Dragon Souveniers, Ltd.</td>\n",
       "      <td>172989.68</td>\n",
       "    </tr>\n",
       "    <tr>\n",
       "      <th>6</th>\n",
       "      <td>Land of Toys Inc.</td>\n",
       "      <td>164069.44</td>\n",
       "    </tr>\n",
       "    <tr>\n",
       "      <th>7</th>\n",
       "      <td>The Sharp Gifts Warehouse</td>\n",
       "      <td>160010.27</td>\n",
       "    </tr>\n",
       "    <tr>\n",
       "      <th>8</th>\n",
       "      <td>AV Stores, Co.</td>\n",
       "      <td>157807.81</td>\n",
       "    </tr>\n",
       "    <tr>\n",
       "      <th>9</th>\n",
       "      <td>Anna's Decorations, Ltd</td>\n",
       "      <td>153996.13</td>\n",
       "    </tr>\n",
       "    <tr>\n",
       "      <th>10</th>\n",
       "      <td>Souveniers And Things Co.</td>\n",
       "      <td>151570.98</td>\n",
       "    </tr>\n",
       "    <tr>\n",
       "      <th>11</th>\n",
       "      <td>Corporate Gift Ideas Co.</td>\n",
       "      <td>149882.50</td>\n",
       "    </tr>\n",
       "    <tr>\n",
       "      <th>12</th>\n",
       "      <td>Salzburg Collectables</td>\n",
       "      <td>149798.63</td>\n",
       "    </tr>\n",
       "    <tr>\n",
       "      <th>13</th>\n",
       "      <td>Danish Wholesale Imports</td>\n",
       "      <td>145041.60</td>\n",
       "    </tr>\n",
       "    <tr>\n",
       "      <th>14</th>\n",
       "      <td>Saveley &amp; Henriot, Co.</td>\n",
       "      <td>142874.25</td>\n",
       "    </tr>\n",
       "    <tr>\n",
       "      <th>15</th>\n",
       "      <td>L'ordine Souveniers</td>\n",
       "      <td>142601.33</td>\n",
       "    </tr>\n",
       "    <tr>\n",
       "      <th>16</th>\n",
       "      <td>Rovelli Gifts</td>\n",
       "      <td>137955.72</td>\n",
       "    </tr>\n",
       "    <tr>\n",
       "      <th>17</th>\n",
       "      <td>Reims Collectables</td>\n",
       "      <td>135042.94</td>\n",
       "    </tr>\n",
       "    <tr>\n",
       "      <th>18</th>\n",
       "      <td>Scandinavian Gift Ideas</td>\n",
       "      <td>134259.33</td>\n",
       "    </tr>\n",
       "    <tr>\n",
       "      <th>19</th>\n",
       "      <td>Online Diecast Creations Co.</td>\n",
       "      <td>131685.30</td>\n",
       "    </tr>\n",
       "    <tr>\n",
       "      <th>20</th>\n",
       "      <td>Diecast Classics Inc.</td>\n",
       "      <td>122138.14</td>\n",
       "    </tr>\n",
       "    <tr>\n",
       "      <th>21</th>\n",
       "      <td>Technics Stores Inc.</td>\n",
       "      <td>120783.07</td>\n",
       "    </tr>\n",
       "    <tr>\n",
       "      <th>22</th>\n",
       "      <td>Corrida Auto Replicas, Ltd</td>\n",
       "      <td>120615.28</td>\n",
       "    </tr>\n",
       "    <tr>\n",
       "      <th>23</th>\n",
       "      <td>Tokyo Collectables, Ltd</td>\n",
       "      <td>120562.74</td>\n",
       "    </tr>\n",
       "    <tr>\n",
       "      <th>24</th>\n",
       "      <td>UK Collectables, Ltd.</td>\n",
       "      <td>118008.27</td>\n",
       "    </tr>\n",
       "    <tr>\n",
       "      <th>25</th>\n",
       "      <td>Vida Sport, Ltd</td>\n",
       "      <td>117713.56</td>\n",
       "    </tr>\n",
       "    <tr>\n",
       "      <th>26</th>\n",
       "      <td>Baane Mini Imports</td>\n",
       "      <td>116599.19</td>\n",
       "    </tr>\n",
       "    <tr>\n",
       "      <th>27</th>\n",
       "      <td>Handji Gifts&amp; Co</td>\n",
       "      <td>115498.73</td>\n",
       "    </tr>\n",
       "    <tr>\n",
       "      <th>28</th>\n",
       "      <td>Suominen Souveniers</td>\n",
       "      <td>113961.15</td>\n",
       "    </tr>\n",
       "    <tr>\n",
       "      <th>29</th>\n",
       "      <td>Herkku Gifts</td>\n",
       "      <td>111640.28</td>\n",
       "    </tr>\n",
       "    <tr>\n",
       "      <th>...</th>\n",
       "      <td>...</td>\n",
       "      <td>...</td>\n",
       "    </tr>\n",
       "    <tr>\n",
       "      <th>62</th>\n",
       "      <td>Petit Auto</td>\n",
       "      <td>74972.52</td>\n",
       "    </tr>\n",
       "    <tr>\n",
       "      <th>63</th>\n",
       "      <td>Marseille Mini Autos</td>\n",
       "      <td>74936.14</td>\n",
       "    </tr>\n",
       "    <tr>\n",
       "      <th>64</th>\n",
       "      <td>Royal Canadian Collectables, Ltd.</td>\n",
       "      <td>74634.85</td>\n",
       "    </tr>\n",
       "    <tr>\n",
       "      <th>65</th>\n",
       "      <td>Mini Wheels Co.</td>\n",
       "      <td>74476.18</td>\n",
       "    </tr>\n",
       "    <tr>\n",
       "      <th>66</th>\n",
       "      <td>Quebec Home Shopping Network</td>\n",
       "      <td>74204.79</td>\n",
       "    </tr>\n",
       "    <tr>\n",
       "      <th>67</th>\n",
       "      <td>Diecast Collectables</td>\n",
       "      <td>70859.78</td>\n",
       "    </tr>\n",
       "    <tr>\n",
       "      <th>68</th>\n",
       "      <td>Alpha Cognac</td>\n",
       "      <td>70488.44</td>\n",
       "    </tr>\n",
       "    <tr>\n",
       "      <th>69</th>\n",
       "      <td>Daedalus Designs Imports</td>\n",
       "      <td>69052.41</td>\n",
       "    </tr>\n",
       "    <tr>\n",
       "      <th>70</th>\n",
       "      <td>Osaka Souveniers Co.</td>\n",
       "      <td>67605.07</td>\n",
       "    </tr>\n",
       "    <tr>\n",
       "      <th>71</th>\n",
       "      <td>Classic Gift Ideas, Inc</td>\n",
       "      <td>67506.97</td>\n",
       "    </tr>\n",
       "    <tr>\n",
       "      <th>72</th>\n",
       "      <td>Auto Assoc. &amp; Cie.</td>\n",
       "      <td>64834.32</td>\n",
       "    </tr>\n",
       "    <tr>\n",
       "      <th>73</th>\n",
       "      <td>Australian Collectables, Ltd</td>\n",
       "      <td>64591.46</td>\n",
       "    </tr>\n",
       "    <tr>\n",
       "      <th>74</th>\n",
       "      <td>Australian Gift Network, Co</td>\n",
       "      <td>59469.12</td>\n",
       "    </tr>\n",
       "    <tr>\n",
       "      <th>75</th>\n",
       "      <td>Clover Collections, Co.</td>\n",
       "      <td>57756.43</td>\n",
       "    </tr>\n",
       "    <tr>\n",
       "      <th>76</th>\n",
       "      <td>Gift Ideas Corp.</td>\n",
       "      <td>57294.42</td>\n",
       "    </tr>\n",
       "    <tr>\n",
       "      <th>77</th>\n",
       "      <td>Online Mini Collectables</td>\n",
       "      <td>57197.96</td>\n",
       "    </tr>\n",
       "    <tr>\n",
       "      <th>78</th>\n",
       "      <td>Iberia Gift Imports, Corp.</td>\n",
       "      <td>54723.62</td>\n",
       "    </tr>\n",
       "    <tr>\n",
       "      <th>79</th>\n",
       "      <td>Mini Auto Werke</td>\n",
       "      <td>52263.90</td>\n",
       "    </tr>\n",
       "    <tr>\n",
       "      <th>80</th>\n",
       "      <td>Signal Collectibles Ltd.</td>\n",
       "      <td>50218.51</td>\n",
       "    </tr>\n",
       "    <tr>\n",
       "      <th>81</th>\n",
       "      <td>CAF Imports</td>\n",
       "      <td>49642.05</td>\n",
       "    </tr>\n",
       "    <tr>\n",
       "      <th>82</th>\n",
       "      <td>Men 'R' US Retailers, Ltd.</td>\n",
       "      <td>48048.46</td>\n",
       "    </tr>\n",
       "    <tr>\n",
       "      <th>83</th>\n",
       "      <td>West Coast Collectables Co.</td>\n",
       "      <td>46084.64</td>\n",
       "    </tr>\n",
       "    <tr>\n",
       "      <th>84</th>\n",
       "      <td>Cambridge Collectables Co.</td>\n",
       "      <td>36163.62</td>\n",
       "    </tr>\n",
       "    <tr>\n",
       "      <th>85</th>\n",
       "      <td>Double Decker Gift Stores, Ltd</td>\n",
       "      <td>36019.04</td>\n",
       "    </tr>\n",
       "    <tr>\n",
       "      <th>86</th>\n",
       "      <td>Bavarian Collectables Imports, Co.</td>\n",
       "      <td>34993.92</td>\n",
       "    </tr>\n",
       "    <tr>\n",
       "      <th>87</th>\n",
       "      <td>Royale Belge</td>\n",
       "      <td>33440.10</td>\n",
       "    </tr>\n",
       "    <tr>\n",
       "      <th>88</th>\n",
       "      <td>Microscale Inc.</td>\n",
       "      <td>33144.93</td>\n",
       "    </tr>\n",
       "    <tr>\n",
       "      <th>89</th>\n",
       "      <td>Auto-Moto Classics Inc.</td>\n",
       "      <td>26479.26</td>\n",
       "    </tr>\n",
       "    <tr>\n",
       "      <th>90</th>\n",
       "      <td>Atelier graphique</td>\n",
       "      <td>24179.96</td>\n",
       "    </tr>\n",
       "    <tr>\n",
       "      <th>91</th>\n",
       "      <td>Boards &amp; Toys Co.</td>\n",
       "      <td>9129.35</td>\n",
       "    </tr>\n",
       "  </tbody>\n",
       "</table>\n",
       "<p>92 rows × 2 columns</p>\n",
       "</div>"
      ],
      "text/plain": [
       "                          CUSTOMERNAME  Total Pembelian\n",
       "0                Euro Shopping Channel        912294.11\n",
       "1         Mini Gifts Distributors Ltd.        654858.06\n",
       "2           Australian Collectors, Co.        200995.41\n",
       "3                   Muscle Machine Inc        197736.94\n",
       "4                    La Rochelle Gifts        180124.90\n",
       "5              Dragon Souveniers, Ltd.        172989.68\n",
       "6                    Land of Toys Inc.        164069.44\n",
       "7            The Sharp Gifts Warehouse        160010.27\n",
       "8                       AV Stores, Co.        157807.81\n",
       "9              Anna's Decorations, Ltd        153996.13\n",
       "10           Souveniers And Things Co.        151570.98\n",
       "11            Corporate Gift Ideas Co.        149882.50\n",
       "12               Salzburg Collectables        149798.63\n",
       "13            Danish Wholesale Imports        145041.60\n",
       "14              Saveley & Henriot, Co.        142874.25\n",
       "15                 L'ordine Souveniers        142601.33\n",
       "16                       Rovelli Gifts        137955.72\n",
       "17                  Reims Collectables        135042.94\n",
       "18             Scandinavian Gift Ideas        134259.33\n",
       "19        Online Diecast Creations Co.        131685.30\n",
       "20               Diecast Classics Inc.        122138.14\n",
       "21                Technics Stores Inc.        120783.07\n",
       "22          Corrida Auto Replicas, Ltd        120615.28\n",
       "23             Tokyo Collectables, Ltd        120562.74\n",
       "24               UK Collectables, Ltd.        118008.27\n",
       "25                     Vida Sport, Ltd        117713.56\n",
       "26                  Baane Mini Imports        116599.19\n",
       "27                    Handji Gifts& Co        115498.73\n",
       "28                 Suominen Souveniers        113961.15\n",
       "29                        Herkku Gifts        111640.28\n",
       "..                                 ...              ...\n",
       "62                          Petit Auto         74972.52\n",
       "63                Marseille Mini Autos         74936.14\n",
       "64   Royal Canadian Collectables, Ltd.         74634.85\n",
       "65                     Mini Wheels Co.         74476.18\n",
       "66        Quebec Home Shopping Network         74204.79\n",
       "67                Diecast Collectables         70859.78\n",
       "68                        Alpha Cognac         70488.44\n",
       "69            Daedalus Designs Imports         69052.41\n",
       "70                Osaka Souveniers Co.         67605.07\n",
       "71             Classic Gift Ideas, Inc         67506.97\n",
       "72                  Auto Assoc. & Cie.         64834.32\n",
       "73        Australian Collectables, Ltd         64591.46\n",
       "74         Australian Gift Network, Co         59469.12\n",
       "75             Clover Collections, Co.         57756.43\n",
       "76                    Gift Ideas Corp.         57294.42\n",
       "77            Online Mini Collectables         57197.96\n",
       "78          Iberia Gift Imports, Corp.         54723.62\n",
       "79                     Mini Auto Werke         52263.90\n",
       "80            Signal Collectibles Ltd.         50218.51\n",
       "81                         CAF Imports         49642.05\n",
       "82          Men 'R' US Retailers, Ltd.         48048.46\n",
       "83         West Coast Collectables Co.         46084.64\n",
       "84          Cambridge Collectables Co.         36163.62\n",
       "85      Double Decker Gift Stores, Ltd         36019.04\n",
       "86  Bavarian Collectables Imports, Co.         34993.92\n",
       "87                        Royale Belge         33440.10\n",
       "88                     Microscale Inc.         33144.93\n",
       "89             Auto-Moto Classics Inc.         26479.26\n",
       "90                   Atelier graphique         24179.96\n",
       "91                   Boards & Toys Co.          9129.35\n",
       "\n",
       "[92 rows x 2 columns]"
      ]
     },
     "execution_count": 21,
     "metadata": {},
     "output_type": "execute_result"
    }
   ],
   "source": [
    "dfclone = df\n",
    "dfclone = dfclone.rename(columns={\"SALES\": \"Total Pembelian\"})\n",
    "df2=pd.DataFrame(data = dfclone.groupby(['CUSTOMERNAME'])['Total Pembelian'].sum().sort_values(ascending=False))\n",
    "df2=df2.reset_index()\n",
    "df2"
   ]
  },
  {
   "cell_type": "code",
   "execution_count": 101,
   "metadata": {},
   "outputs": [],
   "source": [
    "dfbar = df2.head(10)\n",
    "dfbar=dfbar.round(2)\n",
    "#dfbar.info()"
   ]
  },
  {
   "cell_type": "code",
   "execution_count": 100,
   "metadata": {},
   "outputs": [
    {
     "data": {
      "image/png": "[encoded data removed]",
      "text/plain": [
       "<Figure size 864x648 with 1 Axes>"
      ]
     },
     "metadata": {
      "needs_background": "light"
     },
     "output_type": "display_data"
    }
   ],
   "source": [
    "\n",
    "y_pos = np.arange(len(dfbar['CUSTOMERNAME']))\n",
    "\n",
    "fig, ax = plt.subplots()\n",
    "rects1 = ax.bar(y_pos, dfbar[\"Total Pembelian\"], color=plt.cm.Paired(np.arange(len(dfbar))))\n",
    "plt.xticks(fontsize=13, rotation=90)\n",
    "plt.yticks(fontsize=13)\n",
    "\n",
    "\n",
    "\n",
    "ax.set_title(\"Customer dengan Total Pembelian Terbanyak ($)\")\n",
    "ax.set_ylabel('Total Pembelian')\n",
    "ax.set_xlabel('Nama Customer')\n",
    "\n",
    "ax.set_xticks(y_pos)\n",
    "ax.set_xticklabels(dfbar['CUSTOMERNAME'])\n",
    "\n",
    "\n",
    "def autolabel(rects):\n",
    "    \"\"\"Attach a text label above each bar in *rects*, displaying its height.\"\"\"\n",
    "    for rect in rects:\n",
    "        height = rect.get_height()\n",
    "        ax.annotate('{}'.format(height),\n",
    "                    xy=(rect.get_x() + rect.get_width() / 2, height),\n",
    "                    xytext=(0, 3),  # 3 points vertical offset\n",
    "                    textcoords=\"offset points\",\n",
    "                    ha='center', va='bottom')\n",
    "\n",
    "\n",
    "autolabel(rects1)\n",
    "\n",
    "plt.show()"
   ]
  },
  {
   "cell_type": "markdown",
   "metadata": {},
   "source": [
    "## 3.\tTingkat penjualan bulanan"
   ]
  },
  {
   "cell_type": "markdown",
   "metadata": {},
   "source": [
    "Melalui visualisasi ini, dapat dilihat naik turun-nya penjualan perusahaan dari bulan ke bulan, sehingga dapat diketahui kapan terjadi peningkatan penjualan dan kapan terjadi penurunan penjualan untuk dilakukan analisis penyebab naik-turunnya penjualan tersebut. Peningkatan dan penjualan perusahaan dapat dipengaruhi oleh bulan, misal terjadi peningkatan pada penjualan di bulan Desember, yang mana mungkin dapat disebabkan karena hari natal, sehingga banyak orang yang membeli mobil mainan sebagai hadiah. "
   ]
  },
  {
   "cell_type": "code",
   "execution_count": 24,
   "metadata": {},
   "outputs": [
    {
     "data": {
      "text/plain": [
       "array([2003, 2004, 2005], dtype=int64)"
      ]
     },
     "execution_count": 24,
     "metadata": {},
     "output_type": "execute_result"
    }
   ],
   "source": [
    "dfclone1=df\n",
    "dfclone1=dfclone1.rename(columns={\"YEAR_ID\": \"TAHUN\"})\n",
    "dfclone1.TAHUN.unique()"
   ]
  },
  {
   "cell_type": "code",
   "execution_count": 36,
   "metadata": {},
   "outputs": [
    {
     "data": {
      "image/png": "[encoded data removed]",
      "text/plain": [
       "<Figure size 648x432 with 1 Axes>"
      ]
     },
     "metadata": {
      "needs_background": "light"
     },
     "output_type": "display_data"
    }
   ],
   "source": [
    "plt.figure(figsize=(9,6))\n",
    "\n",
    "monthly_revenue = dfclone1.groupby(['TAHUN','MONTH_ID'])['SALES'].sum().reset_index()\n",
    "monthly_revenue\n",
    "sns.lineplot(x=\"MONTH_ID\", y=\"SALES\",hue=\"TAHUN\", data=monthly_revenue)\n",
    "plt.xlabel('Bulan')\n",
    "plt.ylabel(\"Total Penjualan ($)\")\n",
    "plt.title(\" Tingkat penjualan bulanan\")\n",
    "plt.show()"
   ]
  },
  {
   "cell_type": "markdown",
   "metadata": {},
   "source": [
    "## 4.\tPersebaran total penjualan berdasarkan wilayah"
   ]
  },
  {
   "cell_type": "code",
   "execution_count": 26,
   "metadata": {},
   "outputs": [
    {
     "name": "stdout",
     "output_type": "stream",
     "text": [
      "Requirement already satisfied: folium in c:\\users\\r3f1n\\anaconda3\\lib\\site-packages (0.10.0)\n",
      "Requirement already satisfied: numpy in c:\\users\\r3f1n\\anaconda3\\lib\\site-packages (from folium) (1.16.4)\n",
      "Requirement already satisfied: branca>=0.3.0 in c:\\users\\r3f1n\\anaconda3\\lib\\site-packages (from folium) (0.3.1)\n",
      "Requirement already satisfied: jinja2>=2.9 in c:\\users\\r3f1n\\anaconda3\\lib\\site-packages (from folium) (2.10.1)\n",
      "Requirement already satisfied: requests in c:\\users\\r3f1n\\anaconda3\\lib\\site-packages (from folium) (2.22.0)\n",
      "Requirement already satisfied: six in c:\\users\\r3f1n\\anaconda3\\lib\\site-packages (from branca>=0.3.0->folium) (1.12.0)\n",
      "Requirement already satisfied: MarkupSafe>=0.23 in c:\\users\\r3f1n\\anaconda3\\lib\\site-packages (from jinja2>=2.9->folium) (1.1.1)\n",
      "Requirement already satisfied: urllib3!=1.25.0,!=1.25.1,<1.26,>=1.21.1 in c:\\users\\r3f1n\\anaconda3\\lib\\site-packages (from requests->folium) (1.24.2)\n",
      "Requirement already satisfied: idna<2.9,>=2.5 in c:\\users\\r3f1n\\anaconda3\\lib\\site-packages (from requests->folium) (2.8)\n",
      "Requirement already satisfied: certifi>=2017.4.17 in c:\\users\\r3f1n\\anaconda3\\lib\\site-packages (from requests->folium) (2019.6.16)\n",
      "Requirement already satisfied: chardet<3.1.0,>=3.0.2 in c:\\users\\r3f1n\\anaconda3\\lib\\site-packages (from requests->folium) (3.0.4)\n"
     ]
    }
   ],
   "source": [
    "!pip install folium"
   ]
  },
  {
   "cell_type": "code",
   "execution_count": 27,
   "metadata": {},
   "outputs": [],
   "source": [
    "import folium as fol"
   ]
  },
  {
   "cell_type": "code",
   "execution_count": 28,
   "metadata": {},
   "outputs": [],
   "source": [
    "country_geo = 'world3.geo.json'"
   ]
  },
  {
   "cell_type": "code",
   "execution_count": 29,
   "metadata": {},
   "outputs": [],
   "source": [
    "df['COUNTRY'] = df['COUNTRY'].replace(['UK'], 'United Kingdom')\n",
    "df['COUNTRY'] = df['COUNTRY'].replace(['USA'], 'United States of America')"
   ]
  },
  {
   "cell_type": "code",
   "execution_count": 30,
   "metadata": {},
   "outputs": [
    {
     "data": {
      "text/html": [
       "<div>\n",
       "<style scoped>\n",
       "    .dataframe tbody tr th:only-of-type {\n",
       "        vertical-align: middle;\n",
       "    }\n",
       "\n",
       "    .dataframe tbody tr th {\n",
       "        vertical-align: top;\n",
       "    }\n",
       "\n",
       "    .dataframe thead th {\n",
       "        text-align: right;\n",
       "    }\n",
       "</style>\n",
       "<table border=\"1\" class=\"dataframe\">\n",
       "  <thead>\n",
       "    <tr style=\"text-align: right;\">\n",
       "      <th></th>\n",
       "      <th>COUNTRY</th>\n",
       "      <th>SALES</th>\n",
       "    </tr>\n",
       "  </thead>\n",
       "  <tbody>\n",
       "    <tr>\n",
       "      <th>0</th>\n",
       "      <td>Australia</td>\n",
       "      <td>630623.10</td>\n",
       "    </tr>\n",
       "    <tr>\n",
       "      <th>1</th>\n",
       "      <td>Austria</td>\n",
       "      <td>202062.53</td>\n",
       "    </tr>\n",
       "    <tr>\n",
       "      <th>2</th>\n",
       "      <td>Belgium</td>\n",
       "      <td>108412.62</td>\n",
       "    </tr>\n",
       "    <tr>\n",
       "      <th>3</th>\n",
       "      <td>Canada</td>\n",
       "      <td>224078.56</td>\n",
       "    </tr>\n",
       "    <tr>\n",
       "      <th>4</th>\n",
       "      <td>Denmark</td>\n",
       "      <td>245637.15</td>\n",
       "    </tr>\n",
       "    <tr>\n",
       "      <th>5</th>\n",
       "      <td>Finland</td>\n",
       "      <td>329581.91</td>\n",
       "    </tr>\n",
       "    <tr>\n",
       "      <th>6</th>\n",
       "      <td>France</td>\n",
       "      <td>1110916.52</td>\n",
       "    </tr>\n",
       "    <tr>\n",
       "      <th>7</th>\n",
       "      <td>Germany</td>\n",
       "      <td>220472.09</td>\n",
       "    </tr>\n",
       "    <tr>\n",
       "      <th>8</th>\n",
       "      <td>Ireland</td>\n",
       "      <td>57756.43</td>\n",
       "    </tr>\n",
       "    <tr>\n",
       "      <th>9</th>\n",
       "      <td>Italy</td>\n",
       "      <td>374674.31</td>\n",
       "    </tr>\n",
       "    <tr>\n",
       "      <th>10</th>\n",
       "      <td>Japan</td>\n",
       "      <td>188167.81</td>\n",
       "    </tr>\n",
       "    <tr>\n",
       "      <th>11</th>\n",
       "      <td>Norway</td>\n",
       "      <td>307463.70</td>\n",
       "    </tr>\n",
       "    <tr>\n",
       "      <th>12</th>\n",
       "      <td>Philippines</td>\n",
       "      <td>94015.73</td>\n",
       "    </tr>\n",
       "    <tr>\n",
       "      <th>13</th>\n",
       "      <td>Singapore</td>\n",
       "      <td>288488.41</td>\n",
       "    </tr>\n",
       "    <tr>\n",
       "      <th>14</th>\n",
       "      <td>Spain</td>\n",
       "      <td>1215686.92</td>\n",
       "    </tr>\n",
       "    <tr>\n",
       "      <th>15</th>\n",
       "      <td>Sweden</td>\n",
       "      <td>210014.21</td>\n",
       "    </tr>\n",
       "    <tr>\n",
       "      <th>16</th>\n",
       "      <td>Switzerland</td>\n",
       "      <td>117713.56</td>\n",
       "    </tr>\n",
       "    <tr>\n",
       "      <th>17</th>\n",
       "      <td>United Kingdom</td>\n",
       "      <td>478880.46</td>\n",
       "    </tr>\n",
       "    <tr>\n",
       "      <th>18</th>\n",
       "      <td>United States of America</td>\n",
       "      <td>3627982.83</td>\n",
       "    </tr>\n",
       "  </tbody>\n",
       "</table>\n",
       "</div>"
      ],
      "text/plain": [
       "                     COUNTRY       SALES\n",
       "0                  Australia   630623.10\n",
       "1                    Austria   202062.53\n",
       "2                    Belgium   108412.62\n",
       "3                     Canada   224078.56\n",
       "4                    Denmark   245637.15\n",
       "5                    Finland   329581.91\n",
       "6                     France  1110916.52\n",
       "7                    Germany   220472.09\n",
       "8                    Ireland    57756.43\n",
       "9                      Italy   374674.31\n",
       "10                     Japan   188167.81\n",
       "11                    Norway   307463.70\n",
       "12               Philippines    94015.73\n",
       "13                 Singapore   288488.41\n",
       "14                     Spain  1215686.92\n",
       "15                    Sweden   210014.21\n",
       "16               Switzerland   117713.56\n",
       "17            United Kingdom   478880.46\n",
       "18  United States of America  3627982.83"
      ]
     },
     "execution_count": 30,
     "metadata": {},
     "output_type": "execute_result"
    }
   ],
   "source": [
    "count2 = df.groupby(['COUNTRY'])['SALES'].agg('sum') #sales per country\n",
    "df4=pd.DataFrame(data = count2)\n",
    "df4=df4.reset_index()\n",
    "df4"
   ]
  },
  {
   "cell_type": "code",
   "execution_count": 50,
   "metadata": {},
   "outputs": [
    {
     "data": {
      "text/html": [
       "<div>\n",
       "<style scoped>\n",
       "    .dataframe tbody tr th:only-of-type {\n",
       "        vertical-align: middle;\n",
       "    }\n",
       "\n",
       "    .dataframe tbody tr th {\n",
       "        vertical-align: top;\n",
       "    }\n",
       "\n",
       "    .dataframe thead th {\n",
       "        text-align: right;\n",
       "    }\n",
       "</style>\n",
       "<table border=\"1\" class=\"dataframe\">\n",
       "  <thead>\n",
       "    <tr style=\"text-align: right;\">\n",
       "      <th></th>\n",
       "      <th>COUNTRY</th>\n",
       "      <th>SALES</th>\n",
       "      <th>Code</th>\n",
       "    </tr>\n",
       "  </thead>\n",
       "  <tbody>\n",
       "    <tr>\n",
       "      <th>0</th>\n",
       "      <td>Australia</td>\n",
       "      <td>630623.10</td>\n",
       "      <td>AUS</td>\n",
       "    </tr>\n",
       "    <tr>\n",
       "      <th>1</th>\n",
       "      <td>Austria</td>\n",
       "      <td>202062.53</td>\n",
       "      <td>AUT</td>\n",
       "    </tr>\n",
       "    <tr>\n",
       "      <th>2</th>\n",
       "      <td>Belgium</td>\n",
       "      <td>108412.62</td>\n",
       "      <td>BEL</td>\n",
       "    </tr>\n",
       "    <tr>\n",
       "      <th>3</th>\n",
       "      <td>Canada</td>\n",
       "      <td>224078.56</td>\n",
       "      <td>CAN</td>\n",
       "    </tr>\n",
       "    <tr>\n",
       "      <th>4</th>\n",
       "      <td>Denmark</td>\n",
       "      <td>245637.15</td>\n",
       "      <td>DNK</td>\n",
       "    </tr>\n",
       "    <tr>\n",
       "      <th>5</th>\n",
       "      <td>Finland</td>\n",
       "      <td>329581.91</td>\n",
       "      <td>FIN</td>\n",
       "    </tr>\n",
       "    <tr>\n",
       "      <th>6</th>\n",
       "      <td>France</td>\n",
       "      <td>1110916.52</td>\n",
       "      <td>FRA</td>\n",
       "    </tr>\n",
       "    <tr>\n",
       "      <th>7</th>\n",
       "      <td>Germany</td>\n",
       "      <td>220472.09</td>\n",
       "      <td>DEU</td>\n",
       "    </tr>\n",
       "    <tr>\n",
       "      <th>8</th>\n",
       "      <td>Ireland</td>\n",
       "      <td>57756.43</td>\n",
       "      <td>IRL</td>\n",
       "    </tr>\n",
       "    <tr>\n",
       "      <th>9</th>\n",
       "      <td>Italy</td>\n",
       "      <td>374674.31</td>\n",
       "      <td>ITA</td>\n",
       "    </tr>\n",
       "    <tr>\n",
       "      <th>10</th>\n",
       "      <td>Japan</td>\n",
       "      <td>188167.81</td>\n",
       "      <td>JPN</td>\n",
       "    </tr>\n",
       "    <tr>\n",
       "      <th>11</th>\n",
       "      <td>Norway</td>\n",
       "      <td>307463.70</td>\n",
       "      <td>NOR</td>\n",
       "    </tr>\n",
       "    <tr>\n",
       "      <th>12</th>\n",
       "      <td>Philippines</td>\n",
       "      <td>94015.73</td>\n",
       "      <td>PHL</td>\n",
       "    </tr>\n",
       "    <tr>\n",
       "      <th>13</th>\n",
       "      <td>Singapore</td>\n",
       "      <td>288488.41</td>\n",
       "      <td>SGP</td>\n",
       "    </tr>\n",
       "    <tr>\n",
       "      <th>14</th>\n",
       "      <td>Spain</td>\n",
       "      <td>1215686.92</td>\n",
       "      <td>ESP</td>\n",
       "    </tr>\n",
       "    <tr>\n",
       "      <th>15</th>\n",
       "      <td>Sweden</td>\n",
       "      <td>210014.21</td>\n",
       "      <td>SWE</td>\n",
       "    </tr>\n",
       "    <tr>\n",
       "      <th>16</th>\n",
       "      <td>Switzerland</td>\n",
       "      <td>117713.56</td>\n",
       "      <td>CHE</td>\n",
       "    </tr>\n",
       "    <tr>\n",
       "      <th>17</th>\n",
       "      <td>United Kingdom</td>\n",
       "      <td>478880.46</td>\n",
       "      <td>GBR</td>\n",
       "    </tr>\n",
       "    <tr>\n",
       "      <th>18</th>\n",
       "      <td>United States of America</td>\n",
       "      <td>3627982.83</td>\n",
       "      <td>USA</td>\n",
       "    </tr>\n",
       "  </tbody>\n",
       "</table>\n",
       "</div>"
      ],
      "text/plain": [
       "                     COUNTRY       SALES Code\n",
       "0                  Australia   630623.10  AUS\n",
       "1                    Austria   202062.53  AUT\n",
       "2                    Belgium   108412.62  BEL\n",
       "3                     Canada   224078.56  CAN\n",
       "4                    Denmark   245637.15  DNK\n",
       "5                    Finland   329581.91  FIN\n",
       "6                     France  1110916.52  FRA\n",
       "7                    Germany   220472.09  DEU\n",
       "8                    Ireland    57756.43  IRL\n",
       "9                      Italy   374674.31  ITA\n",
       "10                     Japan   188167.81  JPN\n",
       "11                    Norway   307463.70  NOR\n",
       "12               Philippines    94015.73  PHL\n",
       "13                 Singapore   288488.41  SGP\n",
       "14                     Spain  1215686.92  ESP\n",
       "15                    Sweden   210014.21  SWE\n",
       "16               Switzerland   117713.56  CHE\n",
       "17            United Kingdom   478880.46  GBR\n",
       "18  United States of America  3627982.83  USA"
      ]
     },
     "execution_count": 50,
     "metadata": {},
     "output_type": "execute_result"
    }
   ],
   "source": [
    "code = ['AUS', 'AUT', 'BEL', 'CAN', 'DNK', 'FIN', 'FRA', 'DEU', 'IRL', 'ITA', 'JPN', 'NOR', 'PHL', 'SGP', 'ESP', 'SWE', 'CHE', 'GBR', 'USA'] \n",
    "  \n",
    "# Using 'Address' as the column name \n",
    "# and equating it to the list \n",
    "df4['Code'] = code \n",
    "  \n",
    "# Observe the result \n",
    "df4"
   ]
  },
  {
   "cell_type": "code",
   "execution_count": 73,
   "metadata": {
    "scrolled": false
   },
   "outputs": [
    {
     "data": {
      "text/html": [
       "<div style=\"width:100%;\"><div style=\"position:relative;width:100%;height:0;padding-bottom:60%;\"><iframe src=\"data:text/html;charset=utf-8;base64,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\" style=\"position:absolute;width:100%;height:100%;left:0;top:0;border:none !important;\" allowfullscreen webkitallowfullscreen mozallowfullscreen></iframe></div></div>"
      ],
      "text/plain": [
       "<folium.folium.Map at 0x156b930c668>"
      ]
     },
     "execution_count": 73,
     "metadata": {},
     "output_type": "execute_result"
    }
   ],
   "source": [
    "map = fol.Map(location=[50, 0], zoom_start=1.5)\n",
    "map.choropleth(geo_data=country_geo, \n",
    "               data=df4,\n",
    "               columns=['COUNTRY','SALES'],\n",
    "               key_on='feature.properties.name',\n",
    "               fill_color='YlOrRd', \n",
    "               fill_opacity=0.8, \n",
    "               line_opacity=0.2,\n",
    "                legend_name=\"Total Penjualan ($)\")\n",
    "\n",
    "\n",
    "map"
   ]
  },
  {
   "cell_type": "code",
   "execution_count": 43,
   "metadata": {},
   "outputs": [
    {
     "name": "stdout",
     "output_type": "stream",
     "text": [
      "Collecting plotly==4.3.0\n",
      "  Downloading https://files.pythonhosted.org/packages/e3/67/eb2b2be7a63a66548abea92447fc04d9abf363520f1af6145c5f033cd1b3/plotly-4.3.0-py2.py3-none-any.whl (7.3MB)\n",
      "Collecting retrying>=1.3.3 (from plotly==4.3.0)\n",
      "  Downloading https://files.pythonhosted.org/packages/44/ef/beae4b4ef80902f22e3af073397f079c96969c69b2c7d52a57ea9ae61c9d/retrying-1.3.3.tar.gz\n",
      "Requirement already satisfied: six in c:\\users\\r3f1n\\anaconda3\\lib\\site-packages (from plotly==4.3.0) (1.12.0)\n",
      "Building wheels for collected packages: retrying\n",
      "  Building wheel for retrying (setup.py): started\n",
      "  Building wheel for retrying (setup.py): finished with status 'done'\n",
      "  Stored in directory: C:\\Users\\r3f1n\\AppData\\Local\\pip\\Cache\\wheels\\d7\\a9\\33\\acc7b709e2a35caa7d4cae442f6fe6fbf2c43f80823d46460c\n",
      "Successfully built retrying\n",
      "Installing collected packages: retrying, plotly\n",
      "Successfully installed plotly-4.3.0 retrying-1.3.3\n"
     ]
    }
   ],
   "source": [
    "!pip install plotly==4.3.0"
   ]
  },
  {
   "cell_type": "code",
   "execution_count": 71,
   "metadata": {},
   "outputs": [
    {
     "data": {
      "application/vnd.plotly.v1+json": {
       "config": {
        "plotlyServerURL": "https://plot.ly"
       },
       "data": [
        {
         "autocolorscale": false,
         "colorbar": {
          "tickprefix": "$",
          "title": {
           "text": "Sales $"
          }
         },
         "colorscale": [
          [
           0,
           "rgb(255,255,204)"
          ],
          [
           0.125,
           "rgb(255,237,160)"
          ],
          [
           0.25,
           "rgb(254,217,118)"
          ],
          [
           0.375,
           "rgb(254,178,76)"
          ],
          [
           0.5,
           "rgb(253,141,60)"
          ],
          [
           0.625,
           "rgb(252,78,42)"
          ],
          [
           0.75,
           "rgb(227,26,28)"
          ],
          [
           0.875,
           "rgb(189,0,38)"
          ],
          [
           1,
           "rgb(128,0,38)"
          ]
         ],
         "locations": [
          "AUS",
          "AUT",
          "BEL",
          "CAN",
          "DNK",
          "FIN",
          "FRA",
          "DEU",
          "IRL",
          "ITA",
          "JPN",
          "NOR",
          "PHL",
          "SGP",
          "ESP",
          "SWE",
          "CHE",
          "GBR",
          "USA"
         ],
         "marker": {
          "line": {
           "color": "white",
           "width": 0.5
          }
         },
         "reversescale": false,
         "text": [
          "Australia",
          "Austria",
          "Belgium",
          "Canada",
          "Denmark",
          "Finland",
          "France",
          "Germany",
          "Ireland",
          "Italy",
          "Japan",
          "Norway",
          "Philippines",
          "Singapore",
          "Spain",
          "Sweden",
          "Switzerland",
          "United Kingdom",
          "United States of America"
         ],
         "type": "choropleth",
         "z": [
          630623.1000000001,
          202062.53,
          108412.62,
          224078.55999999994,
          245637.15,
          329581.9100000001,
          1110916.5199999993,
          220472.08999999994,
          57756.43,
          374674.30999999976,
          188167.80999999997,
          307463.7000000001,
          94015.73,
          288488.41000000003,
          1215686.9200000009,
          210014.21,
          117713.55999999998,
          478880.4600000001,
          3627982.83
         ]
        }
       ],
       "layout": {
        "geo": {
         "projection": {
          "type": "equirectangular"
         },
         "showcoastlines": true,
         "showframe": true
        },
        "template": {
         "data": {
          "bar": [
           {
            "error_x": {
             "color": "#2a3f5f"
            },
            "error_y": {
             "color": "#2a3f5f"
            },
            "marker": {
             "line": {
              "color": "#E5ECF6",
              "width": 0.5
             }
            },
            "type": "bar"
           }
          ],
          "barpolar": [
           {
            "marker": {
             "line": {
              "color": "#E5ECF6",
              "width": 0.5
             }
            },
            "type": "barpolar"
           }
          ],
          "carpet": [
           {
            "aaxis": {
             "endlinecolor": "#2a3f5f",
             "gridcolor": "white",
             "linecolor": "white",
             "minorgridcolor": "white",
             "startlinecolor": "#2a3f5f"
            },
            "baxis": {
             "endlinecolor": "#2a3f5f",
             "gridcolor": "white",
             "linecolor": "white",
             "minorgridcolor": "white",
             "startlinecolor": "#2a3f5f"
            },
            "type": "carpet"
           }
          ],
          "choropleth": [
           {
            "colorbar": {
             "outlinewidth": 0,
             "ticks": ""
            },
            "type": "choropleth"
           }
          ],
          "contour": [
           {
            "colorbar": {
             "outlinewidth": 0,
             "ticks": ""
            },
            "colorscale": [
             [
              0,
              "#0d0887"
             ],
             [
              0.1111111111111111,
              "#46039f"
             ],
             [
              0.2222222222222222,
              "#7201a8"
             ],
             [
              0.3333333333333333,
              "#9c179e"
             ],
             [
              0.4444444444444444,
              "#bd3786"
             ],
             [
              0.5555555555555556,
              "#d8576b"
             ],
             [
              0.6666666666666666,
              "#ed7953"
             ],
             [
              0.7777777777777778,
              "#fb9f3a"
             ],
             [
              0.8888888888888888,
              "#fdca26"
             ],
             [
              1,
              "#f0f921"
             ]
            ],
            "type": "contour"
           }
          ],
          "contourcarpet": [
           {
            "colorbar": {
             "outlinewidth": 0,
             "ticks": ""
            },
            "type": "contourcarpet"
           }
          ],
          "heatmap": [
           {
            "colorbar": {
             "outlinewidth": 0,
             "ticks": ""
            },
            "colorscale": [
             [
              0,
              "#0d0887"
             ],
             [
              0.1111111111111111,
              "#46039f"
             ],
             [
              0.2222222222222222,
              "#7201a8"
             ],
             [
              0.3333333333333333,
              "#9c179e"
             ],
             [
              0.4444444444444444,
              "#bd3786"
             ],
             [
              0.5555555555555556,
              "#d8576b"
             ],
             [
              0.6666666666666666,
              "#ed7953"
             ],
             [
              0.7777777777777778,
              "#fb9f3a"
             ],
             [
              0.8888888888888888,
              "#fdca26"
             ],
             [
              1,
              "#f0f921"
             ]
            ],
            "type": "heatmap"
           }
          ],
          "heatmapgl": [
           {
            "colorbar": {
             "outlinewidth": 0,
             "ticks": ""
            },
            "colorscale": [
             [
              0,
              "#0d0887"
             ],
             [
              0.1111111111111111,
              "#46039f"
             ],
             [
              0.2222222222222222,
              "#7201a8"
             ],
             [
              0.3333333333333333,
              "#9c179e"
             ],
             [
              0.4444444444444444,
              "#bd3786"
             ],
             [
              0.5555555555555556,
              "#d8576b"
             ],
             [
              0.6666666666666666,
              "#ed7953"
             ],
             [
              0.7777777777777778,
              "#fb9f3a"
             ],
             [
              0.8888888888888888,
              "#fdca26"
             ],
             [
              1,
              "#f0f921"
             ]
            ],
            "type": "heatmapgl"
           }
          ],
          "histogram": [
           {
            "marker": {
             "colorbar": {
              "outlinewidth": 0,
              "ticks": ""
             }
            },
            "type": "histogram"
           }
          ],
          "histogram2d": [
           {
            "colorbar": {
             "outlinewidth": 0,
             "ticks": ""
            },
            "colorscale": [
             [
              0,
              "#0d0887"
             ],
             [
              0.1111111111111111,
              "#46039f"
             ],
             [
              0.2222222222222222,
              "#7201a8"
             ],
             [
              0.3333333333333333,
              "#9c179e"
             ],
             [
              0.4444444444444444,
              "#bd3786"
             ],
             [
              0.5555555555555556,
              "#d8576b"
             ],
             [
              0.6666666666666666,
              "#ed7953"
             ],
             [
              0.7777777777777778,
              "#fb9f3a"
             ],
             [
              0.8888888888888888,
              "#fdca26"
             ],
             [
              1,
              "#f0f921"
             ]
            ],
            "type": "histogram2d"
           }
          ],
          "histogram2dcontour": [
           {
            "colorbar": {
             "outlinewidth": 0,
             "ticks": ""
            },
            "colorscale": [
             [
              0,
              "#0d0887"
             ],
             [
              0.1111111111111111,
              "#46039f"
             ],
             [
              0.2222222222222222,
              "#7201a8"
             ],
             [
              0.3333333333333333,
              "#9c179e"
             ],
             [
              0.4444444444444444,
              "#bd3786"
             ],
             [
              0.5555555555555556,
              "#d8576b"
             ],
             [
              0.6666666666666666,
              "#ed7953"
             ],
             [
              0.7777777777777778,
              "#fb9f3a"
             ],
             [
              0.8888888888888888,
              "#fdca26"
             ],
             [
              1,
              "#f0f921"
             ]
            ],
            "type": "histogram2dcontour"
           }
          ],
          "mesh3d": [
           {
            "colorbar": {
             "outlinewidth": 0,
             "ticks": ""
            },
            "type": "mesh3d"
           }
          ],
          "parcoords": [
           {
            "line": {
             "colorbar": {
              "outlinewidth": 0,
              "ticks": ""
             }
            },
            "type": "parcoords"
           }
          ],
          "pie": [
           {
            "automargin": true,
            "type": "pie"
           }
          ],
          "scatter": [
           {
            "marker": {
             "colorbar": {
              "outlinewidth": 0,
              "ticks": ""
             }
            },
            "type": "scatter"
           }
          ],
          "scatter3d": [
           {
            "line": {
             "colorbar": {
              "outlinewidth": 0,
              "ticks": ""
             }
            },
            "marker": {
             "colorbar": {
              "outlinewidth": 0,
              "ticks": ""
             }
            },
            "type": "scatter3d"
           }
          ],
          "scattercarpet": [
           {
            "marker": {
             "colorbar": {
              "outlinewidth": 0,
              "ticks": ""
             }
            },
            "type": "scattercarpet"
           }
          ],
          "scattergeo": [
           {
            "marker": {
             "colorbar": {
              "outlinewidth": 0,
              "ticks": ""
             }
            },
            "type": "scattergeo"
           }
          ],
          "scattergl": [
           {
            "marker": {
             "colorbar": {
              "outlinewidth": 0,
              "ticks": ""
             }
            },
            "type": "scattergl"
           }
          ],
          "scattermapbox": [
           {
            "marker": {
             "colorbar": {
              "outlinewidth": 0,
              "ticks": ""
             }
            },
            "type": "scattermapbox"
           }
          ],
          "scatterpolar": [
           {
            "marker": {
             "colorbar": {
              "outlinewidth": 0,
              "ticks": ""
             }
            },
            "type": "scatterpolar"
           }
          ],
          "scatterpolargl": [
           {
            "marker": {
             "colorbar": {
              "outlinewidth": 0,
              "ticks": ""
             }
            },
            "type": "scatterpolargl"
           }
          ],
          "scatterternary": [
           {
            "marker": {
             "colorbar": {
              "outlinewidth": 0,
              "ticks": ""
             }
            },
            "type": "scatterternary"
           }
          ],
          "surface": [
           {
            "colorbar": {
             "outlinewidth": 0,
             "ticks": ""
            },
            "colorscale": [
             [
              0,
              "#0d0887"
             ],
             [
              0.1111111111111111,
              "#46039f"
             ],
             [
              0.2222222222222222,
              "#7201a8"
             ],
             [
              0.3333333333333333,
              "#9c179e"
             ],
             [
              0.4444444444444444,
              "#bd3786"
             ],
             [
              0.5555555555555556,
              "#d8576b"
             ],
             [
              0.6666666666666666,
              "#ed7953"
             ],
             [
              0.7777777777777778,
              "#fb9f3a"
             ],
             [
              0.8888888888888888,
              "#fdca26"
             ],
             [
              1,
              "#f0f921"
             ]
            ],
            "type": "surface"
           }
          ],
          "table": [
           {
            "cells": {
             "fill": {
              "color": "#EBF0F8"
             },
             "line": {
              "color": "white"
             }
            },
            "header": {
             "fill": {
              "color": "#C8D4E3"
             },
             "line": {
              "color": "white"
             }
            },
            "type": "table"
           }
          ]
         },
         "layout": {
          "annotationdefaults": {
           "arrowcolor": "#2a3f5f",
           "arrowhead": 0,
           "arrowwidth": 1
          },
          "coloraxis": {
           "colorbar": {
            "outlinewidth": 0,
            "ticks": ""
           }
          },
          "colorscale": {
           "diverging": [
            [
             0,
             "#8e0152"
            ],
            [
             0.1,
             "#c51b7d"
            ],
            [
             0.2,
             "#de77ae"
            ],
            [
             0.3,
             "#f1b6da"
            ],
            [
             0.4,
             "#fde0ef"
            ],
            [
             0.5,
             "#f7f7f7"
            ],
            [
             0.6,
             "#e6f5d0"
            ],
            [
             0.7,
             "#b8e186"
            ],
            [
             0.8,
             "#7fbc41"
            ],
            [
             0.9,
             "#4d9221"
            ],
            [
             1,
             "#276419"
            ]
           ],
           "sequential": [
            [
             0,
             "#0d0887"
            ],
            [
             0.1111111111111111,
             "#46039f"
            ],
            [
             0.2222222222222222,
             "#7201a8"
            ],
            [
             0.3333333333333333,
             "#9c179e"
            ],
            [
             0.4444444444444444,
             "#bd3786"
            ],
            [
             0.5555555555555556,
             "#d8576b"
            ],
            [
             0.6666666666666666,
             "#ed7953"
            ],
            [
             0.7777777777777778,
             "#fb9f3a"
            ],
            [
             0.8888888888888888,
             "#fdca26"
            ],
            [
             1,
             "#f0f921"
            ]
           ],
           "sequentialminus": [
            [
             0,
             "#0d0887"
            ],
            [
             0.1111111111111111,
             "#46039f"
            ],
            [
             0.2222222222222222,
             "#7201a8"
            ],
            [
             0.3333333333333333,
             "#9c179e"
            ],
            [
             0.4444444444444444,
             "#bd3786"
            ],
            [
             0.5555555555555556,
             "#d8576b"
            ],
            [
             0.6666666666666666,
             "#ed7953"
            ],
            [
             0.7777777777777778,
             "#fb9f3a"
            ],
            [
             0.8888888888888888,
             "#fdca26"
            ],
            [
             1,
             "#f0f921"
            ]
           ]
          },
          "colorway": [
           "#636efa",
           "#EF553B",
           "#00cc96",
           "#ab63fa",
           "#FFA15A",
           "#19d3f3",
           "#FF6692",
           "#B6E880",
           "#FF97FF",
           "#FECB52"
          ],
          "font": {
           "color": "#2a3f5f"
          },
          "geo": {
           "bgcolor": "white",
           "lakecolor": "white",
           "landcolor": "#E5ECF6",
           "showlakes": true,
           "showland": true,
           "subunitcolor": "white"
          },
          "hoverlabel": {
           "align": "left"
          },
          "hovermode": "closest",
          "mapbox": {
           "style": "light"
          },
          "paper_bgcolor": "white",
          "plot_bgcolor": "#E5ECF6",
          "polar": {
           "angularaxis": {
            "gridcolor": "white",
            "linecolor": "white",
            "ticks": ""
           },
           "bgcolor": "#E5ECF6",
           "radialaxis": {
            "gridcolor": "white",
            "linecolor": "white",
            "ticks": ""
           }
          },
          "scene": {
           "xaxis": {
            "backgroundcolor": "#E5ECF6",
            "gridcolor": "white",
            "gridwidth": 2,
            "linecolor": "white",
            "showbackground": true,
            "ticks": "",
            "zerolinecolor": "white"
           },
           "yaxis": {
            "backgroundcolor": "#E5ECF6",
            "gridcolor": "white",
            "gridwidth": 2,
            "linecolor": "white",
            "showbackground": true,
            "ticks": "",
            "zerolinecolor": "white"
           },
           "zaxis": {
            "backgroundcolor": "#E5ECF6",
            "gridcolor": "white",
            "gridwidth": 2,
            "linecolor": "white",
            "showbackground": true,
            "ticks": "",
            "zerolinecolor": "white"
           }
          },
          "shapedefaults": {
           "line": {
            "color": "#2a3f5f"
           }
          },
          "ternary": {
           "aaxis": {
            "gridcolor": "white",
            "linecolor": "white",
            "ticks": ""
           },
           "baxis": {
            "gridcolor": "white",
            "linecolor": "white",
            "ticks": ""
           },
           "bgcolor": "#E5ECF6",
           "caxis": {
            "gridcolor": "white",
            "linecolor": "white",
            "ticks": ""
           }
          },
          "title": {
           "x": 0.05
          },
          "xaxis": {
           "automargin": true,
           "gridcolor": "white",
           "linecolor": "white",
           "ticks": "",
           "title": {
            "standoff": 15
           },
           "zerolinecolor": "white",
           "zerolinewidth": 2
          },
          "yaxis": {
           "automargin": true,
           "gridcolor": "white",
           "linecolor": "white",
           "ticks": "",
           "title": {
            "standoff": 15
           },
           "zerolinecolor": "white",
           "zerolinewidth": 2
          }
         }
        },
        "title": {
         "text": "Persebaran total penjualan berdasarkan wilayah"
        }
       }
      },
      "text/html": [
       "<div>\n",
       "        \n",
       "        \n",
       "            <div id=\"c54e2429-689c-47db-9fe6-e3e62c00f423\" class=\"plotly-graph-div\" style=\"height:525px; width:100%;\"></div>\n",
       "            <script type=\"text/javascript\">\n",
       "                require([\"plotly\"], function(Plotly) {\n",
       "                    window.PLOTLYENV=window.PLOTLYENV || {};\n",
       "                    \n",
       "                if (document.getElementById(\"c54e2429-689c-47db-9fe6-e3e62c00f423\")) {\n",
       "                    Plotly.newPlot(\n",
       "                        'c54e2429-689c-47db-9fe6-e3e62c00f423',\n",
       "                        [{\"autocolorscale\": false, \"colorbar\": {\"tickprefix\": \"$\", \"title\": {\"text\": \"Sales $\"}}, \"colorscale\": [[0.0, \"rgb(255,255,204)\"], [0.125, \"rgb(255,237,160)\"], [0.25, \"rgb(254,217,118)\"], [0.375, \"rgb(254,178,76)\"], [0.5, \"rgb(253,141,60)\"], [0.625, \"rgb(252,78,42)\"], [0.75, \"rgb(227,26,28)\"], [0.875, \"rgb(189,0,38)\"], [1.0, \"rgb(128,0,38)\"]], \"locations\": [\"AUS\", \"AUT\", \"BEL\", \"CAN\", \"DNK\", \"FIN\", \"FRA\", \"DEU\", \"IRL\", \"ITA\", \"JPN\", \"NOR\", \"PHL\", \"SGP\", \"ESP\", \"SWE\", \"CHE\", \"GBR\", \"USA\"], \"marker\": {\"line\": {\"color\": \"white\", \"width\": 0.5}}, \"reversescale\": false, \"text\": [\"Australia\", \"Austria\", \"Belgium\", \"Canada\", \"Denmark\", \"Finland\", \"France\", \"Germany\", \"Ireland\", \"Italy\", \"Japan\", \"Norway\", \"Philippines\", \"Singapore\", \"Spain\", \"Sweden\", \"Switzerland\", \"United Kingdom\", \"United States of America\"], \"type\": \"choropleth\", \"z\": [630623.1000000001, 202062.53, 108412.62, 224078.55999999994, 245637.15, 329581.9100000001, 1110916.5199999993, 220472.08999999994, 57756.43, 374674.30999999976, 188167.80999999997, 307463.7000000001, 94015.73, 288488.41000000003, 1215686.9200000009, 210014.21, 117713.55999999998, 478880.4600000001, 3627982.83]}],\n",
       "                        {\"geo\": {\"projection\": {\"type\": \"equirectangular\"}, \"showcoastlines\": true, \"showframe\": true}, \"template\": {\"data\": {\"bar\": [{\"error_x\": {\"color\": \"#2a3f5f\"}, \"error_y\": {\"color\": \"#2a3f5f\"}, \"marker\": {\"line\": {\"color\": \"#E5ECF6\", \"width\": 0.5}}, \"type\": \"bar\"}], \"barpolar\": [{\"marker\": {\"line\": {\"color\": \"#E5ECF6\", \"width\": 0.5}}, \"type\": \"barpolar\"}], \"carpet\": [{\"aaxis\": {\"endlinecolor\": \"#2a3f5f\", \"gridcolor\": \"white\", \"linecolor\": \"white\", \"minorgridcolor\": \"white\", \"startlinecolor\": \"#2a3f5f\"}, \"baxis\": {\"endlinecolor\": \"#2a3f5f\", \"gridcolor\": \"white\", \"linecolor\": \"white\", \"minorgridcolor\": \"white\", \"startlinecolor\": \"#2a3f5f\"}, \"type\": \"carpet\"}], \"choropleth\": [{\"colorbar\": {\"outlinewidth\": 0, \"ticks\": \"\"}, \"type\": \"choropleth\"}], \"contour\": [{\"colorbar\": {\"outlinewidth\": 0, \"ticks\": \"\"}, \"colorscale\": [[0.0, \"#0d0887\"], [0.1111111111111111, \"#46039f\"], [0.2222222222222222, \"#7201a8\"], [0.3333333333333333, \"#9c179e\"], [0.4444444444444444, \"#bd3786\"], [0.5555555555555556, \"#d8576b\"], [0.6666666666666666, \"#ed7953\"], [0.7777777777777778, \"#fb9f3a\"], [0.8888888888888888, \"#fdca26\"], [1.0, \"#f0f921\"]], \"type\": \"contour\"}], \"contourcarpet\": [{\"colorbar\": {\"outlinewidth\": 0, \"ticks\": \"\"}, \"type\": \"contourcarpet\"}], \"heatmap\": [{\"colorbar\": {\"outlinewidth\": 0, \"ticks\": \"\"}, \"colorscale\": [[0.0, \"#0d0887\"], [0.1111111111111111, \"#46039f\"], [0.2222222222222222, \"#7201a8\"], [0.3333333333333333, \"#9c179e\"], [0.4444444444444444, \"#bd3786\"], [0.5555555555555556, \"#d8576b\"], [0.6666666666666666, \"#ed7953\"], [0.7777777777777778, \"#fb9f3a\"], [0.8888888888888888, \"#fdca26\"], [1.0, \"#f0f921\"]], \"type\": \"heatmap\"}], \"heatmapgl\": [{\"colorbar\": {\"outlinewidth\": 0, \"ticks\": \"\"}, \"colorscale\": [[0.0, \"#0d0887\"], [0.1111111111111111, \"#46039f\"], [0.2222222222222222, \"#7201a8\"], [0.3333333333333333, \"#9c179e\"], [0.4444444444444444, \"#bd3786\"], [0.5555555555555556, \"#d8576b\"], [0.6666666666666666, \"#ed7953\"], [0.7777777777777778, \"#fb9f3a\"], [0.8888888888888888, \"#fdca26\"], [1.0, \"#f0f921\"]], \"type\": \"heatmapgl\"}], \"histogram\": [{\"marker\": {\"colorbar\": {\"outlinewidth\": 0, \"ticks\": \"\"}}, \"type\": \"histogram\"}], \"histogram2d\": [{\"colorbar\": {\"outlinewidth\": 0, \"ticks\": \"\"}, \"colorscale\": [[0.0, \"#0d0887\"], [0.1111111111111111, \"#46039f\"], [0.2222222222222222, \"#7201a8\"], [0.3333333333333333, \"#9c179e\"], [0.4444444444444444, \"#bd3786\"], [0.5555555555555556, \"#d8576b\"], [0.6666666666666666, \"#ed7953\"], [0.7777777777777778, \"#fb9f3a\"], [0.8888888888888888, \"#fdca26\"], [1.0, \"#f0f921\"]], \"type\": \"histogram2d\"}], \"histogram2dcontour\": [{\"colorbar\": {\"outlinewidth\": 0, \"ticks\": \"\"}, \"colorscale\": [[0.0, \"#0d0887\"], [0.1111111111111111, \"#46039f\"], [0.2222222222222222, \"#7201a8\"], [0.3333333333333333, \"#9c179e\"], [0.4444444444444444, \"#bd3786\"], [0.5555555555555556, \"#d8576b\"], [0.6666666666666666, \"#ed7953\"], [0.7777777777777778, \"#fb9f3a\"], [0.8888888888888888, \"#fdca26\"], [1.0, \"#f0f921\"]], \"type\": \"histogram2dcontour\"}], \"mesh3d\": [{\"colorbar\": {\"outlinewidth\": 0, \"ticks\": \"\"}, \"type\": \"mesh3d\"}], \"parcoords\": [{\"line\": {\"colorbar\": {\"outlinewidth\": 0, \"ticks\": \"\"}}, \"type\": \"parcoords\"}], \"pie\": [{\"automargin\": true, \"type\": \"pie\"}], \"scatter\": [{\"marker\": {\"colorbar\": {\"outlinewidth\": 0, \"ticks\": \"\"}}, \"type\": \"scatter\"}], \"scatter3d\": [{\"line\": {\"colorbar\": {\"outlinewidth\": 0, \"ticks\": \"\"}}, \"marker\": {\"colorbar\": {\"outlinewidth\": 0, \"ticks\": \"\"}}, \"type\": \"scatter3d\"}], \"scattercarpet\": [{\"marker\": {\"colorbar\": {\"outlinewidth\": 0, \"ticks\": \"\"}}, \"type\": \"scattercarpet\"}], \"scattergeo\": [{\"marker\": {\"colorbar\": {\"outlinewidth\": 0, \"ticks\": \"\"}}, \"type\": \"scattergeo\"}], \"scattergl\": [{\"marker\": {\"colorbar\": {\"outlinewidth\": 0, \"ticks\": \"\"}}, \"type\": \"scattergl\"}], \"scattermapbox\": [{\"marker\": {\"colorbar\": {\"outlinewidth\": 0, \"ticks\": \"\"}}, \"type\": \"scattermapbox\"}], \"scatterpolar\": [{\"marker\": {\"colorbar\": {\"outlinewidth\": 0, \"ticks\": \"\"}}, \"type\": \"scatterpolar\"}], \"scatterpolargl\": [{\"marker\": {\"colorbar\": {\"outlinewidth\": 0, \"ticks\": \"\"}}, \"type\": \"scatterpolargl\"}], \"scatterternary\": [{\"marker\": {\"colorbar\": {\"outlinewidth\": 0, \"ticks\": \"\"}}, \"type\": \"scatterternary\"}], \"surface\": [{\"colorbar\": {\"outlinewidth\": 0, \"ticks\": \"\"}, \"colorscale\": [[0.0, \"#0d0887\"], [0.1111111111111111, \"#46039f\"], [0.2222222222222222, \"#7201a8\"], [0.3333333333333333, \"#9c179e\"], [0.4444444444444444, \"#bd3786\"], [0.5555555555555556, \"#d8576b\"], [0.6666666666666666, \"#ed7953\"], [0.7777777777777778, \"#fb9f3a\"], [0.8888888888888888, \"#fdca26\"], [1.0, \"#f0f921\"]], \"type\": \"surface\"}], \"table\": [{\"cells\": {\"fill\": {\"color\": \"#EBF0F8\"}, \"line\": {\"color\": \"white\"}}, \"header\": {\"fill\": {\"color\": \"#C8D4E3\"}, \"line\": {\"color\": \"white\"}}, \"type\": \"table\"}]}, \"layout\": {\"annotationdefaults\": {\"arrowcolor\": \"#2a3f5f\", \"arrowhead\": 0, \"arrowwidth\": 1}, \"coloraxis\": {\"colorbar\": {\"outlinewidth\": 0, \"ticks\": \"\"}}, \"colorscale\": {\"diverging\": [[0, \"#8e0152\"], [0.1, \"#c51b7d\"], [0.2, \"#de77ae\"], [0.3, \"#f1b6da\"], [0.4, \"#fde0ef\"], [0.5, \"#f7f7f7\"], [0.6, \"#e6f5d0\"], [0.7, \"#b8e186\"], [0.8, \"#7fbc41\"], [0.9, \"#4d9221\"], [1, \"#276419\"]], \"sequential\": [[0.0, \"#0d0887\"], [0.1111111111111111, \"#46039f\"], [0.2222222222222222, \"#7201a8\"], [0.3333333333333333, \"#9c179e\"], [0.4444444444444444, \"#bd3786\"], [0.5555555555555556, \"#d8576b\"], [0.6666666666666666, \"#ed7953\"], [0.7777777777777778, \"#fb9f3a\"], [0.8888888888888888, \"#fdca26\"], [1.0, \"#f0f921\"]], \"sequentialminus\": [[0.0, \"#0d0887\"], [0.1111111111111111, \"#46039f\"], [0.2222222222222222, \"#7201a8\"], [0.3333333333333333, \"#9c179e\"], [0.4444444444444444, \"#bd3786\"], [0.5555555555555556, \"#d8576b\"], [0.6666666666666666, \"#ed7953\"], [0.7777777777777778, \"#fb9f3a\"], [0.8888888888888888, \"#fdca26\"], [1.0, \"#f0f921\"]]}, \"colorway\": [\"#636efa\", \"#EF553B\", \"#00cc96\", \"#ab63fa\", \"#FFA15A\", \"#19d3f3\", \"#FF6692\", \"#B6E880\", \"#FF97FF\", \"#FECB52\"], \"font\": {\"color\": \"#2a3f5f\"}, \"geo\": {\"bgcolor\": \"white\", \"lakecolor\": \"white\", \"landcolor\": \"#E5ECF6\", \"showlakes\": true, \"showland\": true, \"subunitcolor\": \"white\"}, \"hoverlabel\": {\"align\": \"left\"}, \"hovermode\": \"closest\", \"mapbox\": {\"style\": \"light\"}, \"paper_bgcolor\": \"white\", \"plot_bgcolor\": \"#E5ECF6\", \"polar\": {\"angularaxis\": {\"gridcolor\": \"white\", \"linecolor\": \"white\", \"ticks\": \"\"}, \"bgcolor\": \"#E5ECF6\", \"radialaxis\": {\"gridcolor\": \"white\", \"linecolor\": \"white\", \"ticks\": \"\"}}, \"scene\": {\"xaxis\": {\"backgroundcolor\": \"#E5ECF6\", \"gridcolor\": \"white\", \"gridwidth\": 2, \"linecolor\": \"white\", \"showbackground\": true, \"ticks\": \"\", \"zerolinecolor\": \"white\"}, \"yaxis\": {\"backgroundcolor\": \"#E5ECF6\", \"gridcolor\": \"white\", \"gridwidth\": 2, \"linecolor\": \"white\", \"showbackground\": true, \"ticks\": \"\", \"zerolinecolor\": \"white\"}, \"zaxis\": {\"backgroundcolor\": \"#E5ECF6\", \"gridcolor\": \"white\", \"gridwidth\": 2, \"linecolor\": \"white\", \"showbackground\": true, \"ticks\": \"\", \"zerolinecolor\": \"white\"}}, \"shapedefaults\": {\"line\": {\"color\": \"#2a3f5f\"}}, \"ternary\": {\"aaxis\": {\"gridcolor\": \"white\", \"linecolor\": \"white\", \"ticks\": \"\"}, \"baxis\": {\"gridcolor\": \"white\", \"linecolor\": \"white\", \"ticks\": \"\"}, \"bgcolor\": \"#E5ECF6\", \"caxis\": {\"gridcolor\": \"white\", \"linecolor\": \"white\", \"ticks\": \"\"}}, \"title\": {\"x\": 0.05}, \"xaxis\": {\"automargin\": true, \"gridcolor\": \"white\", \"linecolor\": \"white\", \"ticks\": \"\", \"title\": {\"standoff\": 15}, \"zerolinecolor\": \"white\", \"zerolinewidth\": 2}, \"yaxis\": {\"automargin\": true, \"gridcolor\": \"white\", \"linecolor\": \"white\", \"ticks\": \"\", \"title\": {\"standoff\": 15}, \"zerolinecolor\": \"white\", \"zerolinewidth\": 2}}}, \"title\": {\"text\": \"Persebaran total penjualan berdasarkan wilayah\"}},\n",
       "                        {\"responsive\": true}\n",
       "                    ).then(function(){\n",
       "                            \n",
       "var gd = document.getElementById('c54e2429-689c-47db-9fe6-e3e62c00f423');\n",
       "var x = new MutationObserver(function (mutations, observer) {{\n",
       "        var display = window.getComputedStyle(gd).display;\n",
       "        if (!display || display === 'none') {{\n",
       "            console.log([gd, 'removed!']);\n",
       "            Plotly.purge(gd);\n",
       "            observer.disconnect();\n",
       "        }}\n",
       "}});\n",
       "\n",
       "// Listen for the removal of the full notebook cells\n",
       "var notebookContainer = gd.closest('#notebook-container');\n",
       "if (notebookContainer) {{\n",
       "    x.observe(notebookContainer, {childList: true});\n",
       "}}\n",
       "\n",
       "// Listen for the clearing of the current output cell\n",
       "var outputEl = gd.closest('.output');\n",
       "if (outputEl) {{\n",
       "    x.observe(outputEl, {childList: true});\n",
       "}}\n",
       "\n",
       "                        })\n",
       "                };\n",
       "                });\n",
       "            </script>\n",
       "        </div>"
      ]
     },
     "metadata": {},
     "output_type": "display_data"
    }
   ],
   "source": [
    "import plotly.graph_objects as go\n",
    "fig = go.Figure(data=go.Choropleth(\n",
    "    locations = df4['Code'],\n",
    "    z = df4['SALES'],\n",
    "    text = df4['COUNTRY'],\n",
    "    colorscale = 'YlOrRd',\n",
    "    autocolorscale=False,\n",
    "    reversescale=False,\n",
    "    marker_line_color='white',\n",
    "    marker_line_width=0.5,\n",
    "    colorbar_tickprefix = '$',\n",
    "    colorbar_title = 'Sales $',\n",
    "))\n",
    "\n",
    "fig.update_layout(\n",
    "    title_text='Persebaran total penjualan berdasarkan wilayah',\n",
    "    geo=dict(\n",
    "        showframe=True,\n",
    "        showcoastlines=True,\n",
    "        projection_type='equirectangular'\n",
    "    )\n",
    ")\n",
    "\n",
    "fig.show()"
   ]
  },
  {
   "cell_type": "markdown",
   "metadata": {},
   "source": [
    "## 5.\tJumlah produk yang terjual berdasarkan wilayah"
   ]
  },
  {
   "cell_type": "code",
   "execution_count": 32,
   "metadata": {},
   "outputs": [
    {
     "data": {
      "text/html": [
       "<div>\n",
       "<style scoped>\n",
       "    .dataframe tbody tr th:only-of-type {\n",
       "        vertical-align: middle;\n",
       "    }\n",
       "\n",
       "    .dataframe tbody tr th {\n",
       "        vertical-align: top;\n",
       "    }\n",
       "\n",
       "    .dataframe thead th {\n",
       "        text-align: right;\n",
       "    }\n",
       "</style>\n",
       "<table border=\"1\" class=\"dataframe\">\n",
       "  <thead>\n",
       "    <tr style=\"text-align: right;\">\n",
       "      <th></th>\n",
       "      <th>COUNTRY</th>\n",
       "      <th>KATEGORI PRODUK</th>\n",
       "      <th>QUANTITYORDERED</th>\n",
       "    </tr>\n",
       "  </thead>\n",
       "  <tbody>\n",
       "    <tr>\n",
       "      <th>0</th>\n",
       "      <td>Australia</td>\n",
       "      <td>Classic Cars</td>\n",
       "      <td>1818</td>\n",
       "    </tr>\n",
       "    <tr>\n",
       "      <th>1</th>\n",
       "      <td>Australia</td>\n",
       "      <td>Motorcycles</td>\n",
       "      <td>876</td>\n",
       "    </tr>\n",
       "    <tr>\n",
       "      <th>2</th>\n",
       "      <td>Australia</td>\n",
       "      <td>Planes</td>\n",
       "      <td>813</td>\n",
       "    </tr>\n",
       "    <tr>\n",
       "      <th>3</th>\n",
       "      <td>Australia</td>\n",
       "      <td>Ships</td>\n",
       "      <td>56</td>\n",
       "    </tr>\n",
       "    <tr>\n",
       "      <th>4</th>\n",
       "      <td>Australia</td>\n",
       "      <td>Trains</td>\n",
       "      <td>33</td>\n",
       "    </tr>\n",
       "    <tr>\n",
       "      <th>5</th>\n",
       "      <td>Australia</td>\n",
       "      <td>Trucks and Buses</td>\n",
       "      <td>705</td>\n",
       "    </tr>\n",
       "    <tr>\n",
       "      <th>6</th>\n",
       "      <td>Australia</td>\n",
       "      <td>Vintage Cars</td>\n",
       "      <td>1945</td>\n",
       "    </tr>\n",
       "    <tr>\n",
       "      <th>7</th>\n",
       "      <td>Austria</td>\n",
       "      <td>Classic Cars</td>\n",
       "      <td>937</td>\n",
       "    </tr>\n",
       "    <tr>\n",
       "      <th>8</th>\n",
       "      <td>Austria</td>\n",
       "      <td>Motorcycles</td>\n",
       "      <td>197</td>\n",
       "    </tr>\n",
       "    <tr>\n",
       "      <th>9</th>\n",
       "      <td>Austria</td>\n",
       "      <td>Planes</td>\n",
       "      <td>200</td>\n",
       "    </tr>\n",
       "    <tr>\n",
       "      <th>10</th>\n",
       "      <td>Austria</td>\n",
       "      <td>Ships</td>\n",
       "      <td>113</td>\n",
       "    </tr>\n",
       "    <tr>\n",
       "      <th>11</th>\n",
       "      <td>Austria</td>\n",
       "      <td>Trucks and Buses</td>\n",
       "      <td>203</td>\n",
       "    </tr>\n",
       "    <tr>\n",
       "      <th>12</th>\n",
       "      <td>Austria</td>\n",
       "      <td>Vintage Cars</td>\n",
       "      <td>324</td>\n",
       "    </tr>\n",
       "    <tr>\n",
       "      <th>13</th>\n",
       "      <td>Belgium</td>\n",
       "      <td>Classic Cars</td>\n",
       "      <td>147</td>\n",
       "    </tr>\n",
       "    <tr>\n",
       "      <th>14</th>\n",
       "      <td>Belgium</td>\n",
       "      <td>Planes</td>\n",
       "      <td>41</td>\n",
       "    </tr>\n",
       "    <tr>\n",
       "      <th>15</th>\n",
       "      <td>Belgium</td>\n",
       "      <td>Ships</td>\n",
       "      <td>343</td>\n",
       "    </tr>\n",
       "    <tr>\n",
       "      <th>16</th>\n",
       "      <td>Belgium</td>\n",
       "      <td>Trains</td>\n",
       "      <td>97</td>\n",
       "    </tr>\n",
       "    <tr>\n",
       "      <th>17</th>\n",
       "      <td>Belgium</td>\n",
       "      <td>Vintage Cars</td>\n",
       "      <td>446</td>\n",
       "    </tr>\n",
       "    <tr>\n",
       "      <th>18</th>\n",
       "      <td>Canada</td>\n",
       "      <td>Classic Cars</td>\n",
       "      <td>456</td>\n",
       "    </tr>\n",
       "    <tr>\n",
       "      <th>19</th>\n",
       "      <td>Canada</td>\n",
       "      <td>Motorcycles</td>\n",
       "      <td>41</td>\n",
       "    </tr>\n",
       "    <tr>\n",
       "      <th>20</th>\n",
       "      <td>Canada</td>\n",
       "      <td>Planes</td>\n",
       "      <td>317</td>\n",
       "    </tr>\n",
       "    <tr>\n",
       "      <th>21</th>\n",
       "      <td>Canada</td>\n",
       "      <td>Ships</td>\n",
       "      <td>486</td>\n",
       "    </tr>\n",
       "    <tr>\n",
       "      <th>22</th>\n",
       "      <td>Canada</td>\n",
       "      <td>Trucks and Buses</td>\n",
       "      <td>517</td>\n",
       "    </tr>\n",
       "    <tr>\n",
       "      <th>23</th>\n",
       "      <td>Canada</td>\n",
       "      <td>Vintage Cars</td>\n",
       "      <td>476</td>\n",
       "    </tr>\n",
       "    <tr>\n",
       "      <th>24</th>\n",
       "      <td>Denmark</td>\n",
       "      <td>Classic Cars</td>\n",
       "      <td>1244</td>\n",
       "    </tr>\n",
       "    <tr>\n",
       "      <th>25</th>\n",
       "      <td>Denmark</td>\n",
       "      <td>Planes</td>\n",
       "      <td>70</td>\n",
       "    </tr>\n",
       "    <tr>\n",
       "      <th>26</th>\n",
       "      <td>Denmark</td>\n",
       "      <td>Ships</td>\n",
       "      <td>436</td>\n",
       "    </tr>\n",
       "    <tr>\n",
       "      <th>27</th>\n",
       "      <td>Denmark</td>\n",
       "      <td>Trains</td>\n",
       "      <td>134</td>\n",
       "    </tr>\n",
       "    <tr>\n",
       "      <th>28</th>\n",
       "      <td>Denmark</td>\n",
       "      <td>Trucks and Buses</td>\n",
       "      <td>73</td>\n",
       "    </tr>\n",
       "    <tr>\n",
       "      <th>29</th>\n",
       "      <td>Denmark</td>\n",
       "      <td>Vintage Cars</td>\n",
       "      <td>240</td>\n",
       "    </tr>\n",
       "    <tr>\n",
       "      <th>...</th>\n",
       "      <td>...</td>\n",
       "      <td>...</td>\n",
       "      <td>...</td>\n",
       "    </tr>\n",
       "    <tr>\n",
       "      <th>86</th>\n",
       "      <td>Singapore</td>\n",
       "      <td>Vintage Cars</td>\n",
       "      <td>437</td>\n",
       "    </tr>\n",
       "    <tr>\n",
       "      <th>87</th>\n",
       "      <td>Spain</td>\n",
       "      <td>Classic Cars</td>\n",
       "      <td>4380</td>\n",
       "    </tr>\n",
       "    <tr>\n",
       "      <th>88</th>\n",
       "      <td>Spain</td>\n",
       "      <td>Motorcycles</td>\n",
       "      <td>780</td>\n",
       "    </tr>\n",
       "    <tr>\n",
       "      <th>89</th>\n",
       "      <td>Spain</td>\n",
       "      <td>Planes</td>\n",
       "      <td>1101</td>\n",
       "    </tr>\n",
       "    <tr>\n",
       "      <th>90</th>\n",
       "      <td>Spain</td>\n",
       "      <td>Ships</td>\n",
       "      <td>1388</td>\n",
       "    </tr>\n",
       "    <tr>\n",
       "      <th>91</th>\n",
       "      <td>Spain</td>\n",
       "      <td>Trains</td>\n",
       "      <td>509</td>\n",
       "    </tr>\n",
       "    <tr>\n",
       "      <th>92</th>\n",
       "      <td>Spain</td>\n",
       "      <td>Trucks and Buses</td>\n",
       "      <td>1709</td>\n",
       "    </tr>\n",
       "    <tr>\n",
       "      <th>93</th>\n",
       "      <td>Spain</td>\n",
       "      <td>Vintage Cars</td>\n",
       "      <td>2562</td>\n",
       "    </tr>\n",
       "    <tr>\n",
       "      <th>94</th>\n",
       "      <td>Sweden</td>\n",
       "      <td>Classic Cars</td>\n",
       "      <td>552</td>\n",
       "    </tr>\n",
       "    <tr>\n",
       "      <th>95</th>\n",
       "      <td>Sweden</td>\n",
       "      <td>Motorcycles</td>\n",
       "      <td>133</td>\n",
       "    </tr>\n",
       "    <tr>\n",
       "      <th>96</th>\n",
       "      <td>Sweden</td>\n",
       "      <td>Planes</td>\n",
       "      <td>104</td>\n",
       "    </tr>\n",
       "    <tr>\n",
       "      <th>97</th>\n",
       "      <td>Sweden</td>\n",
       "      <td>Ships</td>\n",
       "      <td>367</td>\n",
       "    </tr>\n",
       "    <tr>\n",
       "      <th>98</th>\n",
       "      <td>Sweden</td>\n",
       "      <td>Trains</td>\n",
       "      <td>32</td>\n",
       "    </tr>\n",
       "    <tr>\n",
       "      <th>99</th>\n",
       "      <td>Sweden</td>\n",
       "      <td>Trucks and Buses</td>\n",
       "      <td>433</td>\n",
       "    </tr>\n",
       "    <tr>\n",
       "      <th>100</th>\n",
       "      <td>Sweden</td>\n",
       "      <td>Vintage Cars</td>\n",
       "      <td>385</td>\n",
       "    </tr>\n",
       "    <tr>\n",
       "      <th>101</th>\n",
       "      <td>Switzerland</td>\n",
       "      <td>Classic Cars</td>\n",
       "      <td>1078</td>\n",
       "    </tr>\n",
       "    <tr>\n",
       "      <th>102</th>\n",
       "      <td>United Kingdom</td>\n",
       "      <td>Classic Cars</td>\n",
       "      <td>1507</td>\n",
       "    </tr>\n",
       "    <tr>\n",
       "      <th>103</th>\n",
       "      <td>United Kingdom</td>\n",
       "      <td>Motorcycles</td>\n",
       "      <td>371</td>\n",
       "    </tr>\n",
       "    <tr>\n",
       "      <th>104</th>\n",
       "      <td>United Kingdom</td>\n",
       "      <td>Planes</td>\n",
       "      <td>479</td>\n",
       "    </tr>\n",
       "    <tr>\n",
       "      <th>105</th>\n",
       "      <td>United Kingdom</td>\n",
       "      <td>Ships</td>\n",
       "      <td>831</td>\n",
       "    </tr>\n",
       "    <tr>\n",
       "      <th>106</th>\n",
       "      <td>United Kingdom</td>\n",
       "      <td>Trains</td>\n",
       "      <td>168</td>\n",
       "    </tr>\n",
       "    <tr>\n",
       "      <th>107</th>\n",
       "      <td>United Kingdom</td>\n",
       "      <td>Trucks and Buses</td>\n",
       "      <td>291</td>\n",
       "    </tr>\n",
       "    <tr>\n",
       "      <th>108</th>\n",
       "      <td>United Kingdom</td>\n",
       "      <td>Vintage Cars</td>\n",
       "      <td>1366</td>\n",
       "    </tr>\n",
       "    <tr>\n",
       "      <th>109</th>\n",
       "      <td>United States of America</td>\n",
       "      <td>Classic Cars</td>\n",
       "      <td>11625</td>\n",
       "    </tr>\n",
       "    <tr>\n",
       "      <th>110</th>\n",
       "      <td>United States of America</td>\n",
       "      <td>Motorcycles</td>\n",
       "      <td>5080</td>\n",
       "    </tr>\n",
       "    <tr>\n",
       "      <th>111</th>\n",
       "      <td>United States of America</td>\n",
       "      <td>Planes</td>\n",
       "      <td>3476</td>\n",
       "    </tr>\n",
       "    <tr>\n",
       "      <th>112</th>\n",
       "      <td>United States of America</td>\n",
       "      <td>Ships</td>\n",
       "      <td>2395</td>\n",
       "    </tr>\n",
       "    <tr>\n",
       "      <th>113</th>\n",
       "      <td>United States of America</td>\n",
       "      <td>Trains</td>\n",
       "      <td>912</td>\n",
       "    </tr>\n",
       "    <tr>\n",
       "      <th>114</th>\n",
       "      <td>United States of America</td>\n",
       "      <td>Trucks and Buses</td>\n",
       "      <td>3932</td>\n",
       "    </tr>\n",
       "    <tr>\n",
       "      <th>115</th>\n",
       "      <td>United States of America</td>\n",
       "      <td>Vintage Cars</td>\n",
       "      <td>8239</td>\n",
       "    </tr>\n",
       "  </tbody>\n",
       "</table>\n",
       "<p>116 rows × 3 columns</p>\n",
       "</div>"
      ],
      "text/plain": [
       "                      COUNTRY   KATEGORI PRODUK  QUANTITYORDERED\n",
       "0                   Australia      Classic Cars             1818\n",
       "1                   Australia       Motorcycles              876\n",
       "2                   Australia            Planes              813\n",
       "3                   Australia             Ships               56\n",
       "4                   Australia            Trains               33\n",
       "5                   Australia  Trucks and Buses              705\n",
       "6                   Australia      Vintage Cars             1945\n",
       "7                     Austria      Classic Cars              937\n",
       "8                     Austria       Motorcycles              197\n",
       "9                     Austria            Planes              200\n",
       "10                    Austria             Ships              113\n",
       "11                    Austria  Trucks and Buses              203\n",
       "12                    Austria      Vintage Cars              324\n",
       "13                    Belgium      Classic Cars              147\n",
       "14                    Belgium            Planes               41\n",
       "15                    Belgium             Ships              343\n",
       "16                    Belgium            Trains               97\n",
       "17                    Belgium      Vintage Cars              446\n",
       "18                     Canada      Classic Cars              456\n",
       "19                     Canada       Motorcycles               41\n",
       "20                     Canada            Planes              317\n",
       "21                     Canada             Ships              486\n",
       "22                     Canada  Trucks and Buses              517\n",
       "23                     Canada      Vintage Cars              476\n",
       "24                    Denmark      Classic Cars             1244\n",
       "25                    Denmark            Planes               70\n",
       "26                    Denmark             Ships              436\n",
       "27                    Denmark            Trains              134\n",
       "28                    Denmark  Trucks and Buses               73\n",
       "29                    Denmark      Vintage Cars              240\n",
       "..                        ...               ...              ...\n",
       "86                  Singapore      Vintage Cars              437\n",
       "87                      Spain      Classic Cars             4380\n",
       "88                      Spain       Motorcycles              780\n",
       "89                      Spain            Planes             1101\n",
       "90                      Spain             Ships             1388\n",
       "91                      Spain            Trains              509\n",
       "92                      Spain  Trucks and Buses             1709\n",
       "93                      Spain      Vintage Cars             2562\n",
       "94                     Sweden      Classic Cars              552\n",
       "95                     Sweden       Motorcycles              133\n",
       "96                     Sweden            Planes              104\n",
       "97                     Sweden             Ships              367\n",
       "98                     Sweden            Trains               32\n",
       "99                     Sweden  Trucks and Buses              433\n",
       "100                    Sweden      Vintage Cars              385\n",
       "101               Switzerland      Classic Cars             1078\n",
       "102            United Kingdom      Classic Cars             1507\n",
       "103            United Kingdom       Motorcycles              371\n",
       "104            United Kingdom            Planes              479\n",
       "105            United Kingdom             Ships              831\n",
       "106            United Kingdom            Trains              168\n",
       "107            United Kingdom  Trucks and Buses              291\n",
       "108            United Kingdom      Vintage Cars             1366\n",
       "109  United States of America      Classic Cars            11625\n",
       "110  United States of America       Motorcycles             5080\n",
       "111  United States of America            Planes             3476\n",
       "112  United States of America             Ships             2395\n",
       "113  United States of America            Trains              912\n",
       "114  United States of America  Trucks and Buses             3932\n",
       "115  United States of America      Vintage Cars             8239\n",
       "\n",
       "[116 rows x 3 columns]"
      ]
     },
     "execution_count": 32,
     "metadata": {},
     "output_type": "execute_result"
    }
   ],
   "source": [
    "dfclone2=df\n",
    "dfclone2=dfclone2.rename(columns={\"PRODUCTLINE\": \"KATEGORI PRODUK\"})\n",
    "ctry=dfclone2.groupby(['COUNTRY','KATEGORI PRODUK']).agg({'QUANTITYORDERED': lambda x: x.sum() })\n",
    "df5=pd.DataFrame(data = ctry)\n",
    "df5=df5.reset_index()\n",
    "df5"
   ]
  },
  {
   "cell_type": "code",
   "execution_count": 33,
   "metadata": {},
   "outputs": [
    {
     "data": {
      "text/html": [
       "<div>\n",
       "<style scoped>\n",
       "    .dataframe tbody tr th:only-of-type {\n",
       "        vertical-align: middle;\n",
       "    }\n",
       "\n",
       "    .dataframe tbody tr th {\n",
       "        vertical-align: top;\n",
       "    }\n",
       "\n",
       "    .dataframe thead th {\n",
       "        text-align: right;\n",
       "    }\n",
       "</style>\n",
       "<table border=\"1\" class=\"dataframe\">\n",
       "  <thead>\n",
       "    <tr style=\"text-align: right;\">\n",
       "      <th>KATEGORI PRODUK</th>\n",
       "      <th>Classic Cars</th>\n",
       "      <th>Motorcycles</th>\n",
       "      <th>Planes</th>\n",
       "      <th>Ships</th>\n",
       "      <th>Trains</th>\n",
       "      <th>Trucks and Buses</th>\n",
       "      <th>Vintage Cars</th>\n",
       "    </tr>\n",
       "    <tr>\n",
       "      <th>COUNTRY</th>\n",
       "      <th></th>\n",
       "      <th></th>\n",
       "      <th></th>\n",
       "      <th></th>\n",
       "      <th></th>\n",
       "      <th></th>\n",
       "      <th></th>\n",
       "    </tr>\n",
       "  </thead>\n",
       "  <tbody>\n",
       "    <tr>\n",
       "      <th>Australia</th>\n",
       "      <td>1818.0</td>\n",
       "      <td>876.0</td>\n",
       "      <td>813.0</td>\n",
       "      <td>56.0</td>\n",
       "      <td>33.0</td>\n",
       "      <td>705.0</td>\n",
       "      <td>1945.0</td>\n",
       "    </tr>\n",
       "    <tr>\n",
       "      <th>Austria</th>\n",
       "      <td>937.0</td>\n",
       "      <td>197.0</td>\n",
       "      <td>200.0</td>\n",
       "      <td>113.0</td>\n",
       "      <td>NaN</td>\n",
       "      <td>203.0</td>\n",
       "      <td>324.0</td>\n",
       "    </tr>\n",
       "    <tr>\n",
       "      <th>Belgium</th>\n",
       "      <td>147.0</td>\n",
       "      <td>NaN</td>\n",
       "      <td>41.0</td>\n",
       "      <td>343.0</td>\n",
       "      <td>97.0</td>\n",
       "      <td>NaN</td>\n",
       "      <td>446.0</td>\n",
       "    </tr>\n",
       "    <tr>\n",
       "      <th>Canada</th>\n",
       "      <td>456.0</td>\n",
       "      <td>41.0</td>\n",
       "      <td>317.0</td>\n",
       "      <td>486.0</td>\n",
       "      <td>NaN</td>\n",
       "      <td>517.0</td>\n",
       "      <td>476.0</td>\n",
       "    </tr>\n",
       "    <tr>\n",
       "      <th>Denmark</th>\n",
       "      <td>1244.0</td>\n",
       "      <td>NaN</td>\n",
       "      <td>70.0</td>\n",
       "      <td>436.0</td>\n",
       "      <td>134.0</td>\n",
       "      <td>73.0</td>\n",
       "      <td>240.0</td>\n",
       "    </tr>\n",
       "    <tr>\n",
       "      <th>Finland</th>\n",
       "      <td>1284.0</td>\n",
       "      <td>447.0</td>\n",
       "      <td>421.0</td>\n",
       "      <td>315.0</td>\n",
       "      <td>89.0</td>\n",
       "      <td>384.0</td>\n",
       "      <td>252.0</td>\n",
       "    </tr>\n",
       "    <tr>\n",
       "      <th>France</th>\n",
       "      <td>3540.0</td>\n",
       "      <td>2404.0</td>\n",
       "      <td>1136.0</td>\n",
       "      <td>766.0</td>\n",
       "      <td>222.0</td>\n",
       "      <td>1067.0</td>\n",
       "      <td>1955.0</td>\n",
       "    </tr>\n",
       "    <tr>\n",
       "      <th>Germany</th>\n",
       "      <td>1281.0</td>\n",
       "      <td>121.0</td>\n",
       "      <td>245.0</td>\n",
       "      <td>55.0</td>\n",
       "      <td>89.0</td>\n",
       "      <td>81.0</td>\n",
       "      <td>276.0</td>\n",
       "    </tr>\n",
       "    <tr>\n",
       "      <th>Ireland</th>\n",
       "      <td>202.0</td>\n",
       "      <td>58.0</td>\n",
       "      <td>115.0</td>\n",
       "      <td>NaN</td>\n",
       "      <td>50.0</td>\n",
       "      <td>37.0</td>\n",
       "      <td>28.0</td>\n",
       "    </tr>\n",
       "    <tr>\n",
       "      <th>Italy</th>\n",
       "      <td>948.0</td>\n",
       "      <td>77.0</td>\n",
       "      <td>1122.0</td>\n",
       "      <td>194.0</td>\n",
       "      <td>82.0</td>\n",
       "      <td>47.0</td>\n",
       "      <td>1303.0</td>\n",
       "    </tr>\n",
       "    <tr>\n",
       "      <th>Japan</th>\n",
       "      <td>314.0</td>\n",
       "      <td>309.0</td>\n",
       "      <td>547.0</td>\n",
       "      <td>208.0</td>\n",
       "      <td>49.0</td>\n",
       "      <td>102.0</td>\n",
       "      <td>313.0</td>\n",
       "    </tr>\n",
       "    <tr>\n",
       "      <th>Norway</th>\n",
       "      <td>1158.0</td>\n",
       "      <td>484.0</td>\n",
       "      <td>325.0</td>\n",
       "      <td>NaN</td>\n",
       "      <td>72.0</td>\n",
       "      <td>308.0</td>\n",
       "      <td>495.0</td>\n",
       "    </tr>\n",
       "    <tr>\n",
       "      <th>Philippines</th>\n",
       "      <td>478.0</td>\n",
       "      <td>241.0</td>\n",
       "      <td>215.0</td>\n",
       "      <td>NaN</td>\n",
       "      <td>NaN</td>\n",
       "      <td>NaN</td>\n",
       "      <td>27.0</td>\n",
       "    </tr>\n",
       "    <tr>\n",
       "      <th>Singapore</th>\n",
       "      <td>1043.0</td>\n",
       "      <td>44.0</td>\n",
       "      <td>NaN</td>\n",
       "      <td>174.0</td>\n",
       "      <td>174.0</td>\n",
       "      <td>888.0</td>\n",
       "      <td>437.0</td>\n",
       "    </tr>\n",
       "    <tr>\n",
       "      <th>Spain</th>\n",
       "      <td>4380.0</td>\n",
       "      <td>780.0</td>\n",
       "      <td>1101.0</td>\n",
       "      <td>1388.0</td>\n",
       "      <td>509.0</td>\n",
       "      <td>1709.0</td>\n",
       "      <td>2562.0</td>\n",
       "    </tr>\n",
       "    <tr>\n",
       "      <th>Sweden</th>\n",
       "      <td>552.0</td>\n",
       "      <td>133.0</td>\n",
       "      <td>104.0</td>\n",
       "      <td>367.0</td>\n",
       "      <td>32.0</td>\n",
       "      <td>433.0</td>\n",
       "      <td>385.0</td>\n",
       "    </tr>\n",
       "    <tr>\n",
       "      <th>Switzerland</th>\n",
       "      <td>1078.0</td>\n",
       "      <td>NaN</td>\n",
       "      <td>NaN</td>\n",
       "      <td>NaN</td>\n",
       "      <td>NaN</td>\n",
       "      <td>NaN</td>\n",
       "      <td>NaN</td>\n",
       "    </tr>\n",
       "    <tr>\n",
       "      <th>United Kingdom</th>\n",
       "      <td>1507.0</td>\n",
       "      <td>371.0</td>\n",
       "      <td>479.0</td>\n",
       "      <td>831.0</td>\n",
       "      <td>168.0</td>\n",
       "      <td>291.0</td>\n",
       "      <td>1366.0</td>\n",
       "    </tr>\n",
       "    <tr>\n",
       "      <th>United States of America</th>\n",
       "      <td>11625.0</td>\n",
       "      <td>5080.0</td>\n",
       "      <td>3476.0</td>\n",
       "      <td>2395.0</td>\n",
       "      <td>912.0</td>\n",
       "      <td>3932.0</td>\n",
       "      <td>8239.0</td>\n",
       "    </tr>\n",
       "  </tbody>\n",
       "</table>\n",
       "</div>"
      ],
      "text/plain": [
       "KATEGORI PRODUK           Classic Cars  Motorcycles  Planes   Ships  Trains  \\\n",
       "COUNTRY                                                                       \n",
       "Australia                       1818.0        876.0   813.0    56.0    33.0   \n",
       "Austria                          937.0        197.0   200.0   113.0     NaN   \n",
       "Belgium                          147.0          NaN    41.0   343.0    97.0   \n",
       "Canada                           456.0         41.0   317.0   486.0     NaN   \n",
       "Denmark                         1244.0          NaN    70.0   436.0   134.0   \n",
       "Finland                         1284.0        447.0   421.0   315.0    89.0   \n",
       "France                          3540.0       2404.0  1136.0   766.0   222.0   \n",
       "Germany                         1281.0        121.0   245.0    55.0    89.0   \n",
       "Ireland                          202.0         58.0   115.0     NaN    50.0   \n",
       "Italy                            948.0         77.0  1122.0   194.0    82.0   \n",
       "Japan                            314.0        309.0   547.0   208.0    49.0   \n",
       "Norway                          1158.0        484.0   325.0     NaN    72.0   \n",
       "Philippines                      478.0        241.0   215.0     NaN     NaN   \n",
       "Singapore                       1043.0         44.0     NaN   174.0   174.0   \n",
       "Spain                           4380.0        780.0  1101.0  1388.0   509.0   \n",
       "Sweden                           552.0        133.0   104.0   367.0    32.0   \n",
       "Switzerland                     1078.0          NaN     NaN     NaN     NaN   \n",
       "United Kingdom                  1507.0        371.0   479.0   831.0   168.0   \n",
       "United States of America       11625.0       5080.0  3476.0  2395.0   912.0   \n",
       "\n",
       "KATEGORI PRODUK           Trucks and Buses  Vintage Cars  \n",
       "COUNTRY                                                   \n",
       "Australia                            705.0        1945.0  \n",
       "Austria                              203.0         324.0  \n",
       "Belgium                                NaN         446.0  \n",
       "Canada                               517.0         476.0  \n",
       "Denmark                               73.0         240.0  \n",
       "Finland                              384.0         252.0  \n",
       "France                              1067.0        1955.0  \n",
       "Germany                               81.0         276.0  \n",
       "Ireland                               37.0          28.0  \n",
       "Italy                                 47.0        1303.0  \n",
       "Japan                                102.0         313.0  \n",
       "Norway                               308.0         495.0  \n",
       "Philippines                            NaN          27.0  \n",
       "Singapore                            888.0         437.0  \n",
       "Spain                               1709.0        2562.0  \n",
       "Sweden                               433.0         385.0  \n",
       "Switzerland                            NaN           NaN  \n",
       "United Kingdom                       291.0        1366.0  \n",
       "United States of America            3932.0        8239.0  "
      ]
     },
     "execution_count": 33,
     "metadata": {},
     "output_type": "execute_result"
    }
   ],
   "source": [
    "pivot = df5.pivot_table(index='COUNTRY', columns='KATEGORI PRODUK', values='QUANTITYORDERED')\n",
    "pivot"
   ]
  },
  {
   "cell_type": "code",
   "execution_count": 37,
   "metadata": {},
   "outputs": [
    {
     "data": {
      "text/plain": [
       "Text(0.5, 1.0, 'Jumlah Produk yang Terjual Berdasarkan Wilayah')"
      ]
     },
     "execution_count": 37,
     "metadata": {},
     "output_type": "execute_result"
    },
    {
     "data": {
      "image/png": "[encoded data removed]",
      "text/plain": [
       "<Figure size 720x504 with 1 Axes>"
      ]
     },
     "metadata": {
      "needs_background": "light"
     },
     "output_type": "display_data"
    }
   ],
   "source": [
    "pivot.plot.bar(stacked=True, figsize=(10,7))\n",
    "plt.ylabel('JUMLAH PRODUK TERJUAL')\n",
    "plt.xlabel('NEGARA')\n",
    "plt.title(\"Jumlah Produk yang Terjual Berdasarkan Wilayah\")"
   ]
  }
 ],
 "metadata": {
  "kernelspec": {
   "display_name": "Python 3",
   "language": "python",
   "name": "python3"
  },
  "language_info": {
   "codemirror_mode": {
    "name": "ipython",
    "version": 3
   },
   "file_extension": ".py",
   "mimetype": "text/x-python",
   "name": "python",
   "nbconvert_exporter": "python",
   "pygments_lexer": "ipython3",
   "version": "3.7.3"
  }
 },
 "nbformat": 4,
 "nbformat_minor": 2
}
